{
 "cells": [
  {
   "cell_type": "markdown",
   "id": "cd566a8c",
   "metadata": {},
   "source": [
    "# Notebook : étude de santé publique avec Python"
   ]
  },
  {
   "cell_type": "markdown",
   "id": "a5fd90d2",
   "metadata": {},
   "source": [
    "# Mission\n",
    " Réaliser une étude de grande ampleur sur le thème de la sous-nutrition dans le monde. "
   ]
  },
  {
   "cell_type": "markdown",
   "id": "9ed738e0",
   "metadata": {},
   "source": [
    "# 1. Importation des librairies"
   ]
  },
  {
   "cell_type": "markdown",
   "id": "ee7282ef",
   "metadata": {},
   "source": [
    "Librairie  : Un package est simplement un dossier contenant plusieurs fichiers Python (.py) "
   ]
  },
  {
   "cell_type": "code",
   "execution_count": 1,
   "id": "e3ccdb67",
   "metadata": {
    "scrolled": true
   },
   "outputs": [
    {
     "name": "stdout",
     "output_type": "stream",
     "text": [
      "Requirement already satisfied: pandas in c:\\users\\hp\\anaconda3\\lib\\site-packages (1.3.4)\n",
      "Requirement already satisfied: numpy>=1.17.3 in c:\\users\\hp\\anaconda3\\lib\\site-packages (from pandas) (1.20.3)\n",
      "Requirement already satisfied: pytz>=2017.3 in c:\\users\\hp\\anaconda3\\lib\\site-packages (from pandas) (2021.3)\n",
      "Requirement already satisfied: python-dateutil>=2.7.3 in c:\\users\\hp\\anaconda3\\lib\\site-packages (from pandas) (2.8.2)\n",
      "Requirement already satisfied: six>=1.5 in c:\\users\\hp\\anaconda3\\lib\\site-packages (from python-dateutil>=2.7.3->pandas) (1.16.0)\n",
      "Requirement already satisfied: matplotlib in c:\\users\\hp\\anaconda3\\lib\\site-packages (3.4.3)\n",
      "Requirement already satisfied: pyparsing>=2.2.1 in c:\\users\\hp\\anaconda3\\lib\\site-packages (from matplotlib) (3.0.4)\n",
      "Requirement already satisfied: pillow>=6.2.0 in c:\\users\\hp\\anaconda3\\lib\\site-packages (from matplotlib) (8.4.0)\n",
      "Requirement already satisfied: cycler>=0.10 in c:\\users\\hp\\anaconda3\\lib\\site-packages (from matplotlib) (0.10.0)\n",
      "Requirement already satisfied: kiwisolver>=1.0.1 in c:\\users\\hp\\anaconda3\\lib\\site-packages (from matplotlib) (1.3.1)\n",
      "Requirement already satisfied: python-dateutil>=2.7 in c:\\users\\hp\\anaconda3\\lib\\site-packages (from matplotlib) (2.8.2)\n",
      "Requirement already satisfied: numpy>=1.16 in c:\\users\\hp\\anaconda3\\lib\\site-packages (from matplotlib) (1.20.3)\n",
      "Requirement already satisfied: six in c:\\users\\hp\\anaconda3\\lib\\site-packages (from cycler>=0.10->matplotlib) (1.16.0)\n"
     ]
    }
   ],
   "source": [
    "import sys\n",
    "!{sys.executable} -m pip install pandas\n",
    "!{sys.executable} -m pip install matplotlib"
   ]
  },
  {
   "cell_type": "code",
   "execution_count": 2,
   "id": "5ca4127c",
   "metadata": {},
   "outputs": [],
   "source": [
    "import numpy as np\n",
    "import pandas as pd\n",
    "from matplotlib import cm\n",
    "from matplotlib import colors\n",
    "import matplotlib.pyplot as plt\n",
    "import seaborn as sns"
   ]
  },
  {
   "cell_type": "markdown",
   "id": "bd97cb2d",
   "metadata": {},
   "source": [
    "# 2. Observation et nettoyage des fichiers"
   ]
  },
  {
   "cell_type": "markdown",
   "id": "0825df0c",
   "metadata": {},
   "source": [
    "Faire les observations des donnes et ainsi pouvoir parcourir chacune des colonnes pour détecter les erreurs, les corriger, puis actualiser les colonnes en conséquence.\n"
   ]
  },
  {
   "cell_type": "markdown",
   "id": "3691d804",
   "metadata": {},
   "source": [
    "## 2-1. Fichier aide_alimentaire.csv"
   ]
  },
  {
   "cell_type": "markdown",
   "id": "e6023576",
   "metadata": {},
   "source": [
    "Charger l'échantillon à partir de ce fichier CSV (qu'il vous faut télécharger) dans une variable que nous appellerons  data. Cette variable sera donc un dataframe."
   ]
  },
  {
   "cell_type": "code",
   "execution_count": 3,
   "id": "440aac02",
   "metadata": {
    "scrolled": true
   },
   "outputs": [],
   "source": [
    "aide1= pd.read_csv(\"aide_alimentaire.csv\")"
   ]
  },
  {
   "cell_type": "markdown",
   "id": "bdce151b",
   "metadata": {},
   "source": [
    "dataseat.head()"
   ]
  },
  {
   "cell_type": "markdown",
   "id": "aa51675c",
   "metadata": {},
   "source": [
    "Afficher les 5 premières lignes du dataframe aide1."
   ]
  },
  {
   "cell_type": "code",
   "execution_count": 4,
   "id": "6735d9c6",
   "metadata": {},
   "outputs": [
    {
     "data": {
      "text/html": [
       "<div>\n",
       "<style scoped>\n",
       "    .dataframe tbody tr th:only-of-type {\n",
       "        vertical-align: middle;\n",
       "    }\n",
       "\n",
       "    .dataframe tbody tr th {\n",
       "        vertical-align: top;\n",
       "    }\n",
       "\n",
       "    .dataframe thead th {\n",
       "        text-align: right;\n",
       "    }\n",
       "</style>\n",
       "<table border=\"1\" class=\"dataframe\">\n",
       "  <thead>\n",
       "    <tr style=\"text-align: right;\">\n",
       "      <th></th>\n",
       "      <th>Pays bénéficiaire</th>\n",
       "      <th>Année</th>\n",
       "      <th>Produit</th>\n",
       "      <th>Valeur</th>\n",
       "    </tr>\n",
       "  </thead>\n",
       "  <tbody>\n",
       "    <tr>\n",
       "      <th>0</th>\n",
       "      <td>Afghanistan</td>\n",
       "      <td>2013</td>\n",
       "      <td>Autres non-céréales</td>\n",
       "      <td>682</td>\n",
       "    </tr>\n",
       "    <tr>\n",
       "      <th>1</th>\n",
       "      <td>Afghanistan</td>\n",
       "      <td>2014</td>\n",
       "      <td>Autres non-céréales</td>\n",
       "      <td>335</td>\n",
       "    </tr>\n",
       "    <tr>\n",
       "      <th>2</th>\n",
       "      <td>Afghanistan</td>\n",
       "      <td>2013</td>\n",
       "      <td>Blé et Farin</td>\n",
       "      <td>39224</td>\n",
       "    </tr>\n",
       "    <tr>\n",
       "      <th>3</th>\n",
       "      <td>Afghanistan</td>\n",
       "      <td>2014</td>\n",
       "      <td>Blé et Farin</td>\n",
       "      <td>15160</td>\n",
       "    </tr>\n",
       "    <tr>\n",
       "      <th>4</th>\n",
       "      <td>Afghanistan</td>\n",
       "      <td>2013</td>\n",
       "      <td>Céréales</td>\n",
       "      <td>40504</td>\n",
       "    </tr>\n",
       "  </tbody>\n",
       "</table>\n",
       "</div>"
      ],
      "text/plain": [
       "  Pays bénéficiaire  Année              Produit  Valeur\n",
       "0       Afghanistan   2013  Autres non-céréales     682\n",
       "1       Afghanistan   2014  Autres non-céréales     335\n",
       "2       Afghanistan   2013         Blé et Farin   39224\n",
       "3       Afghanistan   2014         Blé et Farin   15160\n",
       "4       Afghanistan   2013             Céréales   40504"
      ]
     },
     "execution_count": 4,
     "metadata": {},
     "output_type": "execute_result"
    }
   ],
   "source": [
    "aide1.head()"
   ]
  },
  {
   "cell_type": "markdown",
   "id": "a08ca00a",
   "metadata": {},
   "source": [
    "Reennvoie les étiquettes de colonne du Dataframe."
   ]
  },
  {
   "cell_type": "code",
   "execution_count": 5,
   "id": "7838e809",
   "metadata": {},
   "outputs": [
    {
     "data": {
      "text/plain": [
       "Index(['Pays bénéficiaire', 'Année', 'Produit', 'Valeur'], dtype='object')"
      ]
     },
     "execution_count": 5,
     "metadata": {},
     "output_type": "execute_result"
    }
   ],
   "source": [
    "aide1.columns"
   ]
  },
  {
   "cell_type": "markdown",
   "id": "75a41a0b",
   "metadata": {},
   "source": [
    "Reenvoie les types de variable de chaque colonne attribué "
   ]
  },
  {
   "cell_type": "code",
   "execution_count": 6,
   "id": "b5344a61",
   "metadata": {},
   "outputs": [
    {
     "data": {
      "text/plain": [
       "Pays bénéficiaire    object\n",
       "Année                 int64\n",
       "Produit              object\n",
       "Valeur                int64\n",
       "dtype: object"
      ]
     },
     "execution_count": 6,
     "metadata": {},
     "output_type": "execute_result"
    }
   ],
   "source": [
    "aide1.dtypes"
   ]
  },
  {
   "cell_type": "markdown",
   "id": "266e0508",
   "metadata": {},
   "source": [
    "Cette méthode imprime des informations sur un DataFrame, y compris le dtype d’index et les colonnes, les valeurs non null et l’utilisation de la mémoire."
   ]
  },
  {
   "cell_type": "code",
   "execution_count": 7,
   "id": "56adbc4e",
   "metadata": {},
   "outputs": [
    {
     "name": "stdout",
     "output_type": "stream",
     "text": [
      "<class 'pandas.core.frame.DataFrame'>\n",
      "RangeIndex: 1475 entries, 0 to 1474\n",
      "Data columns (total 4 columns):\n",
      " #   Column             Non-Null Count  Dtype \n",
      "---  ------             --------------  ----- \n",
      " 0   Pays bénéficiaire  1475 non-null   object\n",
      " 1   Année              1475 non-null   int64 \n",
      " 2   Produit            1475 non-null   object\n",
      " 3   Valeur             1475 non-null   int64 \n",
      "dtypes: int64(2), object(2)\n",
      "memory usage: 46.2+ KB\n"
     ]
    }
   ],
   "source": [
    "aide1.info()"
   ]
  },
  {
   "cell_type": "markdown",
   "id": "5c503606",
   "metadata": {},
   "source": [
    "Propriété qui renvoie un tuple représentant la dimensionnalité du DataFrame. Le format de la forme serait (lignes, colonnes)."
   ]
  },
  {
   "cell_type": "code",
   "execution_count": 8,
   "id": "ded50fca",
   "metadata": {},
   "outputs": [
    {
     "data": {
      "text/plain": [
       "(1475, 4)"
      ]
     },
     "execution_count": 8,
     "metadata": {},
     "output_type": "execute_result"
    }
   ],
   "source": [
    "aide1.shape"
   ]
  },
  {
   "cell_type": "markdown",
   "id": "ce04fcdc",
   "metadata": {},
   "source": [
    " Renvoyer des valeurs uniques basées sur une table "
   ]
  },
  {
   "cell_type": "code",
   "execution_count": 9,
   "id": "54688fd0",
   "metadata": {},
   "outputs": [
    {
     "data": {
      "text/plain": [
       "array(['Afghanistan', 'Algérie', 'Angola', 'Bangladesh', 'Bénin',\n",
       "       'Bhoutan', 'Bolivie (État plurinational de)', 'Burkina Faso',\n",
       "       'Burundi', 'Cambodge', 'Cameroun', 'Chine, continentale',\n",
       "       'Colombie', 'Comores', 'Congo', \"Côte d'Ivoire\", 'Cuba',\n",
       "       'Djibouti', 'Égypte', 'El Salvador', 'Équateur', 'Éthiopie',\n",
       "       'Gambie', 'Géorgie', 'Ghana', 'Guatemala', 'Guinée',\n",
       "       'Guinée-Bissau', 'Haïti', 'Honduras',\n",
       "       \"Iran (République islamique d')\", 'Iraq', 'Jordanie', 'Kenya',\n",
       "       'Kirghizistan', 'Lesotho', 'Liban', 'Libéria', 'Libye',\n",
       "       'Madagascar', 'Malawi', 'Mali', 'Mauritanie', 'Mozambique',\n",
       "       'Myanmar', 'Népal', 'Nicaragua', 'Niger', 'Ouganda', 'Pakistan',\n",
       "       'Palestine', 'Philippines', 'République arabe syrienne',\n",
       "       'République centrafricaine', 'République démocratique du Congo',\n",
       "       'République démocratique populaire lao', 'République dominicaine',\n",
       "       'République populaire démocratique de Corée',\n",
       "       'République-Unie de Tanzanie', 'Rwanda', 'Sao Tomé-et-Principe',\n",
       "       'Sénégal', 'Sierra Leone', 'Somalie', 'Soudan', 'Soudan du Sud',\n",
       "       'Sri Lanka', 'Swaziland', 'Tadjikistan', 'Tchad', 'Timor-Leste',\n",
       "       'Togo', 'Vanuatu', 'Yémen', 'Zambie', 'Zimbabwe'], dtype=object)"
      ]
     },
     "execution_count": 9,
     "metadata": {},
     "output_type": "execute_result"
    }
   ],
   "source": [
    "aide1['Pays bénéficiaire'].unique()"
   ]
  },
  {
   "cell_type": "code",
   "execution_count": 10,
   "id": "2e9f9286",
   "metadata": {},
   "outputs": [
    {
     "data": {
      "text/plain": [
       "array([2013, 2014, 2015, 2016], dtype=int64)"
      ]
     },
     "execution_count": 10,
     "metadata": {},
     "output_type": "execute_result"
    }
   ],
   "source": [
    "aide1['Année'].unique()"
   ]
  },
  {
   "cell_type": "code",
   "execution_count": 11,
   "id": "139540f3",
   "metadata": {},
   "outputs": [
    {
     "data": {
      "text/plain": [
       "array(['Autres non-céréales', 'Blé et Farin', 'Céréales',\n",
       "       'Fruits secs, total', 'Huiles végétales',\n",
       "       'Légumineuses Sèches,Tot.', 'Non-céréales', 'Riz, total',\n",
       "       'Sucre, total', 'Céréales Secondaires', 'Lait, total',\n",
       "       'Mélanges et préparations', 'Poiss&produi', 'BulgurFarEnt',\n",
       "       'Viande Total', 'Graisses Com'], dtype=object)"
      ]
     },
     "execution_count": 11,
     "metadata": {},
     "output_type": "execute_result"
    }
   ],
   "source": [
    "aide1['Produit'].unique()"
   ]
  },
  {
   "cell_type": "markdown",
   "id": "82af7562",
   "metadata": {},
   "source": [
    "Compte des valeurs uniques "
   ]
  },
  {
   "cell_type": "code",
   "execution_count": 12,
   "id": "ad8530a5",
   "metadata": {},
   "outputs": [
    {
     "data": {
      "text/plain": [
       "Algérie                            39\n",
       "Yémen                              38\n",
       "République arabe syrienne          38\n",
       "Éthiopie                           33\n",
       "Nicaragua                          33\n",
       "                                   ..\n",
       "Angola                              4\n",
       "Zambie                              4\n",
       "Comores                             2\n",
       "Égypte                              2\n",
       "Bolivie (État plurinational de)     2\n",
       "Name: Pays bénéficiaire, Length: 76, dtype: int64"
      ]
     },
     "execution_count": 12,
     "metadata": {},
     "output_type": "execute_result"
    }
   ],
   "source": [
    "aide1['Pays bénéficiaire'].value_counts()"
   ]
  },
  {
   "cell_type": "code",
   "execution_count": 13,
   "id": "02f5bde3",
   "metadata": {},
   "outputs": [
    {
     "data": {
      "text/plain": [
       "Non-céréales                220\n",
       "Céréales                    200\n",
       "Huiles végétales            179\n",
       "Légumineuses Sèches,Tot.    171\n",
       "Riz, total                  147\n",
       "Mélanges et préparations    142\n",
       "Autres non-céréales         120\n",
       "Sucre, total                 67\n",
       "Céréales Secondaires         61\n",
       "Blé et Farin                 58\n",
       "Fruits secs, total           39\n",
       "BulgurFarEnt                 24\n",
       "Lait, total                  23\n",
       "Poiss&produi                 21\n",
       "Viande Total                  2\n",
       "Graisses Com                  1\n",
       "Name: Produit, dtype: int64"
      ]
     },
     "execution_count": 13,
     "metadata": {},
     "output_type": "execute_result"
    }
   ],
   "source": [
    "aide1['Produit'].value_counts()"
   ]
  },
  {
   "cell_type": "code",
   "execution_count": 14,
   "id": "81632069",
   "metadata": {},
   "outputs": [
    {
     "data": {
      "text/plain": [
       "2013    519\n",
       "2014    461\n",
       "2015    391\n",
       "2016    104\n",
       "Name: Année, dtype: int64"
      ]
     },
     "execution_count": 14,
     "metadata": {},
     "output_type": "execute_result"
    }
   ],
   "source": [
    "aide1['Année'].value_counts()"
   ]
  },
  {
   "cell_type": "markdown",
   "id": "c4c442bb",
   "metadata": {},
   "source": [
    "Calcul des statistiques élementaires (min,max,moyenne, écart type...) pour toutes les variables quantitatives"
   ]
  },
  {
   "cell_type": "code",
   "execution_count": 15,
   "id": "2adf5972",
   "metadata": {},
   "outputs": [
    {
     "data": {
      "text/html": [
       "<div>\n",
       "<style scoped>\n",
       "    .dataframe tbody tr th:only-of-type {\n",
       "        vertical-align: middle;\n",
       "    }\n",
       "\n",
       "    .dataframe tbody tr th {\n",
       "        vertical-align: top;\n",
       "    }\n",
       "\n",
       "    .dataframe thead th {\n",
       "        text-align: right;\n",
       "    }\n",
       "</style>\n",
       "<table border=\"1\" class=\"dataframe\">\n",
       "  <thead>\n",
       "    <tr style=\"text-align: right;\">\n",
       "      <th></th>\n",
       "      <th>Pays bénéficiaire</th>\n",
       "      <th>Année</th>\n",
       "      <th>Produit</th>\n",
       "      <th>Valeur</th>\n",
       "    </tr>\n",
       "  </thead>\n",
       "  <tbody>\n",
       "    <tr>\n",
       "      <th>count</th>\n",
       "      <td>1475</td>\n",
       "      <td>1475.000000</td>\n",
       "      <td>1475</td>\n",
       "      <td>1475.000000</td>\n",
       "    </tr>\n",
       "    <tr>\n",
       "      <th>unique</th>\n",
       "      <td>76</td>\n",
       "      <td>NaN</td>\n",
       "      <td>16</td>\n",
       "      <td>NaN</td>\n",
       "    </tr>\n",
       "    <tr>\n",
       "      <th>top</th>\n",
       "      <td>Algérie</td>\n",
       "      <td>NaN</td>\n",
       "      <td>Non-céréales</td>\n",
       "      <td>NaN</td>\n",
       "    </tr>\n",
       "    <tr>\n",
       "      <th>freq</th>\n",
       "      <td>39</td>\n",
       "      <td>NaN</td>\n",
       "      <td>220</td>\n",
       "      <td>NaN</td>\n",
       "    </tr>\n",
       "    <tr>\n",
       "      <th>mean</th>\n",
       "      <td>NaN</td>\n",
       "      <td>2014.054237</td>\n",
       "      <td>NaN</td>\n",
       "      <td>7481.966780</td>\n",
       "    </tr>\n",
       "    <tr>\n",
       "      <th>std</th>\n",
       "      <td>NaN</td>\n",
       "      <td>0.946916</td>\n",
       "      <td>NaN</td>\n",
       "      <td>23339.531424</td>\n",
       "    </tr>\n",
       "    <tr>\n",
       "      <th>min</th>\n",
       "      <td>NaN</td>\n",
       "      <td>2013.000000</td>\n",
       "      <td>NaN</td>\n",
       "      <td>0.000000</td>\n",
       "    </tr>\n",
       "    <tr>\n",
       "      <th>25%</th>\n",
       "      <td>NaN</td>\n",
       "      <td>2013.000000</td>\n",
       "      <td>NaN</td>\n",
       "      <td>287.500000</td>\n",
       "    </tr>\n",
       "    <tr>\n",
       "      <th>50%</th>\n",
       "      <td>NaN</td>\n",
       "      <td>2014.000000</td>\n",
       "      <td>NaN</td>\n",
       "      <td>1178.000000</td>\n",
       "    </tr>\n",
       "    <tr>\n",
       "      <th>75%</th>\n",
       "      <td>NaN</td>\n",
       "      <td>2015.000000</td>\n",
       "      <td>NaN</td>\n",
       "      <td>4334.500000</td>\n",
       "    </tr>\n",
       "    <tr>\n",
       "      <th>max</th>\n",
       "      <td>NaN</td>\n",
       "      <td>2016.000000</td>\n",
       "      <td>NaN</td>\n",
       "      <td>265013.000000</td>\n",
       "    </tr>\n",
       "  </tbody>\n",
       "</table>\n",
       "</div>"
      ],
      "text/plain": [
       "       Pays bénéficiaire        Année       Produit         Valeur\n",
       "count               1475  1475.000000          1475    1475.000000\n",
       "unique                76          NaN            16            NaN\n",
       "top              Algérie          NaN  Non-céréales            NaN\n",
       "freq                  39          NaN           220            NaN\n",
       "mean                 NaN  2014.054237           NaN    7481.966780\n",
       "std                  NaN     0.946916           NaN   23339.531424\n",
       "min                  NaN  2013.000000           NaN       0.000000\n",
       "25%                  NaN  2013.000000           NaN     287.500000\n",
       "50%                  NaN  2014.000000           NaN    1178.000000\n",
       "75%                  NaN  2015.000000           NaN    4334.500000\n",
       "max                  NaN  2016.000000           NaN  265013.000000"
      ]
     },
     "execution_count": 15,
     "metadata": {},
     "output_type": "execute_result"
    }
   ],
   "source": [
    "aide1.describe(include='all')"
   ]
  },
  {
   "cell_type": "markdown",
   "id": "5f7c61e7",
   "metadata": {},
   "source": [
    "isna() method (or it's alias isnull()  and then sum to count the NaN values. "
   ]
  },
  {
   "cell_type": "markdown",
   "id": "86a02dd6",
   "metadata": {},
   "source": [
    "**isna** converte chaqu'un des cellules df en un valeurs booleanset ensuite calculer la moyenne. les valeur booleans sont convertis en booleans et apres converti en valeur entiere 0 et 1 et ensuite la moyenne de les colonnes"
   ]
  },
  {
   "cell_type": "code",
   "execution_count": 16,
   "id": "855b7961",
   "metadata": {},
   "outputs": [
    {
     "data": {
      "text/plain": [
       "Pays bénéficiaire    0\n",
       "Année                0\n",
       "Produit              0\n",
       "Valeur               0\n",
       "dtype: int64"
      ]
     },
     "execution_count": 16,
     "metadata": {},
     "output_type": "execute_result"
    }
   ],
   "source": [
    "aide1.isna().sum()"
   ]
  },
  {
   "cell_type": "code",
   "execution_count": 17,
   "id": "170915ba",
   "metadata": {},
   "outputs": [
    {
     "data": {
      "text/plain": [
       "Pays bénéficiaire    0\n",
       "Année                0\n",
       "Produit              0\n",
       "Valeur               0\n",
       "dtype: int64"
      ]
     },
     "execution_count": 17,
     "metadata": {},
     "output_type": "execute_result"
    }
   ],
   "source": [
    "aide1.isnull().sum()"
   ]
  },
  {
   "cell_type": "markdown",
   "id": "a68092cf",
   "metadata": {},
   "source": [
    "### 2-1.1  Nettoyage"
   ]
  },
  {
   "cell_type": "markdown",
   "id": "0b158fb6",
   "metadata": {},
   "source": [
    "Synthétiserles jeux des données. Pretreatement de la base de données"
   ]
  },
  {
   "cell_type": "markdown",
   "id": "71334913",
   "metadata": {},
   "source": [
    "Renommer la colonne \"valeur\". -    \n",
    "Unite: Valeur est en tonnes (quantité qui a été donnée comme aide alimentaire), en tonnes=> mettre en Kg "
   ]
  },
  {
   "cell_type": "markdown",
   "id": "a56a292d",
   "metadata": {},
   "source": [
    " Changement de nom colonne Valeur a Aide_kg\n"
   ]
  },
  {
   "cell_type": "code",
   "execution_count": 18,
   "id": "3a34380e",
   "metadata": {
    "scrolled": true
   },
   "outputs": [
    {
     "data": {
      "text/html": [
       "<div>\n",
       "<style scoped>\n",
       "    .dataframe tbody tr th:only-of-type {\n",
       "        vertical-align: middle;\n",
       "    }\n",
       "\n",
       "    .dataframe tbody tr th {\n",
       "        vertical-align: top;\n",
       "    }\n",
       "\n",
       "    .dataframe thead th {\n",
       "        text-align: right;\n",
       "    }\n",
       "</style>\n",
       "<table border=\"1\" class=\"dataframe\">\n",
       "  <thead>\n",
       "    <tr style=\"text-align: right;\">\n",
       "      <th></th>\n",
       "      <th>Pays</th>\n",
       "      <th>Année</th>\n",
       "      <th>Produit</th>\n",
       "      <th>Aide_kg</th>\n",
       "    </tr>\n",
       "  </thead>\n",
       "  <tbody>\n",
       "    <tr>\n",
       "      <th>0</th>\n",
       "      <td>Afghanistan</td>\n",
       "      <td>2013</td>\n",
       "      <td>Autres non-céréales</td>\n",
       "      <td>682000</td>\n",
       "    </tr>\n",
       "    <tr>\n",
       "      <th>1</th>\n",
       "      <td>Afghanistan</td>\n",
       "      <td>2014</td>\n",
       "      <td>Autres non-céréales</td>\n",
       "      <td>335000</td>\n",
       "    </tr>\n",
       "    <tr>\n",
       "      <th>2</th>\n",
       "      <td>Afghanistan</td>\n",
       "      <td>2013</td>\n",
       "      <td>Blé et Farin</td>\n",
       "      <td>39224000</td>\n",
       "    </tr>\n",
       "    <tr>\n",
       "      <th>3</th>\n",
       "      <td>Afghanistan</td>\n",
       "      <td>2014</td>\n",
       "      <td>Blé et Farin</td>\n",
       "      <td>15160000</td>\n",
       "    </tr>\n",
       "    <tr>\n",
       "      <th>4</th>\n",
       "      <td>Afghanistan</td>\n",
       "      <td>2013</td>\n",
       "      <td>Céréales</td>\n",
       "      <td>40504000</td>\n",
       "    </tr>\n",
       "  </tbody>\n",
       "</table>\n",
       "</div>"
      ],
      "text/plain": [
       "          Pays  Année              Produit   Aide_kg\n",
       "0  Afghanistan   2013  Autres non-céréales    682000\n",
       "1  Afghanistan   2014  Autres non-céréales    335000\n",
       "2  Afghanistan   2013         Blé et Farin  39224000\n",
       "3  Afghanistan   2014         Blé et Farin  15160000\n",
       "4  Afghanistan   2013             Céréales  40504000"
      ]
     },
     "execution_count": 18,
     "metadata": {},
     "output_type": "execute_result"
    }
   ],
   "source": [
    "aide1.rename(columns={'Pays bénéficiaire':'Pays','Valeur':\"Aide_kg\"}, inplace=True) \n",
    "aide1['Aide_kg']*= 1000\n",
    "aide1.head()\n"
   ]
  },
  {
   "cell_type": "markdown",
   "id": "398658f8",
   "metadata": {},
   "source": [
    "Changement de nom en Pays valeur Swaziland à Eswatini"
   ]
  },
  {
   "cell_type": "code",
   "execution_count": 19,
   "id": "262d7351",
   "metadata": {},
   "outputs": [
    {
     "data": {
      "text/plain": [
       "array(['Afghanistan', 'Algérie', 'Angola', 'Bangladesh', 'Bénin',\n",
       "       'Bhoutan', 'Bolivie (État plurinational de)', 'Burkina Faso',\n",
       "       'Burundi', 'Cambodge', 'Cameroun', 'Chine, continentale',\n",
       "       'Colombie', 'Comores', 'Congo', \"Côte d'Ivoire\", 'Cuba',\n",
       "       'Djibouti', 'Égypte', 'El Salvador', 'Équateur', 'Éthiopie',\n",
       "       'Gambie', 'Géorgie', 'Ghana', 'Guatemala', 'Guinée',\n",
       "       'Guinée-Bissau', 'Haïti', 'Honduras',\n",
       "       \"Iran (République islamique d')\", 'Iraq', 'Jordanie', 'Kenya',\n",
       "       'Kirghizistan', 'Lesotho', 'Liban', 'Libéria', 'Libye',\n",
       "       'Madagascar', 'Malawi', 'Mali', 'Mauritanie', 'Mozambique',\n",
       "       'Myanmar', 'Népal', 'Nicaragua', 'Niger', 'Ouganda', 'Pakistan',\n",
       "       'Palestine', 'Philippines', 'République arabe syrienne',\n",
       "       'République centrafricaine', 'République démocratique du Congo',\n",
       "       'République démocratique populaire lao', 'République dominicaine',\n",
       "       'République populaire démocratique de Corée',\n",
       "       'République-Unie de Tanzanie', 'Rwanda', 'Sao Tomé-et-Principe',\n",
       "       'Sénégal', 'Sierra Leone', 'Somalie', 'Soudan', 'Soudan du Sud',\n",
       "       'Sri Lanka', 'Eswatini', 'Tadjikistan', 'Tchad', 'Timor-Leste',\n",
       "       'Togo', 'Vanuatu', 'Yémen', 'Zambie', 'Zimbabwe'], dtype=object)"
      ]
     },
     "execution_count": 19,
     "metadata": {},
     "output_type": "execute_result"
    }
   ],
   "source": [
    "\n",
    "aide1['Pays']= aide1['Pays'].replace(['Swaziland'],'Eswatini')\n",
    "aide1['Pays'].unique()"
   ]
  },
  {
   "cell_type": "markdown",
   "id": "7259b305",
   "metadata": {},
   "source": [
    "### 2-2. Fichier population.csv"
   ]
  },
  {
   "cell_type": "code",
   "execution_count": 20,
   "id": "818b8351",
   "metadata": {},
   "outputs": [],
   "source": [
    "pop1 = pd.read_csv('population.csv')"
   ]
  },
  {
   "cell_type": "markdown",
   "id": "cdd29ff3",
   "metadata": {},
   "source": [
    "dataseat.head()"
   ]
  },
  {
   "cell_type": "code",
   "execution_count": 21,
   "id": "4a7b4635",
   "metadata": {},
   "outputs": [
    {
     "data": {
      "text/html": [
       "<div>\n",
       "<style scoped>\n",
       "    .dataframe tbody tr th:only-of-type {\n",
       "        vertical-align: middle;\n",
       "    }\n",
       "\n",
       "    .dataframe tbody tr th {\n",
       "        vertical-align: top;\n",
       "    }\n",
       "\n",
       "    .dataframe thead th {\n",
       "        text-align: right;\n",
       "    }\n",
       "</style>\n",
       "<table border=\"1\" class=\"dataframe\">\n",
       "  <thead>\n",
       "    <tr style=\"text-align: right;\">\n",
       "      <th></th>\n",
       "      <th>Zone</th>\n",
       "      <th>Année</th>\n",
       "      <th>Valeur</th>\n",
       "    </tr>\n",
       "  </thead>\n",
       "  <tbody>\n",
       "    <tr>\n",
       "      <th>0</th>\n",
       "      <td>Afghanistan</td>\n",
       "      <td>2013</td>\n",
       "      <td>32269.589</td>\n",
       "    </tr>\n",
       "    <tr>\n",
       "      <th>1</th>\n",
       "      <td>Afghanistan</td>\n",
       "      <td>2014</td>\n",
       "      <td>33370.794</td>\n",
       "    </tr>\n",
       "    <tr>\n",
       "      <th>2</th>\n",
       "      <td>Afghanistan</td>\n",
       "      <td>2015</td>\n",
       "      <td>34413.603</td>\n",
       "    </tr>\n",
       "    <tr>\n",
       "      <th>3</th>\n",
       "      <td>Afghanistan</td>\n",
       "      <td>2016</td>\n",
       "      <td>35383.032</td>\n",
       "    </tr>\n",
       "    <tr>\n",
       "      <th>4</th>\n",
       "      <td>Afghanistan</td>\n",
       "      <td>2017</td>\n",
       "      <td>36296.113</td>\n",
       "    </tr>\n",
       "  </tbody>\n",
       "</table>\n",
       "</div>"
      ],
      "text/plain": [
       "          Zone  Année     Valeur\n",
       "0  Afghanistan   2013  32269.589\n",
       "1  Afghanistan   2014  33370.794\n",
       "2  Afghanistan   2015  34413.603\n",
       "3  Afghanistan   2016  35383.032\n",
       "4  Afghanistan   2017  36296.113"
      ]
     },
     "execution_count": 21,
     "metadata": {},
     "output_type": "execute_result"
    }
   ],
   "source": [
    "pop1.head()"
   ]
  },
  {
   "cell_type": "code",
   "execution_count": 22,
   "id": "e41451a6",
   "metadata": {},
   "outputs": [
    {
     "data": {
      "text/plain": [
       "Index(['Zone', 'Année', 'Valeur'], dtype='object')"
      ]
     },
     "execution_count": 22,
     "metadata": {},
     "output_type": "execute_result"
    }
   ],
   "source": [
    "pop1.columns"
   ]
  },
  {
   "cell_type": "code",
   "execution_count": 23,
   "id": "1382d30c",
   "metadata": {},
   "outputs": [
    {
     "data": {
      "text/plain": [
       "Zone       object\n",
       "Année       int64\n",
       "Valeur    float64\n",
       "dtype: object"
      ]
     },
     "execution_count": 23,
     "metadata": {},
     "output_type": "execute_result"
    }
   ],
   "source": [
    "pop1.dtypes"
   ]
  },
  {
   "cell_type": "code",
   "execution_count": 24,
   "id": "b2728f2b",
   "metadata": {},
   "outputs": [
    {
     "name": "stdout",
     "output_type": "stream",
     "text": [
      "<class 'pandas.core.frame.DataFrame'>\n",
      "RangeIndex: 1416 entries, 0 to 1415\n",
      "Data columns (total 3 columns):\n",
      " #   Column  Non-Null Count  Dtype  \n",
      "---  ------  --------------  -----  \n",
      " 0   Zone    1416 non-null   object \n",
      " 1   Année   1416 non-null   int64  \n",
      " 2   Valeur  1416 non-null   float64\n",
      "dtypes: float64(1), int64(1), object(1)\n",
      "memory usage: 33.3+ KB\n"
     ]
    }
   ],
   "source": [
    "pop1.info()"
   ]
  },
  {
   "cell_type": "code",
   "execution_count": 25,
   "id": "e584d12a",
   "metadata": {},
   "outputs": [
    {
     "data": {
      "text/plain": [
       "(1416, 3)"
      ]
     },
     "execution_count": 25,
     "metadata": {},
     "output_type": "execute_result"
    }
   ],
   "source": [
    "pop1.shape"
   ]
  },
  {
   "cell_type": "markdown",
   "id": "43a8bfaf",
   "metadata": {},
   "source": [
    "Nombre des valeurs differentes population (pop1)"
   ]
  },
  {
   "cell_type": "code",
   "execution_count": 26,
   "id": "9cc8f7f1",
   "metadata": {},
   "outputs": [
    {
     "data": {
      "text/plain": [
       "array(['Afghanistan', 'Afrique du Sud', 'Albanie', 'Algérie', 'Allemagne',\n",
       "       'Andorre', 'Angola', 'Anguilla', 'Antigua-et-Barbuda',\n",
       "       'Antilles néerlandaises (ex)', 'Arabie saoudite', 'Argentine',\n",
       "       'Arménie', 'Aruba', 'Australie', 'Autriche', 'Azerbaïdjan',\n",
       "       'Bahamas', 'Bahreïn', 'Bangladesh', 'Barbade', 'Bélarus',\n",
       "       'Belgique', 'Belize', 'Bénin', 'Bermudes', 'Bhoutan',\n",
       "       'Bolivie (État plurinational de)',\n",
       "       'Bonaire, Saint-Eustache et Saba', 'Bosnie-Herzégovine',\n",
       "       'Botswana', 'Brésil', 'Brunéi Darussalam', 'Bulgarie',\n",
       "       'Burkina Faso', 'Burundi', 'Cabo Verde', 'Cambodge', 'Cameroun',\n",
       "       'Canada', 'Chili', 'Chine - RAS de Hong-Kong',\n",
       "       'Chine - RAS de Macao', 'Chine, continentale',\n",
       "       'Chine, Taiwan Province de', 'Chypre', 'Colombie', 'Comores',\n",
       "       'Congo', 'Costa Rica', \"Côte d'Ivoire\", 'Croatie', 'Cuba',\n",
       "       'Curaçao', 'Danemark', 'Djibouti', 'Dominique', 'Égypte',\n",
       "       'El Salvador', 'Émirats arabes unis', 'Équateur', 'Érythrée',\n",
       "       'Espagne', 'Estonie', 'Eswatini', \"États-Unis d'Amérique\",\n",
       "       'Éthiopie', 'Fédération de Russie', 'Fidji', 'Finlande', 'France',\n",
       "       'Gabon', 'Gambie', 'Géorgie', 'Ghana', 'Gibraltar', 'Grèce',\n",
       "       'Grenade', 'Groenland', 'Guadeloupe', 'Guam', 'Guatemala',\n",
       "       'Guinée', 'Guinée équatoriale', 'Guinée-Bissau', 'Guyana',\n",
       "       'Guyane française', 'Haïti', 'Honduras', 'Hongrie', 'Île de Man',\n",
       "       'Îles Anglo-Normandes', 'Îles Caïmanes', 'Îles Cook',\n",
       "       'Îles Falkland (Malvinas)', 'Îles Féroé', 'Îles Mariannes du Nord',\n",
       "       'Îles Marshall', 'Îles Salomon', 'Îles Turques-et-Caïques',\n",
       "       'Îles Vierges américaines', 'Îles Vierges britanniques',\n",
       "       'Îles Wallis-et-Futuna', 'Inde', 'Indonésie',\n",
       "       \"Iran (République islamique d')\", 'Iraq', 'Irlande', 'Islande',\n",
       "       'Israël', 'Italie', 'Jamaïque', 'Japon', 'Jordanie', 'Kazakhstan',\n",
       "       'Kenya', 'Kirghizistan', 'Kiribati', 'Koweït', 'Lesotho',\n",
       "       'Lettonie', 'Liban', 'Libéria', 'Libye', 'Liechtenstein',\n",
       "       'Lituanie', 'Luxembourg', 'Macédoine du Nord', 'Madagascar',\n",
       "       'Malaisie', 'Malawi', 'Maldives', 'Mali', 'Malte', 'Maroc',\n",
       "       'Martinique', 'Maurice', 'Mauritanie', 'Mayotte', 'Mexique',\n",
       "       'Micronésie (États fédérés de)', 'Monaco', 'Mongolie',\n",
       "       'Monténégro', 'Montserrat', 'Mozambique', 'Myanmar', 'Namibie',\n",
       "       'Nauru', 'Népal', 'Nicaragua', 'Niger', 'Nigéria', 'Nioué',\n",
       "       'Norvège', 'Nouvelle-Calédonie', 'Nouvelle-Zélande', 'Oman',\n",
       "       'Ouganda', 'Ouzbékistan', 'Pakistan', 'Palaos', 'Palestine',\n",
       "       'Panama', 'Papouasie-Nouvelle-Guinée', 'Paraguay', 'Pays-Bas',\n",
       "       'Pérou', 'Philippines', 'Pologne', 'Polynésie française',\n",
       "       'Porto Rico', 'Portugal', 'Qatar', 'République arabe syrienne',\n",
       "       'République centrafricaine', 'République de Corée',\n",
       "       'République de Moldova', 'République démocratique du Congo',\n",
       "       'République démocratique populaire lao', 'République dominicaine',\n",
       "       'République populaire démocratique de Corée',\n",
       "       'République-Unie de Tanzanie', 'Réunion', 'Roumanie',\n",
       "       \"Royaume-Uni de Grande-Bretagne et d'Irlande du Nord\", 'Rwanda',\n",
       "       'Sahara occidental', 'Saint-Barthélemy',\n",
       "       'Sainte-Hélène, Ascension et Tristan da Cunha', 'Sainte-Lucie',\n",
       "       'Saint-Kitts-et-Nevis', 'Saint-Marin',\n",
       "       'Saint-Martin (partie française)', 'Saint-Pierre-et-Miquelon',\n",
       "       'Saint-Siège', 'Saint-Vincent-et-les Grenadines', 'Samoa',\n",
       "       'Samoa américaines', 'Sao Tomé-et-Principe', 'Sénégal', 'Serbie',\n",
       "       'Seychelles', 'Sierra Leone', 'Singapour',\n",
       "       'Sint Maarten  (partie néerlandaise)', 'Slovaquie', 'Slovénie',\n",
       "       'Somalie', 'Soudan', 'Soudan du Sud', 'Sri Lanka', 'Suède',\n",
       "       'Suisse', 'Suriname', 'Tadjikistan', 'Tchad', 'Tchéquie',\n",
       "       'Thaïlande', 'Timor-Leste', 'Togo', 'Tokélaou', 'Tonga',\n",
       "       'Trinité-et-Tobago', 'Tunisie', 'Turkménistan', 'Turquie',\n",
       "       'Tuvalu', 'Ukraine', 'Uruguay', 'Vanuatu',\n",
       "       'Venezuela (République bolivarienne du)', 'Viet Nam', 'Yémen',\n",
       "       'Zambie', 'Zimbabwe'], dtype=object)"
      ]
     },
     "execution_count": 26,
     "metadata": {},
     "output_type": "execute_result"
    }
   ],
   "source": [
    "pop1['Zone'].unique()"
   ]
  },
  {
   "cell_type": "code",
   "execution_count": 27,
   "id": "5ea64896",
   "metadata": {},
   "outputs": [
    {
     "data": {
      "text/plain": [
       "236"
      ]
     },
     "execution_count": 27,
     "metadata": {},
     "output_type": "execute_result"
    }
   ],
   "source": [
    "pop1['Zone'].nunique()"
   ]
  },
  {
   "cell_type": "code",
   "execution_count": 28,
   "id": "6b2d9cf4",
   "metadata": {},
   "outputs": [
    {
     "data": {
      "text/plain": [
       "array([2013, 2014, 2015, 2016, 2017, 2018], dtype=int64)"
      ]
     },
     "execution_count": 28,
     "metadata": {},
     "output_type": "execute_result"
    }
   ],
   "source": [
    "pop1['Année'].unique()"
   ]
  },
  {
   "cell_type": "markdown",
   "id": "a668ffa4",
   "metadata": {},
   "source": [
    "Calcul des statistiques élementaires (min,max,moyenne, écart type...) pour toutes les variables quantitatives"
   ]
  },
  {
   "cell_type": "code",
   "execution_count": 29,
   "id": "9d44fe34",
   "metadata": {},
   "outputs": [
    {
     "data": {
      "text/html": [
       "<div>\n",
       "<style scoped>\n",
       "    .dataframe tbody tr th:only-of-type {\n",
       "        vertical-align: middle;\n",
       "    }\n",
       "\n",
       "    .dataframe tbody tr th {\n",
       "        vertical-align: top;\n",
       "    }\n",
       "\n",
       "    .dataframe thead th {\n",
       "        text-align: right;\n",
       "    }\n",
       "</style>\n",
       "<table border=\"1\" class=\"dataframe\">\n",
       "  <thead>\n",
       "    <tr style=\"text-align: right;\">\n",
       "      <th></th>\n",
       "      <th>Zone</th>\n",
       "      <th>Année</th>\n",
       "      <th>Valeur</th>\n",
       "    </tr>\n",
       "  </thead>\n",
       "  <tbody>\n",
       "    <tr>\n",
       "      <th>count</th>\n",
       "      <td>1416</td>\n",
       "      <td>1416.000000</td>\n",
       "      <td>1.416000e+03</td>\n",
       "    </tr>\n",
       "    <tr>\n",
       "      <th>unique</th>\n",
       "      <td>236</td>\n",
       "      <td>NaN</td>\n",
       "      <td>NaN</td>\n",
       "    </tr>\n",
       "    <tr>\n",
       "      <th>top</th>\n",
       "      <td>Afghanistan</td>\n",
       "      <td>NaN</td>\n",
       "      <td>NaN</td>\n",
       "    </tr>\n",
       "    <tr>\n",
       "      <th>freq</th>\n",
       "      <td>6</td>\n",
       "      <td>NaN</td>\n",
       "      <td>NaN</td>\n",
       "    </tr>\n",
       "    <tr>\n",
       "      <th>mean</th>\n",
       "      <td>NaN</td>\n",
       "      <td>2015.500000</td>\n",
       "      <td>3.144793e+04</td>\n",
       "    </tr>\n",
       "    <tr>\n",
       "      <th>std</th>\n",
       "      <td>NaN</td>\n",
       "      <td>1.708428</td>\n",
       "      <td>1.300812e+05</td>\n",
       "    </tr>\n",
       "    <tr>\n",
       "      <th>min</th>\n",
       "      <td>NaN</td>\n",
       "      <td>2013.000000</td>\n",
       "      <td>7.930000e-01</td>\n",
       "    </tr>\n",
       "    <tr>\n",
       "      <th>25%</th>\n",
       "      <td>NaN</td>\n",
       "      <td>2014.000000</td>\n",
       "      <td>3.783410e+02</td>\n",
       "    </tr>\n",
       "    <tr>\n",
       "      <th>50%</th>\n",
       "      <td>NaN</td>\n",
       "      <td>2015.500000</td>\n",
       "      <td>5.126480e+03</td>\n",
       "    </tr>\n",
       "    <tr>\n",
       "      <th>75%</th>\n",
       "      <td>NaN</td>\n",
       "      <td>2017.000000</td>\n",
       "      <td>1.930666e+04</td>\n",
       "    </tr>\n",
       "    <tr>\n",
       "      <th>max</th>\n",
       "      <td>NaN</td>\n",
       "      <td>2018.000000</td>\n",
       "      <td>1.427648e+06</td>\n",
       "    </tr>\n",
       "  </tbody>\n",
       "</table>\n",
       "</div>"
      ],
      "text/plain": [
       "               Zone        Année        Valeur\n",
       "count          1416  1416.000000  1.416000e+03\n",
       "unique          236          NaN           NaN\n",
       "top     Afghanistan          NaN           NaN\n",
       "freq              6          NaN           NaN\n",
       "mean            NaN  2015.500000  3.144793e+04\n",
       "std             NaN     1.708428  1.300812e+05\n",
       "min             NaN  2013.000000  7.930000e-01\n",
       "25%             NaN  2014.000000  3.783410e+02\n",
       "50%             NaN  2015.500000  5.126480e+03\n",
       "75%             NaN  2017.000000  1.930666e+04\n",
       "max             NaN  2018.000000  1.427648e+06"
      ]
     },
     "execution_count": 29,
     "metadata": {},
     "output_type": "execute_result"
    }
   ],
   "source": [
    "pop1.describe(include='all')"
   ]
  },
  {
   "cell_type": "markdown",
   "id": "146f65a2",
   "metadata": {},
   "source": [
    "The isna() method (or it's alias isnull()  and then sum to count the NaN values. "
   ]
  },
  {
   "cell_type": "code",
   "execution_count": 30,
   "id": "ebdb1502",
   "metadata": {},
   "outputs": [
    {
     "data": {
      "text/plain": [
       "Zone      0\n",
       "Année     0\n",
       "Valeur    0\n",
       "dtype: int64"
      ]
     },
     "execution_count": 30,
     "metadata": {},
     "output_type": "execute_result"
    }
   ],
   "source": [
    "pop1.isna().sum()"
   ]
  },
  {
   "cell_type": "code",
   "execution_count": 31,
   "id": "18503bba",
   "metadata": {},
   "outputs": [
    {
     "data": {
      "text/plain": [
       "Zone      0\n",
       "Année     0\n",
       "Valeur    0\n",
       "dtype: int64"
      ]
     },
     "execution_count": 31,
     "metadata": {},
     "output_type": "execute_result"
    }
   ],
   "source": [
    "pop1.isnull().sum()"
   ]
  },
  {
   "cell_type": "markdown",
   "id": "83c21a42",
   "metadata": {},
   "source": [
    "### 2-2.1 Nettoyage"
   ]
  },
  {
   "cell_type": "markdown",
   "id": "7a7f6a3a",
   "metadata": {},
   "source": [
    " ### Commentaires pop1\n",
    "Renommer la colonne \"Zone\" et \"Valeur\".  -\n",
    "Unite: Valeur est en milliers d'habitants.\n",
    "\n",
    "Changement de nom Zone à Pays et Valeur et mettre en milliers d'habitants  "
   ]
  },
  {
   "cell_type": "code",
   "execution_count": 32,
   "id": "55a3dd8f",
   "metadata": {},
   "outputs": [
    {
     "data": {
      "text/html": [
       "<div>\n",
       "<style scoped>\n",
       "    .dataframe tbody tr th:only-of-type {\n",
       "        vertical-align: middle;\n",
       "    }\n",
       "\n",
       "    .dataframe tbody tr th {\n",
       "        vertical-align: top;\n",
       "    }\n",
       "\n",
       "    .dataframe thead th {\n",
       "        text-align: right;\n",
       "    }\n",
       "</style>\n",
       "<table border=\"1\" class=\"dataframe\">\n",
       "  <thead>\n",
       "    <tr style=\"text-align: right;\">\n",
       "      <th></th>\n",
       "      <th>Pays</th>\n",
       "      <th>Année</th>\n",
       "      <th>Pop</th>\n",
       "    </tr>\n",
       "  </thead>\n",
       "  <tbody>\n",
       "    <tr>\n",
       "      <th>0</th>\n",
       "      <td>Afghanistan</td>\n",
       "      <td>2013</td>\n",
       "      <td>32269589.0</td>\n",
       "    </tr>\n",
       "    <tr>\n",
       "      <th>1</th>\n",
       "      <td>Afghanistan</td>\n",
       "      <td>2014</td>\n",
       "      <td>33370794.0</td>\n",
       "    </tr>\n",
       "    <tr>\n",
       "      <th>2</th>\n",
       "      <td>Afghanistan</td>\n",
       "      <td>2015</td>\n",
       "      <td>34413603.0</td>\n",
       "    </tr>\n",
       "    <tr>\n",
       "      <th>3</th>\n",
       "      <td>Afghanistan</td>\n",
       "      <td>2016</td>\n",
       "      <td>35383032.0</td>\n",
       "    </tr>\n",
       "    <tr>\n",
       "      <th>4</th>\n",
       "      <td>Afghanistan</td>\n",
       "      <td>2017</td>\n",
       "      <td>36296113.0</td>\n",
       "    </tr>\n",
       "  </tbody>\n",
       "</table>\n",
       "</div>"
      ],
      "text/plain": [
       "          Pays  Année         Pop\n",
       "0  Afghanistan   2013  32269589.0\n",
       "1  Afghanistan   2014  33370794.0\n",
       "2  Afghanistan   2015  34413603.0\n",
       "3  Afghanistan   2016  35383032.0\n",
       "4  Afghanistan   2017  36296113.0"
      ]
     },
     "execution_count": 32,
     "metadata": {},
     "output_type": "execute_result"
    }
   ],
   "source": [
    "pop1.rename(columns={\"Zone\":\"Pays\", \"Valeur\":\"Pop\"}, inplace=True) \n",
    "pop1['Pop']*= 1000\n",
    "pop1.head()"
   ]
  },
  {
   "cell_type": "markdown",
   "id": "cdc818ef",
   "metadata": {},
   "source": [
    "Changement de nom en Pays valeur Royaume-Uni de Grande-Bretagne et d'Irlande du Nord à Royaume-Uni"
   ]
  },
  {
   "cell_type": "code",
   "execution_count": 33,
   "id": "a2de60e8",
   "metadata": {},
   "outputs": [
    {
     "data": {
      "text/plain": [
       "array(['Afghanistan', 'Afrique du Sud', 'Albanie', 'Algérie', 'Allemagne',\n",
       "       'Andorre', 'Angola', 'Anguilla', 'Antigua-et-Barbuda',\n",
       "       'Antilles néerlandaises (ex)', 'Arabie saoudite', 'Argentine',\n",
       "       'Arménie', 'Aruba', 'Australie', 'Autriche', 'Azerbaïdjan',\n",
       "       'Bahamas', 'Bahreïn', 'Bangladesh', 'Barbade', 'Bélarus',\n",
       "       'Belgique', 'Belize', 'Bénin', 'Bermudes', 'Bhoutan',\n",
       "       'Bolivie (État plurinational de)',\n",
       "       'Bonaire, Saint-Eustache et Saba', 'Bosnie-Herzégovine',\n",
       "       'Botswana', 'Brésil', 'Brunéi Darussalam', 'Bulgarie',\n",
       "       'Burkina Faso', 'Burundi', 'Cabo Verde', 'Cambodge', 'Cameroun',\n",
       "       'Canada', 'Chili', 'Chine - RAS de Hong-Kong',\n",
       "       'Chine - RAS de Macao', 'Chine, continentale',\n",
       "       'Chine, Taiwan Province de', 'Chypre', 'Colombie', 'Comores',\n",
       "       'Congo', 'Costa Rica', \"Côte d'Ivoire\", 'Croatie', 'Cuba',\n",
       "       'Curaçao', 'Danemark', 'Djibouti', 'Dominique', 'Égypte',\n",
       "       'El Salvador', 'Émirats arabes unis', 'Équateur', 'Érythrée',\n",
       "       'Espagne', 'Estonie', 'Eswatini', \"États-Unis d'Amérique\",\n",
       "       'Éthiopie', 'Fédération de Russie', 'Fidji', 'Finlande', 'France',\n",
       "       'Gabon', 'Gambie', 'Géorgie', 'Ghana', 'Gibraltar', 'Grèce',\n",
       "       'Grenade', 'Groenland', 'Guadeloupe', 'Guam', 'Guatemala',\n",
       "       'Guinée', 'Guinée équatoriale', 'Guinée-Bissau', 'Guyana',\n",
       "       'Guyane française', 'Haïti', 'Honduras', 'Hongrie', 'Île de Man',\n",
       "       'Îles Anglo-Normandes', 'Îles Caïmanes', 'Îles Cook',\n",
       "       'Îles Falkland (Malvinas)', 'Îles Féroé', 'Îles Mariannes du Nord',\n",
       "       'Îles Marshall', 'Îles Salomon', 'Îles Turques-et-Caïques',\n",
       "       'Îles Vierges américaines', 'Îles Vierges britanniques',\n",
       "       'Îles Wallis-et-Futuna', 'Inde', 'Indonésie',\n",
       "       \"Iran (République islamique d')\", 'Iraq', 'Irlande', 'Islande',\n",
       "       'Israël', 'Italie', 'Jamaïque', 'Japon', 'Jordanie', 'Kazakhstan',\n",
       "       'Kenya', 'Kirghizistan', 'Kiribati', 'Koweït', 'Lesotho',\n",
       "       'Lettonie', 'Liban', 'Libéria', 'Libye', 'Liechtenstein',\n",
       "       'Lituanie', 'Luxembourg', 'Macédoine du Nord', 'Madagascar',\n",
       "       'Malaisie', 'Malawi', 'Maldives', 'Mali', 'Malte', 'Maroc',\n",
       "       'Martinique', 'Maurice', 'Mauritanie', 'Mayotte', 'Mexique',\n",
       "       'Micronésie (États fédérés de)', 'Monaco', 'Mongolie',\n",
       "       'Monténégro', 'Montserrat', 'Mozambique', 'Myanmar', 'Namibie',\n",
       "       'Nauru', 'Népal', 'Nicaragua', 'Niger', 'Nigéria', 'Nioué',\n",
       "       'Norvège', 'Nouvelle-Calédonie', 'Nouvelle-Zélande', 'Oman',\n",
       "       'Ouganda', 'Ouzbékistan', 'Pakistan', 'Palaos', 'Palestine',\n",
       "       'Panama', 'Papouasie-Nouvelle-Guinée', 'Paraguay', 'Pays-Bas',\n",
       "       'Pérou', 'Philippines', 'Pologne', 'Polynésie française',\n",
       "       'Porto Rico', 'Portugal', 'Qatar', 'République arabe syrienne',\n",
       "       'République centrafricaine', 'République de Corée',\n",
       "       'République de Moldova', 'République démocratique du Congo',\n",
       "       'République démocratique populaire lao', 'République dominicaine',\n",
       "       'République populaire démocratique de Corée',\n",
       "       'République-Unie de Tanzanie', 'Réunion', 'Roumanie',\n",
       "       'Royaume-Uni', 'Rwanda', 'Sahara occidental', 'Saint-Barthélemy',\n",
       "       'Sainte-Hélène, Ascension et Tristan da Cunha', 'Sainte-Lucie',\n",
       "       'Saint-Kitts-et-Nevis', 'Saint-Marin',\n",
       "       'Saint-Martin (partie française)', 'Saint-Pierre-et-Miquelon',\n",
       "       'Saint-Siège', 'Saint-Vincent-et-les Grenadines', 'Samoa',\n",
       "       'Samoa américaines', 'Sao Tomé-et-Principe', 'Sénégal', 'Serbie',\n",
       "       'Seychelles', 'Sierra Leone', 'Singapour',\n",
       "       'Sint Maarten  (partie néerlandaise)', 'Slovaquie', 'Slovénie',\n",
       "       'Somalie', 'Soudan', 'Soudan du Sud', 'Sri Lanka', 'Suède',\n",
       "       'Suisse', 'Suriname', 'Tadjikistan', 'Tchad', 'Tchéquie',\n",
       "       'Thaïlande', 'Timor-Leste', 'Togo', 'Tokélaou', 'Tonga',\n",
       "       'Trinité-et-Tobago', 'Tunisie', 'Turkménistan', 'Turquie',\n",
       "       'Tuvalu', 'Ukraine', 'Uruguay', 'Vanuatu',\n",
       "       'Venezuela (République bolivarienne du)', 'Viet Nam', 'Yémen',\n",
       "       'Zambie', 'Zimbabwe'], dtype=object)"
      ]
     },
     "execution_count": 33,
     "metadata": {},
     "output_type": "execute_result"
    }
   ],
   "source": [
    "\n",
    "pop1['Pays']= pop1['Pays'].replace([\"Royaume-Uni de Grande-Bretagne et d'Irlande du Nord\"],'Royaume-Uni')\n",
    "pop1['Pays'].unique()"
   ]
  },
  {
   "cell_type": "markdown",
   "id": "a1b717f9",
   "metadata": {},
   "source": [
    "### 2-3. Fichier dispo_alimentaire.csv"
   ]
  },
  {
   "cell_type": "code",
   "execution_count": 34,
   "id": "0005070b",
   "metadata": {},
   "outputs": [],
   "source": [
    "dispo1 = pd.read_csv('dispo_alimentaire.csv')"
   ]
  },
  {
   "cell_type": "code",
   "execution_count": 35,
   "id": "5b9b11be",
   "metadata": {},
   "outputs": [
    {
     "data": {
      "text/html": [
       "<div>\n",
       "<style scoped>\n",
       "    .dataframe tbody tr th:only-of-type {\n",
       "        vertical-align: middle;\n",
       "    }\n",
       "\n",
       "    .dataframe tbody tr th {\n",
       "        vertical-align: top;\n",
       "    }\n",
       "\n",
       "    .dataframe thead th {\n",
       "        text-align: right;\n",
       "    }\n",
       "</style>\n",
       "<table border=\"1\" class=\"dataframe\">\n",
       "  <thead>\n",
       "    <tr style=\"text-align: right;\">\n",
       "      <th></th>\n",
       "      <th>Zone</th>\n",
       "      <th>Produit</th>\n",
       "      <th>Origine</th>\n",
       "      <th>Aliments pour animaux</th>\n",
       "      <th>Autres Utilisations</th>\n",
       "      <th>Disponibilité alimentaire (Kcal/personne/jour)</th>\n",
       "      <th>Disponibilité alimentaire en quantité (kg/personne/an)</th>\n",
       "      <th>Disponibilité de matière grasse en quantité (g/personne/jour)</th>\n",
       "      <th>Disponibilité de protéines en quantité (g/personne/jour)</th>\n",
       "      <th>Disponibilité intérieure</th>\n",
       "      <th>Exportations - Quantité</th>\n",
       "      <th>Importations - Quantité</th>\n",
       "      <th>Nourriture</th>\n",
       "      <th>Pertes</th>\n",
       "      <th>Production</th>\n",
       "      <th>Semences</th>\n",
       "      <th>Traitement</th>\n",
       "      <th>Variation de stock</th>\n",
       "    </tr>\n",
       "  </thead>\n",
       "  <tbody>\n",
       "    <tr>\n",
       "      <th>0</th>\n",
       "      <td>Afghanistan</td>\n",
       "      <td>Abats Comestible</td>\n",
       "      <td>animale</td>\n",
       "      <td>NaN</td>\n",
       "      <td>NaN</td>\n",
       "      <td>5.0</td>\n",
       "      <td>1.72</td>\n",
       "      <td>0.20</td>\n",
       "      <td>0.77</td>\n",
       "      <td>53.0</td>\n",
       "      <td>NaN</td>\n",
       "      <td>NaN</td>\n",
       "      <td>53.0</td>\n",
       "      <td>NaN</td>\n",
       "      <td>53.0</td>\n",
       "      <td>NaN</td>\n",
       "      <td>NaN</td>\n",
       "      <td>NaN</td>\n",
       "    </tr>\n",
       "    <tr>\n",
       "      <th>1</th>\n",
       "      <td>Afghanistan</td>\n",
       "      <td>Agrumes, Autres</td>\n",
       "      <td>vegetale</td>\n",
       "      <td>NaN</td>\n",
       "      <td>NaN</td>\n",
       "      <td>1.0</td>\n",
       "      <td>1.29</td>\n",
       "      <td>0.01</td>\n",
       "      <td>0.02</td>\n",
       "      <td>41.0</td>\n",
       "      <td>2.0</td>\n",
       "      <td>40.0</td>\n",
       "      <td>39.0</td>\n",
       "      <td>2.0</td>\n",
       "      <td>3.0</td>\n",
       "      <td>NaN</td>\n",
       "      <td>NaN</td>\n",
       "      <td>NaN</td>\n",
       "    </tr>\n",
       "    <tr>\n",
       "      <th>2</th>\n",
       "      <td>Afghanistan</td>\n",
       "      <td>Aliments pour enfants</td>\n",
       "      <td>vegetale</td>\n",
       "      <td>NaN</td>\n",
       "      <td>NaN</td>\n",
       "      <td>1.0</td>\n",
       "      <td>0.06</td>\n",
       "      <td>0.01</td>\n",
       "      <td>0.03</td>\n",
       "      <td>2.0</td>\n",
       "      <td>NaN</td>\n",
       "      <td>2.0</td>\n",
       "      <td>2.0</td>\n",
       "      <td>NaN</td>\n",
       "      <td>NaN</td>\n",
       "      <td>NaN</td>\n",
       "      <td>NaN</td>\n",
       "      <td>NaN</td>\n",
       "    </tr>\n",
       "    <tr>\n",
       "      <th>3</th>\n",
       "      <td>Afghanistan</td>\n",
       "      <td>Ananas</td>\n",
       "      <td>vegetale</td>\n",
       "      <td>NaN</td>\n",
       "      <td>NaN</td>\n",
       "      <td>0.0</td>\n",
       "      <td>0.00</td>\n",
       "      <td>NaN</td>\n",
       "      <td>NaN</td>\n",
       "      <td>0.0</td>\n",
       "      <td>NaN</td>\n",
       "      <td>0.0</td>\n",
       "      <td>0.0</td>\n",
       "      <td>NaN</td>\n",
       "      <td>NaN</td>\n",
       "      <td>NaN</td>\n",
       "      <td>NaN</td>\n",
       "      <td>NaN</td>\n",
       "    </tr>\n",
       "    <tr>\n",
       "      <th>4</th>\n",
       "      <td>Afghanistan</td>\n",
       "      <td>Bananes</td>\n",
       "      <td>vegetale</td>\n",
       "      <td>NaN</td>\n",
       "      <td>NaN</td>\n",
       "      <td>4.0</td>\n",
       "      <td>2.70</td>\n",
       "      <td>0.02</td>\n",
       "      <td>0.05</td>\n",
       "      <td>82.0</td>\n",
       "      <td>NaN</td>\n",
       "      <td>82.0</td>\n",
       "      <td>82.0</td>\n",
       "      <td>NaN</td>\n",
       "      <td>NaN</td>\n",
       "      <td>NaN</td>\n",
       "      <td>NaN</td>\n",
       "      <td>NaN</td>\n",
       "    </tr>\n",
       "  </tbody>\n",
       "</table>\n",
       "</div>"
      ],
      "text/plain": [
       "          Zone                Produit   Origine  Aliments pour animaux  \\\n",
       "0  Afghanistan       Abats Comestible   animale                    NaN   \n",
       "1  Afghanistan        Agrumes, Autres  vegetale                    NaN   \n",
       "2  Afghanistan  Aliments pour enfants  vegetale                    NaN   \n",
       "3  Afghanistan                 Ananas  vegetale                    NaN   \n",
       "4  Afghanistan                Bananes  vegetale                    NaN   \n",
       "\n",
       "   Autres Utilisations  Disponibilité alimentaire (Kcal/personne/jour)  \\\n",
       "0                  NaN                                             5.0   \n",
       "1                  NaN                                             1.0   \n",
       "2                  NaN                                             1.0   \n",
       "3                  NaN                                             0.0   \n",
       "4                  NaN                                             4.0   \n",
       "\n",
       "   Disponibilité alimentaire en quantité (kg/personne/an)  \\\n",
       "0                                               1.72        \n",
       "1                                               1.29        \n",
       "2                                               0.06        \n",
       "3                                               0.00        \n",
       "4                                               2.70        \n",
       "\n",
       "   Disponibilité de matière grasse en quantité (g/personne/jour)  \\\n",
       "0                                               0.20               \n",
       "1                                               0.01               \n",
       "2                                               0.01               \n",
       "3                                                NaN               \n",
       "4                                               0.02               \n",
       "\n",
       "   Disponibilité de protéines en quantité (g/personne/jour)  \\\n",
       "0                                               0.77          \n",
       "1                                               0.02          \n",
       "2                                               0.03          \n",
       "3                                                NaN          \n",
       "4                                               0.05          \n",
       "\n",
       "   Disponibilité intérieure  Exportations - Quantité  Importations - Quantité  \\\n",
       "0                      53.0                      NaN                      NaN   \n",
       "1                      41.0                      2.0                     40.0   \n",
       "2                       2.0                      NaN                      2.0   \n",
       "3                       0.0                      NaN                      0.0   \n",
       "4                      82.0                      NaN                     82.0   \n",
       "\n",
       "   Nourriture  Pertes  Production  Semences  Traitement  Variation de stock  \n",
       "0        53.0     NaN        53.0       NaN         NaN                 NaN  \n",
       "1        39.0     2.0         3.0       NaN         NaN                 NaN  \n",
       "2         2.0     NaN         NaN       NaN         NaN                 NaN  \n",
       "3         0.0     NaN         NaN       NaN         NaN                 NaN  \n",
       "4        82.0     NaN         NaN       NaN         NaN                 NaN  "
      ]
     },
     "execution_count": 35,
     "metadata": {},
     "output_type": "execute_result"
    }
   ],
   "source": [
    "dispo1.head()"
   ]
  },
  {
   "cell_type": "code",
   "execution_count": 36,
   "id": "fb8a0b09",
   "metadata": {},
   "outputs": [
    {
     "data": {
      "text/plain": [
       "Index(['Zone', 'Produit', 'Origine', 'Aliments pour animaux',\n",
       "       'Autres Utilisations', 'Disponibilité alimentaire (Kcal/personne/jour)',\n",
       "       'Disponibilité alimentaire en quantité (kg/personne/an)',\n",
       "       'Disponibilité de matière grasse en quantité (g/personne/jour)',\n",
       "       'Disponibilité de protéines en quantité (g/personne/jour)',\n",
       "       'Disponibilité intérieure', 'Exportations - Quantité',\n",
       "       'Importations - Quantité', 'Nourriture', 'Pertes', 'Production',\n",
       "       'Semences', 'Traitement', 'Variation de stock'],\n",
       "      dtype='object')"
      ]
     },
     "execution_count": 36,
     "metadata": {},
     "output_type": "execute_result"
    }
   ],
   "source": [
    "dispo1.columns"
   ]
  },
  {
   "cell_type": "code",
   "execution_count": 37,
   "id": "07803cba",
   "metadata": {},
   "outputs": [
    {
     "data": {
      "text/plain": [
       "Zone                                                              object\n",
       "Produit                                                           object\n",
       "Origine                                                           object\n",
       "Aliments pour animaux                                            float64\n",
       "Autres Utilisations                                              float64\n",
       "Disponibilité alimentaire (Kcal/personne/jour)                   float64\n",
       "Disponibilité alimentaire en quantité (kg/personne/an)           float64\n",
       "Disponibilité de matière grasse en quantité (g/personne/jour)    float64\n",
       "Disponibilité de protéines en quantité (g/personne/jour)         float64\n",
       "Disponibilité intérieure                                         float64\n",
       "Exportations - Quantité                                          float64\n",
       "Importations - Quantité                                          float64\n",
       "Nourriture                                                       float64\n",
       "Pertes                                                           float64\n",
       "Production                                                       float64\n",
       "Semences                                                         float64\n",
       "Traitement                                                       float64\n",
       "Variation de stock                                               float64\n",
       "dtype: object"
      ]
     },
     "execution_count": 37,
     "metadata": {},
     "output_type": "execute_result"
    }
   ],
   "source": [
    "dispo1.dtypes"
   ]
  },
  {
   "cell_type": "code",
   "execution_count": 38,
   "id": "08ca51ae",
   "metadata": {},
   "outputs": [
    {
     "name": "stdout",
     "output_type": "stream",
     "text": [
      "<class 'pandas.core.frame.DataFrame'>\n",
      "RangeIndex: 15605 entries, 0 to 15604\n",
      "Data columns (total 18 columns):\n",
      " #   Column                                                         Non-Null Count  Dtype  \n",
      "---  ------                                                         --------------  -----  \n",
      " 0   Zone                                                           15605 non-null  object \n",
      " 1   Produit                                                        15605 non-null  object \n",
      " 2   Origine                                                        15605 non-null  object \n",
      " 3   Aliments pour animaux                                          2720 non-null   float64\n",
      " 4   Autres Utilisations                                            5496 non-null   float64\n",
      " 5   Disponibilité alimentaire (Kcal/personne/jour)                 14241 non-null  float64\n",
      " 6   Disponibilité alimentaire en quantité (kg/personne/an)         14015 non-null  float64\n",
      " 7   Disponibilité de matière grasse en quantité (g/personne/jour)  11794 non-null  float64\n",
      " 8   Disponibilité de protéines en quantité (g/personne/jour)       11561 non-null  float64\n",
      " 9   Disponibilité intérieure                                       15382 non-null  float64\n",
      " 10  Exportations - Quantité                                        12226 non-null  float64\n",
      " 11  Importations - Quantité                                        14852 non-null  float64\n",
      " 12  Nourriture                                                     14015 non-null  float64\n",
      " 13  Pertes                                                         4278 non-null   float64\n",
      " 14  Production                                                     9180 non-null   float64\n",
      " 15  Semences                                                       2091 non-null   float64\n",
      " 16  Traitement                                                     2292 non-null   float64\n",
      " 17  Variation de stock                                             6776 non-null   float64\n",
      "dtypes: float64(15), object(3)\n",
      "memory usage: 2.1+ MB\n"
     ]
    }
   ],
   "source": [
    "dispo1.info()"
   ]
  },
  {
   "cell_type": "code",
   "execution_count": 39,
   "id": "3d368c2a",
   "metadata": {},
   "outputs": [
    {
     "data": {
      "text/plain": [
       "(15605, 18)"
      ]
     },
     "execution_count": 39,
     "metadata": {},
     "output_type": "execute_result"
    }
   ],
   "source": [
    "dispo1.shape"
   ]
  },
  {
   "cell_type": "markdown",
   "id": "b201a0d6",
   "metadata": {},
   "source": [
    "Nombre des valeurs differentes dispo_alimentaire (dispo1)"
   ]
  },
  {
   "cell_type": "code",
   "execution_count": 40,
   "id": "a1150880",
   "metadata": {},
   "outputs": [
    {
     "data": {
      "text/plain": [
       "array(['Afghanistan', 'Afrique du Sud', 'Albanie', 'Algérie', 'Allemagne',\n",
       "       'Angola', 'Antigua-et-Barbuda', 'Arabie saoudite', 'Argentine',\n",
       "       'Arménie', 'Australie', 'Autriche', 'Azerbaïdjan', 'Bahamas',\n",
       "       'Bangladesh', 'Barbade', 'Belgique', 'Belize', 'Bermudes',\n",
       "       'Bolivie (État plurinational de)', 'Bosnie-Herzégovine',\n",
       "       'Botswana', 'Brunéi Darussalam', 'Brésil', 'Bulgarie',\n",
       "       'Burkina Faso', 'Bélarus', 'Bénin', 'Cabo Verde', 'Cambodge',\n",
       "       'Cameroun', 'Canada', 'Chili', 'Chine - RAS de Hong-Kong',\n",
       "       'Chine - RAS de Macao', 'Chine, Taiwan Province de',\n",
       "       'Chine, continentale', 'Chypre', 'Colombie', 'Congo', 'Costa Rica',\n",
       "       'Croatie', 'Cuba', \"Côte d'Ivoire\", 'Danemark', 'Djibouti',\n",
       "       'Dominique', 'El Salvador', 'Espagne', 'Estonie', 'Eswatini',\n",
       "       'Fidji', 'Finlande', 'France', 'Fédération de Russie', 'Gabon',\n",
       "       'Gambie', 'Ghana', 'Grenade', 'Grèce', 'Guatemala', 'Guinée',\n",
       "       'Guinée-Bissau', 'Guyana', 'Géorgie', 'Haïti', 'Honduras',\n",
       "       'Hongrie', 'Inde', 'Indonésie', \"Iran (République islamique d')\",\n",
       "       'Iraq', 'Irlande', 'Islande', 'Israël', 'Italie', 'Jamaïque',\n",
       "       'Japon', 'Jordanie', 'Kazakhstan', 'Kenya', 'Kirghizistan',\n",
       "       'Kiribati', 'Koweït', 'Lesotho', 'Lettonie', 'Liban', 'Libéria',\n",
       "       'Lituanie', 'Luxembourg', 'Macédoine du Nord', 'Madagascar',\n",
       "       'Malaisie', 'Malawi', 'Maldives', 'Mali', 'Malte', 'Maroc',\n",
       "       'Maurice', 'Mauritanie', 'Mexique', 'Mongolie', 'Monténégro',\n",
       "       'Mozambique', 'Myanmar', 'Namibie', 'Nicaragua', 'Niger',\n",
       "       'Nigéria', 'Norvège', 'Nouvelle-Calédonie', 'Nouvelle-Zélande',\n",
       "       'Népal', 'Oman', 'Ouganda', 'Ouzbékistan', 'Pakistan', 'Panama',\n",
       "       'Paraguay', 'Pays-Bas', 'Philippines', 'Pologne',\n",
       "       'Polynésie française', 'Portugal', 'Pérou', 'Roumanie',\n",
       "       'Royaume-Uni', 'Rwanda', 'République centrafricaine',\n",
       "       'République de Corée', 'République de Moldova',\n",
       "       'République dominicaine', 'République démocratique populaire lao',\n",
       "       'République populaire démocratique de Corée',\n",
       "       'République-Unie de Tanzanie', 'Saint-Kitts-et-Nevis',\n",
       "       'Saint-Vincent-et-les Grenadines', 'Sainte-Lucie', 'Samoa',\n",
       "       'Sao Tomé-et-Principe', 'Serbie', 'Sierra Leone', 'Slovaquie',\n",
       "       'Slovénie', 'Soudan', 'Sri Lanka', 'Suisse', 'Suriname', 'Suède',\n",
       "       'Sénégal', 'Tadjikistan', 'Tchad', 'Tchéquie (la)', 'Thaïlande',\n",
       "       'Timor-Leste', 'Togo', 'Trinité-et-Tobago', 'Tunisie',\n",
       "       'Turkménistan', 'Turquie', 'Ukraine', 'Uruguay', 'Vanuatu',\n",
       "       'Venezuela (République bolivarienne du)', 'Viet Nam', 'Yémen',\n",
       "       'Zambie', 'Zimbabwe', 'Égypte', 'Émirats arabes unis', 'Équateur',\n",
       "       \"États-Unis d'Amérique\", 'Éthiopie', 'Îles Salomon'], dtype=object)"
      ]
     },
     "execution_count": 40,
     "metadata": {},
     "output_type": "execute_result"
    }
   ],
   "source": [
    "dispo1['Zone'].unique()"
   ]
  },
  {
   "cell_type": "code",
   "execution_count": 41,
   "id": "d75ad991",
   "metadata": {},
   "outputs": [
    {
     "data": {
      "text/plain": [
       "174"
      ]
     },
     "execution_count": 41,
     "metadata": {},
     "output_type": "execute_result"
    }
   ],
   "source": [
    "dispo1['Zone'].nunique()"
   ]
  },
  {
   "cell_type": "code",
   "execution_count": 42,
   "id": "c79efc74",
   "metadata": {},
   "outputs": [
    {
     "data": {
      "text/plain": [
       "array(['Abats Comestible', 'Agrumes, Autres', 'Aliments pour enfants',\n",
       "       'Ananas', 'Bananes', 'Beurre, Ghee', 'Bière', 'Blé',\n",
       "       'Boissons Alcooliques', 'Café', 'Coco (Incl Coprah)', 'Crème',\n",
       "       'Céréales, Autres', 'Dattes', 'Edulcorants Autres',\n",
       "       'Feve de Cacao', 'Fruits, Autres', 'Graines de coton',\n",
       "       'Graines de tournesol', 'Graisses Animales Crue',\n",
       "       'Huil Plantes Oleif Autr', 'Huile Graines de Coton',\n",
       "       \"Huile d'Arachide\", \"Huile d'Olive\", 'Huile de Colza&Moutarde',\n",
       "       'Huile de Palme', 'Huile de Soja', 'Huile de Sésame',\n",
       "       'Huile de Tournesol', 'Lait - Excl Beurre', 'Légumes, Autres',\n",
       "       'Légumineuses Autres', 'Maïs', 'Miel', 'Millet', 'Miscellanees',\n",
       "       'Noix', 'Oeufs', 'Olives', 'Oranges, Mandarines', 'Orge',\n",
       "       'Plantes Oleiferes, Autre', 'Poissons Eau Douce', 'Poivre',\n",
       "       'Pommes', 'Pommes de Terre', 'Raisin', 'Riz (Eq Blanchi)',\n",
       "       'Sucre Eq Brut', 'Sucre, betterave', 'Sucre, canne', 'Sésame',\n",
       "       'Thé', 'Tomates', \"Viande d'Ovins/Caprins\", 'Viande de Bovins',\n",
       "       'Viande de Volailles', 'Viande, Autre', 'Vin', 'Épices, Autres',\n",
       "       'Alcool, non Comestible', 'Animaux Aquatiques Autre',\n",
       "       'Arachides Decortiquees', 'Avoine', 'Bananes plantains',\n",
       "       'Boissons Fermentés', 'Cephalopodes', 'Citrons & Limes',\n",
       "       'Crustacés', 'Girofles', 'Graines Colza/Moutarde', 'Haricots',\n",
       "       'Huile de Coco', 'Huile de Germe de Maïs', 'Huile de Palmistes',\n",
       "       'Huiles de Foie de Poisso', 'Huiles de Poissons', 'Ignames',\n",
       "       'Manioc', 'Mollusques, Autres', 'Oignons', 'Palmistes',\n",
       "       'Pamplemousse', 'Patates douces', 'Perciform', 'Piments',\n",
       "       'Plantes Aquatiques', 'Pois', 'Poissons Marins, Autres',\n",
       "       'Poissons Pelagiques', 'Racines nda', 'Seigle', 'Soja', 'Sorgho',\n",
       "       'Viande de Suides', 'Huile de Son de Riz', 'Sucre non centrifugé',\n",
       "       'Viande de Anim Aquatiq'], dtype=object)"
      ]
     },
     "execution_count": 42,
     "metadata": {},
     "output_type": "execute_result"
    }
   ],
   "source": [
    "dispo1['Produit'].unique()"
   ]
  },
  {
   "cell_type": "code",
   "execution_count": 43,
   "id": "a41ea9b0",
   "metadata": {},
   "outputs": [
    {
     "data": {
      "text/plain": [
       "98"
      ]
     },
     "execution_count": 43,
     "metadata": {},
     "output_type": "execute_result"
    }
   ],
   "source": [
    "dispo1['Produit'].nunique()"
   ]
  },
  {
   "cell_type": "code",
   "execution_count": 44,
   "id": "481995a4",
   "metadata": {},
   "outputs": [
    {
     "data": {
      "text/plain": [
       "array(['animale', 'vegetale'], dtype=object)"
      ]
     },
     "execution_count": 44,
     "metadata": {},
     "output_type": "execute_result"
    }
   ],
   "source": [
    "dispo1['Origine'].unique()"
   ]
  },
  {
   "cell_type": "markdown",
   "id": "dd870ec6",
   "metadata": {},
   "source": [
    "Calcul des statistiques élementaires (min,max,moyenne, écart type...) pour toutes les variables quantitatives"
   ]
  },
  {
   "cell_type": "code",
   "execution_count": 45,
   "id": "7e91537e",
   "metadata": {},
   "outputs": [
    {
     "data": {
      "text/html": [
       "<div>\n",
       "<style scoped>\n",
       "    .dataframe tbody tr th:only-of-type {\n",
       "        vertical-align: middle;\n",
       "    }\n",
       "\n",
       "    .dataframe tbody tr th {\n",
       "        vertical-align: top;\n",
       "    }\n",
       "\n",
       "    .dataframe thead th {\n",
       "        text-align: right;\n",
       "    }\n",
       "</style>\n",
       "<table border=\"1\" class=\"dataframe\">\n",
       "  <thead>\n",
       "    <tr style=\"text-align: right;\">\n",
       "      <th></th>\n",
       "      <th>Zone</th>\n",
       "      <th>Produit</th>\n",
       "      <th>Origine</th>\n",
       "      <th>Aliments pour animaux</th>\n",
       "      <th>Autres Utilisations</th>\n",
       "      <th>Disponibilité alimentaire (Kcal/personne/jour)</th>\n",
       "      <th>Disponibilité alimentaire en quantité (kg/personne/an)</th>\n",
       "      <th>Disponibilité de matière grasse en quantité (g/personne/jour)</th>\n",
       "      <th>Disponibilité de protéines en quantité (g/personne/jour)</th>\n",
       "      <th>Disponibilité intérieure</th>\n",
       "      <th>Exportations - Quantité</th>\n",
       "      <th>Importations - Quantité</th>\n",
       "      <th>Nourriture</th>\n",
       "      <th>Pertes</th>\n",
       "      <th>Production</th>\n",
       "      <th>Semences</th>\n",
       "      <th>Traitement</th>\n",
       "      <th>Variation de stock</th>\n",
       "    </tr>\n",
       "  </thead>\n",
       "  <tbody>\n",
       "    <tr>\n",
       "      <th>count</th>\n",
       "      <td>15605</td>\n",
       "      <td>15605</td>\n",
       "      <td>15605</td>\n",
       "      <td>2720.000000</td>\n",
       "      <td>5496.000000</td>\n",
       "      <td>14241.000000</td>\n",
       "      <td>14015.000000</td>\n",
       "      <td>11794.000000</td>\n",
       "      <td>11561.000000</td>\n",
       "      <td>15382.000000</td>\n",
       "      <td>12226.000000</td>\n",
       "      <td>14852.000000</td>\n",
       "      <td>14015.000000</td>\n",
       "      <td>4278.000000</td>\n",
       "      <td>9180.000000</td>\n",
       "      <td>2091.000000</td>\n",
       "      <td>2292.000000</td>\n",
       "      <td>6776.000000</td>\n",
       "    </tr>\n",
       "    <tr>\n",
       "      <th>unique</th>\n",
       "      <td>174</td>\n",
       "      <td>98</td>\n",
       "      <td>2</td>\n",
       "      <td>NaN</td>\n",
       "      <td>NaN</td>\n",
       "      <td>NaN</td>\n",
       "      <td>NaN</td>\n",
       "      <td>NaN</td>\n",
       "      <td>NaN</td>\n",
       "      <td>NaN</td>\n",
       "      <td>NaN</td>\n",
       "      <td>NaN</td>\n",
       "      <td>NaN</td>\n",
       "      <td>NaN</td>\n",
       "      <td>NaN</td>\n",
       "      <td>NaN</td>\n",
       "      <td>NaN</td>\n",
       "      <td>NaN</td>\n",
       "    </tr>\n",
       "    <tr>\n",
       "      <th>top</th>\n",
       "      <td>Inde</td>\n",
       "      <td>Abats Comestible</td>\n",
       "      <td>vegetale</td>\n",
       "      <td>NaN</td>\n",
       "      <td>NaN</td>\n",
       "      <td>NaN</td>\n",
       "      <td>NaN</td>\n",
       "      <td>NaN</td>\n",
       "      <td>NaN</td>\n",
       "      <td>NaN</td>\n",
       "      <td>NaN</td>\n",
       "      <td>NaN</td>\n",
       "      <td>NaN</td>\n",
       "      <td>NaN</td>\n",
       "      <td>NaN</td>\n",
       "      <td>NaN</td>\n",
       "      <td>NaN</td>\n",
       "      <td>NaN</td>\n",
       "    </tr>\n",
       "    <tr>\n",
       "      <th>freq</th>\n",
       "      <td>97</td>\n",
       "      <td>174</td>\n",
       "      <td>11896</td>\n",
       "      <td>NaN</td>\n",
       "      <td>NaN</td>\n",
       "      <td>NaN</td>\n",
       "      <td>NaN</td>\n",
       "      <td>NaN</td>\n",
       "      <td>NaN</td>\n",
       "      <td>NaN</td>\n",
       "      <td>NaN</td>\n",
       "      <td>NaN</td>\n",
       "      <td>NaN</td>\n",
       "      <td>NaN</td>\n",
       "      <td>NaN</td>\n",
       "      <td>NaN</td>\n",
       "      <td>NaN</td>\n",
       "      <td>NaN</td>\n",
       "    </tr>\n",
       "    <tr>\n",
       "      <th>mean</th>\n",
       "      <td>NaN</td>\n",
       "      <td>NaN</td>\n",
       "      <td>NaN</td>\n",
       "      <td>479.501838</td>\n",
       "      <td>157.391376</td>\n",
       "      <td>34.789832</td>\n",
       "      <td>8.719368</td>\n",
       "      <td>1.283111</td>\n",
       "      <td>1.223608</td>\n",
       "      <td>640.293460</td>\n",
       "      <td>110.596925</td>\n",
       "      <td>87.264543</td>\n",
       "      <td>347.931359</td>\n",
       "      <td>106.053763</td>\n",
       "      <td>1090.379085</td>\n",
       "      <td>73.974653</td>\n",
       "      <td>961.905323</td>\n",
       "      <td>-15.407615</td>\n",
       "    </tr>\n",
       "    <tr>\n",
       "      <th>std</th>\n",
       "      <td>NaN</td>\n",
       "      <td>NaN</td>\n",
       "      <td>NaN</td>\n",
       "      <td>4240.119637</td>\n",
       "      <td>5076.785816</td>\n",
       "      <td>107.287655</td>\n",
       "      <td>24.618223</td>\n",
       "      <td>3.680399</td>\n",
       "      <td>3.598686</td>\n",
       "      <td>9067.267153</td>\n",
       "      <td>1053.318990</td>\n",
       "      <td>717.372714</td>\n",
       "      <td>4475.704458</td>\n",
       "      <td>1113.100416</td>\n",
       "      <td>12067.344094</td>\n",
       "      <td>528.069224</td>\n",
       "      <td>10381.795904</td>\n",
       "      <td>549.834540</td>\n",
       "    </tr>\n",
       "    <tr>\n",
       "      <th>min</th>\n",
       "      <td>NaN</td>\n",
       "      <td>NaN</td>\n",
       "      <td>NaN</td>\n",
       "      <td>0.000000</td>\n",
       "      <td>0.000000</td>\n",
       "      <td>-21.000000</td>\n",
       "      <td>-1.930000</td>\n",
       "      <td>-0.030000</td>\n",
       "      <td>-0.370000</td>\n",
       "      <td>-3430.000000</td>\n",
       "      <td>-41.000000</td>\n",
       "      <td>-201.000000</td>\n",
       "      <td>-246.000000</td>\n",
       "      <td>0.000000</td>\n",
       "      <td>0.000000</td>\n",
       "      <td>0.000000</td>\n",
       "      <td>-19.000000</td>\n",
       "      <td>-39863.000000</td>\n",
       "    </tr>\n",
       "    <tr>\n",
       "      <th>25%</th>\n",
       "      <td>NaN</td>\n",
       "      <td>NaN</td>\n",
       "      <td>NaN</td>\n",
       "      <td>0.000000</td>\n",
       "      <td>0.000000</td>\n",
       "      <td>0.000000</td>\n",
       "      <td>0.060000</td>\n",
       "      <td>0.010000</td>\n",
       "      <td>0.010000</td>\n",
       "      <td>0.000000</td>\n",
       "      <td>0.000000</td>\n",
       "      <td>0.000000</td>\n",
       "      <td>0.000000</td>\n",
       "      <td>0.000000</td>\n",
       "      <td>2.000000</td>\n",
       "      <td>0.000000</td>\n",
       "      <td>0.000000</td>\n",
       "      <td>0.000000</td>\n",
       "    </tr>\n",
       "    <tr>\n",
       "      <th>50%</th>\n",
       "      <td>NaN</td>\n",
       "      <td>NaN</td>\n",
       "      <td>NaN</td>\n",
       "      <td>4.000000</td>\n",
       "      <td>0.000000</td>\n",
       "      <td>4.000000</td>\n",
       "      <td>0.830000</td>\n",
       "      <td>0.080000</td>\n",
       "      <td>0.100000</td>\n",
       "      <td>7.000000</td>\n",
       "      <td>0.000000</td>\n",
       "      <td>2.000000</td>\n",
       "      <td>5.000000</td>\n",
       "      <td>4.000000</td>\n",
       "      <td>22.000000</td>\n",
       "      <td>2.000000</td>\n",
       "      <td>6.000000</td>\n",
       "      <td>0.000000</td>\n",
       "    </tr>\n",
       "    <tr>\n",
       "      <th>75%</th>\n",
       "      <td>NaN</td>\n",
       "      <td>NaN</td>\n",
       "      <td>NaN</td>\n",
       "      <td>74.000000</td>\n",
       "      <td>4.000000</td>\n",
       "      <td>21.000000</td>\n",
       "      <td>5.190000</td>\n",
       "      <td>0.630000</td>\n",
       "      <td>0.660000</td>\n",
       "      <td>76.750000</td>\n",
       "      <td>9.000000</td>\n",
       "      <td>18.000000</td>\n",
       "      <td>52.000000</td>\n",
       "      <td>26.000000</td>\n",
       "      <td>191.250000</td>\n",
       "      <td>17.000000</td>\n",
       "      <td>69.000000</td>\n",
       "      <td>0.000000</td>\n",
       "    </tr>\n",
       "    <tr>\n",
       "      <th>max</th>\n",
       "      <td>NaN</td>\n",
       "      <td>NaN</td>\n",
       "      <td>NaN</td>\n",
       "      <td>150000.000000</td>\n",
       "      <td>347309.000000</td>\n",
       "      <td>1711.000000</td>\n",
       "      <td>430.760000</td>\n",
       "      <td>60.760000</td>\n",
       "      <td>54.970000</td>\n",
       "      <td>739267.000000</td>\n",
       "      <td>42797.000000</td>\n",
       "      <td>63381.000000</td>\n",
       "      <td>426850.000000</td>\n",
       "      <td>55047.000000</td>\n",
       "      <td>739267.000000</td>\n",
       "      <td>17060.000000</td>\n",
       "      <td>326711.000000</td>\n",
       "      <td>5284.000000</td>\n",
       "    </tr>\n",
       "  </tbody>\n",
       "</table>\n",
       "</div>"
      ],
      "text/plain": [
       "         Zone           Produit   Origine  Aliments pour animaux  \\\n",
       "count   15605             15605     15605            2720.000000   \n",
       "unique    174                98         2                    NaN   \n",
       "top      Inde  Abats Comestible  vegetale                    NaN   \n",
       "freq       97               174     11896                    NaN   \n",
       "mean      NaN               NaN       NaN             479.501838   \n",
       "std       NaN               NaN       NaN            4240.119637   \n",
       "min       NaN               NaN       NaN               0.000000   \n",
       "25%       NaN               NaN       NaN               0.000000   \n",
       "50%       NaN               NaN       NaN               4.000000   \n",
       "75%       NaN               NaN       NaN              74.000000   \n",
       "max       NaN               NaN       NaN          150000.000000   \n",
       "\n",
       "        Autres Utilisations  Disponibilité alimentaire (Kcal/personne/jour)  \\\n",
       "count           5496.000000                                    14241.000000   \n",
       "unique                  NaN                                             NaN   \n",
       "top                     NaN                                             NaN   \n",
       "freq                    NaN                                             NaN   \n",
       "mean             157.391376                                       34.789832   \n",
       "std             5076.785816                                      107.287655   \n",
       "min                0.000000                                      -21.000000   \n",
       "25%                0.000000                                        0.000000   \n",
       "50%                0.000000                                        4.000000   \n",
       "75%                4.000000                                       21.000000   \n",
       "max           347309.000000                                     1711.000000   \n",
       "\n",
       "        Disponibilité alimentaire en quantité (kg/personne/an)  \\\n",
       "count                                        14015.000000        \n",
       "unique                                                NaN        \n",
       "top                                                   NaN        \n",
       "freq                                                  NaN        \n",
       "mean                                             8.719368        \n",
       "std                                             24.618223        \n",
       "min                                             -1.930000        \n",
       "25%                                              0.060000        \n",
       "50%                                              0.830000        \n",
       "75%                                              5.190000        \n",
       "max                                            430.760000        \n",
       "\n",
       "        Disponibilité de matière grasse en quantité (g/personne/jour)  \\\n",
       "count                                        11794.000000               \n",
       "unique                                                NaN               \n",
       "top                                                   NaN               \n",
       "freq                                                  NaN               \n",
       "mean                                             1.283111               \n",
       "std                                              3.680399               \n",
       "min                                             -0.030000               \n",
       "25%                                              0.010000               \n",
       "50%                                              0.080000               \n",
       "75%                                              0.630000               \n",
       "max                                             60.760000               \n",
       "\n",
       "        Disponibilité de protéines en quantité (g/personne/jour)  \\\n",
       "count                                        11561.000000          \n",
       "unique                                                NaN          \n",
       "top                                                   NaN          \n",
       "freq                                                  NaN          \n",
       "mean                                             1.223608          \n",
       "std                                              3.598686          \n",
       "min                                             -0.370000          \n",
       "25%                                              0.010000          \n",
       "50%                                              0.100000          \n",
       "75%                                              0.660000          \n",
       "max                                             54.970000          \n",
       "\n",
       "        Disponibilité intérieure  Exportations - Quantité  \\\n",
       "count               15382.000000             12226.000000   \n",
       "unique                       NaN                      NaN   \n",
       "top                          NaN                      NaN   \n",
       "freq                         NaN                      NaN   \n",
       "mean                  640.293460               110.596925   \n",
       "std                  9067.267153              1053.318990   \n",
       "min                 -3430.000000               -41.000000   \n",
       "25%                     0.000000                 0.000000   \n",
       "50%                     7.000000                 0.000000   \n",
       "75%                    76.750000                 9.000000   \n",
       "max                739267.000000             42797.000000   \n",
       "\n",
       "        Importations - Quantité     Nourriture        Pertes     Production  \\\n",
       "count              14852.000000   14015.000000   4278.000000    9180.000000   \n",
       "unique                      NaN            NaN           NaN            NaN   \n",
       "top                         NaN            NaN           NaN            NaN   \n",
       "freq                        NaN            NaN           NaN            NaN   \n",
       "mean                  87.264543     347.931359    106.053763    1090.379085   \n",
       "std                  717.372714    4475.704458   1113.100416   12067.344094   \n",
       "min                 -201.000000    -246.000000      0.000000       0.000000   \n",
       "25%                    0.000000       0.000000      0.000000       2.000000   \n",
       "50%                    2.000000       5.000000      4.000000      22.000000   \n",
       "75%                   18.000000      52.000000     26.000000     191.250000   \n",
       "max                63381.000000  426850.000000  55047.000000  739267.000000   \n",
       "\n",
       "            Semences     Traitement  Variation de stock  \n",
       "count    2091.000000    2292.000000         6776.000000  \n",
       "unique           NaN            NaN                 NaN  \n",
       "top              NaN            NaN                 NaN  \n",
       "freq             NaN            NaN                 NaN  \n",
       "mean       73.974653     961.905323          -15.407615  \n",
       "std       528.069224   10381.795904          549.834540  \n",
       "min         0.000000     -19.000000       -39863.000000  \n",
       "25%         0.000000       0.000000            0.000000  \n",
       "50%         2.000000       6.000000            0.000000  \n",
       "75%        17.000000      69.000000            0.000000  \n",
       "max     17060.000000  326711.000000         5284.000000  "
      ]
     },
     "execution_count": 45,
     "metadata": {},
     "output_type": "execute_result"
    }
   ],
   "source": [
    "dispo1.describe(include='all')"
   ]
  },
  {
   "cell_type": "markdown",
   "id": "2eb5e7bf",
   "metadata": {},
   "source": [
    "Renvoie le nombre de valeurs manquantes dans chaque colonne"
   ]
  },
  {
   "cell_type": "code",
   "execution_count": 46,
   "id": "fb23aa08",
   "metadata": {
    "scrolled": true
   },
   "outputs": [],
   "source": [
    "dispo1.isna().sum()\n",
    "dispo1.fillna(0, inplace=True)"
   ]
  },
  {
   "cell_type": "code",
   "execution_count": 47,
   "id": "a29dea8b",
   "metadata": {},
   "outputs": [
    {
     "data": {
      "text/plain": [
       "Zone                                                             0\n",
       "Produit                                                          0\n",
       "Origine                                                          0\n",
       "Aliments pour animaux                                            0\n",
       "Autres Utilisations                                              0\n",
       "Disponibilité alimentaire (Kcal/personne/jour)                   0\n",
       "Disponibilité alimentaire en quantité (kg/personne/an)           0\n",
       "Disponibilité de matière grasse en quantité (g/personne/jour)    0\n",
       "Disponibilité de protéines en quantité (g/personne/jour)         0\n",
       "Disponibilité intérieure                                         0\n",
       "Exportations - Quantité                                          0\n",
       "Importations - Quantité                                          0\n",
       "Nourriture                                                       0\n",
       "Pertes                                                           0\n",
       "Production                                                       0\n",
       "Semences                                                         0\n",
       "Traitement                                                       0\n",
       "Variation de stock                                               0\n",
       "dtype: int64"
      ]
     },
     "execution_count": 47,
     "metadata": {},
     "output_type": "execute_result"
    }
   ],
   "source": [
    "dispo1.isna().sum()"
   ]
  },
  {
   "cell_type": "code",
   "execution_count": 48,
   "id": "04b366ec",
   "metadata": {},
   "outputs": [
    {
     "data": {
      "text/plain": [
       "Zone                                                             0\n",
       "Produit                                                          0\n",
       "Origine                                                          0\n",
       "Aliments pour animaux                                            0\n",
       "Autres Utilisations                                              0\n",
       "Disponibilité alimentaire (Kcal/personne/jour)                   0\n",
       "Disponibilité alimentaire en quantité (kg/personne/an)           0\n",
       "Disponibilité de matière grasse en quantité (g/personne/jour)    0\n",
       "Disponibilité de protéines en quantité (g/personne/jour)         0\n",
       "Disponibilité intérieure                                         0\n",
       "Exportations - Quantité                                          0\n",
       "Importations - Quantité                                          0\n",
       "Nourriture                                                       0\n",
       "Pertes                                                           0\n",
       "Production                                                       0\n",
       "Semences                                                         0\n",
       "Traitement                                                       0\n",
       "Variation de stock                                               0\n",
       "dtype: int64"
      ]
     },
     "execution_count": 48,
     "metadata": {},
     "output_type": "execute_result"
    }
   ],
   "source": [
    "dispo1.isnull().sum()"
   ]
  },
  {
   "cell_type": "code",
   "execution_count": 49,
   "id": "0f663f67",
   "metadata": {},
   "outputs": [
    {
     "data": {
      "text/plain": [
       "array(['Abats Comestible', 'Agrumes, Autres', 'Aliments pour enfants',\n",
       "       'Ananas', 'Bananes', 'Beurre, Ghee', 'Bière', 'Blé',\n",
       "       'Boissons Alcooliques', 'Café', 'Coco (Incl Coprah)', 'Crème',\n",
       "       'Céréales, Autres', 'Dattes', 'Edulcorants Autres',\n",
       "       'Feve de Cacao', 'Fruits, Autres', 'Graines de coton',\n",
       "       'Graines de tournesol', 'Graisses Animales Crue',\n",
       "       'Huil Plantes Oleif Autr', 'Huile Graines de Coton',\n",
       "       \"Huile d'Arachide\", \"Huile d'Olive\", 'Huile de Colza&Moutarde',\n",
       "       'Huile de Palme', 'Huile de Soja', 'Huile de Sésame',\n",
       "       'Huile de Tournesol', 'Lait - Excl Beurre', 'Légumes, Autres',\n",
       "       'Légumineuses Autres', 'Maïs', 'Miel', 'Millet', 'Miscellanees',\n",
       "       'Noix', 'Oeufs', 'Olives', 'Oranges, Mandarines', 'Orge',\n",
       "       'Plantes Oleiferes, Autre', 'Poissons Eau Douce', 'Poivre',\n",
       "       'Pommes', 'Pommes de Terre', 'Raisin', 'Riz (Eq Blanchi)',\n",
       "       'Sucre Eq Brut', 'Sucre, betterave', 'Sucre, canne', 'Sésame',\n",
       "       'Thé', 'Tomates', \"Viande d'Ovins/Caprins\", 'Viande de Bovins',\n",
       "       'Viande de Volailles', 'Viande, Autre', 'Vin', 'Épices, Autres',\n",
       "       'Alcool, non Comestible', 'Animaux Aquatiques Autre',\n",
       "       'Arachides Decortiquees', 'Avoine', 'Bananes plantains',\n",
       "       'Boissons Fermentés', 'Cephalopodes', 'Citrons & Limes',\n",
       "       'Crustacés', 'Girofles', 'Graines Colza/Moutarde', 'Haricots',\n",
       "       'Huile de Coco', 'Huile de Germe de Maïs', 'Huile de Palmistes',\n",
       "       'Huiles de Foie de Poisso', 'Huiles de Poissons', 'Ignames',\n",
       "       'Manioc', 'Mollusques, Autres', 'Oignons', 'Palmistes',\n",
       "       'Pamplemousse', 'Patates douces', 'Perciform', 'Piments',\n",
       "       'Plantes Aquatiques', 'Pois', 'Poissons Marins, Autres',\n",
       "       'Poissons Pelagiques', 'Racines nda', 'Seigle', 'Soja', 'Sorgho',\n",
       "       'Viande de Suides', 'Huile de Son de Riz', 'Sucre non centrifugé',\n",
       "       'Viande de Anim Aquatiq'], dtype=object)"
      ]
     },
     "execution_count": 49,
     "metadata": {},
     "output_type": "execute_result"
    }
   ],
   "source": [
    "dispo1['Produit'].unique()"
   ]
  },
  {
   "cell_type": "markdown",
   "id": "e9f21956",
   "metadata": {},
   "source": [
    "### 2-3.1 Nettoyage"
   ]
  },
  {
   "cell_type": "markdown",
   "id": "ed7ebd93",
   "metadata": {},
   "source": [
    "### Commentaires dispo1\n",
    "\n",
    "Renommer la colonne \"Zone\" =>\n",
    "Unite: -10 variables qui précisent les utilisations/moyens d’acquisition de la disponibilité alimentaire.  --\n",
    "Elles sont toutes exprimées en milliers de tonnes(kilotonnes, kt) => mettre en Kg "
   ]
  },
  {
   "cell_type": "markdown",
   "id": "ab36f831",
   "metadata": {},
   "source": [
    "Changement de noms "
   ]
  },
  {
   "cell_type": "code",
   "execution_count": 50,
   "id": "5f8c59c6",
   "metadata": {},
   "outputs": [
    {
     "data": {
      "text/html": [
       "<div>\n",
       "<style scoped>\n",
       "    .dataframe tbody tr th:only-of-type {\n",
       "        vertical-align: middle;\n",
       "    }\n",
       "\n",
       "    .dataframe tbody tr th {\n",
       "        vertical-align: top;\n",
       "    }\n",
       "\n",
       "    .dataframe thead th {\n",
       "        text-align: right;\n",
       "    }\n",
       "</style>\n",
       "<table border=\"1\" class=\"dataframe\">\n",
       "  <thead>\n",
       "    <tr style=\"text-align: right;\">\n",
       "      <th></th>\n",
       "      <th>Pays</th>\n",
       "      <th>Produit</th>\n",
       "      <th>Origine</th>\n",
       "      <th>Aliments pour animaux_kg</th>\n",
       "      <th>Autres Utilisations_kg</th>\n",
       "      <th>Disponibilité alimentaire (Kcal/personne/jour)</th>\n",
       "      <th>Disponibilité alimentaire en quantité (kg/personne/an)</th>\n",
       "      <th>Disponibilité de matière grasse en quantité (g/personne/jour)</th>\n",
       "      <th>Disponibilité de protéines en quantité (g/personne/jour)</th>\n",
       "      <th>Disponibilité intérieure_kg</th>\n",
       "      <th>Exportations- Quantité_kg</th>\n",
       "      <th>Importations- Quantité_kg</th>\n",
       "      <th>Nourriture _kg</th>\n",
       "      <th>Pertes_kg</th>\n",
       "      <th>Production_kg</th>\n",
       "      <th>Semences_kg</th>\n",
       "      <th>Traitement_kg</th>\n",
       "      <th>Variation de stock_kg</th>\n",
       "    </tr>\n",
       "  </thead>\n",
       "  <tbody>\n",
       "    <tr>\n",
       "      <th>0</th>\n",
       "      <td>Afghanistan</td>\n",
       "      <td>Abats Comestible</td>\n",
       "      <td>animale</td>\n",
       "      <td>0.0</td>\n",
       "      <td>0.0</td>\n",
       "      <td>5.0</td>\n",
       "      <td>1.72</td>\n",
       "      <td>0.20</td>\n",
       "      <td>0.77</td>\n",
       "      <td>53.0</td>\n",
       "      <td>0.0</td>\n",
       "      <td>0.0</td>\n",
       "      <td>53.0</td>\n",
       "      <td>0.0</td>\n",
       "      <td>53.0</td>\n",
       "      <td>0.0</td>\n",
       "      <td>0.0</td>\n",
       "      <td>0.0</td>\n",
       "    </tr>\n",
       "    <tr>\n",
       "      <th>1</th>\n",
       "      <td>Afghanistan</td>\n",
       "      <td>Agrumes, Autres</td>\n",
       "      <td>vegetale</td>\n",
       "      <td>0.0</td>\n",
       "      <td>0.0</td>\n",
       "      <td>1.0</td>\n",
       "      <td>1.29</td>\n",
       "      <td>0.01</td>\n",
       "      <td>0.02</td>\n",
       "      <td>41.0</td>\n",
       "      <td>2.0</td>\n",
       "      <td>40.0</td>\n",
       "      <td>39.0</td>\n",
       "      <td>2.0</td>\n",
       "      <td>3.0</td>\n",
       "      <td>0.0</td>\n",
       "      <td>0.0</td>\n",
       "      <td>0.0</td>\n",
       "    </tr>\n",
       "    <tr>\n",
       "      <th>2</th>\n",
       "      <td>Afghanistan</td>\n",
       "      <td>Aliments pour enfants</td>\n",
       "      <td>vegetale</td>\n",
       "      <td>0.0</td>\n",
       "      <td>0.0</td>\n",
       "      <td>1.0</td>\n",
       "      <td>0.06</td>\n",
       "      <td>0.01</td>\n",
       "      <td>0.03</td>\n",
       "      <td>2.0</td>\n",
       "      <td>0.0</td>\n",
       "      <td>2.0</td>\n",
       "      <td>2.0</td>\n",
       "      <td>0.0</td>\n",
       "      <td>0.0</td>\n",
       "      <td>0.0</td>\n",
       "      <td>0.0</td>\n",
       "      <td>0.0</td>\n",
       "    </tr>\n",
       "    <tr>\n",
       "      <th>3</th>\n",
       "      <td>Afghanistan</td>\n",
       "      <td>Ananas</td>\n",
       "      <td>vegetale</td>\n",
       "      <td>0.0</td>\n",
       "      <td>0.0</td>\n",
       "      <td>0.0</td>\n",
       "      <td>0.00</td>\n",
       "      <td>0.00</td>\n",
       "      <td>0.00</td>\n",
       "      <td>0.0</td>\n",
       "      <td>0.0</td>\n",
       "      <td>0.0</td>\n",
       "      <td>0.0</td>\n",
       "      <td>0.0</td>\n",
       "      <td>0.0</td>\n",
       "      <td>0.0</td>\n",
       "      <td>0.0</td>\n",
       "      <td>0.0</td>\n",
       "    </tr>\n",
       "    <tr>\n",
       "      <th>4</th>\n",
       "      <td>Afghanistan</td>\n",
       "      <td>Bananes</td>\n",
       "      <td>vegetale</td>\n",
       "      <td>0.0</td>\n",
       "      <td>0.0</td>\n",
       "      <td>4.0</td>\n",
       "      <td>2.70</td>\n",
       "      <td>0.02</td>\n",
       "      <td>0.05</td>\n",
       "      <td>82.0</td>\n",
       "      <td>0.0</td>\n",
       "      <td>82.0</td>\n",
       "      <td>82.0</td>\n",
       "      <td>0.0</td>\n",
       "      <td>0.0</td>\n",
       "      <td>0.0</td>\n",
       "      <td>0.0</td>\n",
       "      <td>0.0</td>\n",
       "    </tr>\n",
       "  </tbody>\n",
       "</table>\n",
       "</div>"
      ],
      "text/plain": [
       "          Pays                Produit   Origine  Aliments pour animaux_kg  \\\n",
       "0  Afghanistan       Abats Comestible   animale                       0.0   \n",
       "1  Afghanistan        Agrumes, Autres  vegetale                       0.0   \n",
       "2  Afghanistan  Aliments pour enfants  vegetale                       0.0   \n",
       "3  Afghanistan                 Ananas  vegetale                       0.0   \n",
       "4  Afghanistan                Bananes  vegetale                       0.0   \n",
       "\n",
       "   Autres Utilisations_kg  Disponibilité alimentaire (Kcal/personne/jour)  \\\n",
       "0                     0.0                                             5.0   \n",
       "1                     0.0                                             1.0   \n",
       "2                     0.0                                             1.0   \n",
       "3                     0.0                                             0.0   \n",
       "4                     0.0                                             4.0   \n",
       "\n",
       "   Disponibilité alimentaire en quantité (kg/personne/an)  \\\n",
       "0                                               1.72        \n",
       "1                                               1.29        \n",
       "2                                               0.06        \n",
       "3                                               0.00        \n",
       "4                                               2.70        \n",
       "\n",
       "   Disponibilité de matière grasse en quantité (g/personne/jour)  \\\n",
       "0                                               0.20               \n",
       "1                                               0.01               \n",
       "2                                               0.01               \n",
       "3                                               0.00               \n",
       "4                                               0.02               \n",
       "\n",
       "   Disponibilité de protéines en quantité (g/personne/jour)  \\\n",
       "0                                               0.77          \n",
       "1                                               0.02          \n",
       "2                                               0.03          \n",
       "3                                               0.00          \n",
       "4                                               0.05          \n",
       "\n",
       "   Disponibilité intérieure_kg  Exportations- Quantité_kg  \\\n",
       "0                         53.0                        0.0   \n",
       "1                         41.0                        2.0   \n",
       "2                          2.0                        0.0   \n",
       "3                          0.0                        0.0   \n",
       "4                         82.0                        0.0   \n",
       "\n",
       "   Importations- Quantité_kg  Nourriture _kg  Pertes_kg  Production_kg  \\\n",
       "0                        0.0            53.0        0.0           53.0   \n",
       "1                       40.0            39.0        2.0            3.0   \n",
       "2                        2.0             2.0        0.0            0.0   \n",
       "3                        0.0             0.0        0.0            0.0   \n",
       "4                       82.0            82.0        0.0            0.0   \n",
       "\n",
       "   Semences_kg  Traitement_kg  Variation de stock_kg  \n",
       "0          0.0            0.0                    0.0  \n",
       "1          0.0            0.0                    0.0  \n",
       "2          0.0            0.0                    0.0  \n",
       "3          0.0            0.0                    0.0  \n",
       "4          0.0            0.0                    0.0  "
      ]
     },
     "execution_count": 50,
     "metadata": {},
     "output_type": "execute_result"
    }
   ],
   "source": [
    "dispo1.rename(columns={\"Zone\":\"Pays\",\"Aliments pour animaux\":\"Aliments pour animaux_kg\",\"Autres Utilisations\":\"Autres Utilisations_kg\",\"Disponibilité intérieure\":\"Disponibilité intérieure_kg\",\"Exportations - Quantité\":\"Exportations- Quantité_kg\",\"Importations - Quantité\":\"Importations- Quantité_kg\",\"Nourriture\":\"Nourriture _kg\",\"Pertes\":\"Pertes_kg\",\"Production\":\"Production_kg\",\"Semences\":\"Semences_kg\",\"Traitement\":\"Traitement_kg\",\"Variation de stock\":\"Variation de stock_kg\"}, inplace=True) \n",
    "dispo1.head()"
   ]
  },
  {
   "cell_type": "code",
   "execution_count": 51,
   "id": "ede441d0",
   "metadata": {},
   "outputs": [
    {
     "data": {
      "text/plain": [
       "Index(['Pays', 'Produit', 'Origine', 'Aliments pour animaux_kg',\n",
       "       'Autres Utilisations_kg',\n",
       "       'Disponibilité alimentaire (Kcal/personne/jour)',\n",
       "       'Disponibilité alimentaire en quantité (kg/personne/an)',\n",
       "       'Disponibilité de matière grasse en quantité (g/personne/jour)',\n",
       "       'Disponibilité de protéines en quantité (g/personne/jour)',\n",
       "       'Disponibilité intérieure_kg', 'Exportations- Quantité_kg',\n",
       "       'Importations- Quantité_kg', 'Nourriture _kg', 'Pertes_kg',\n",
       "       'Production_kg', 'Semences_kg', 'Traitement_kg',\n",
       "       'Variation de stock_kg'],\n",
       "      dtype='object')"
      ]
     },
     "execution_count": 51,
     "metadata": {},
     "output_type": "execute_result"
    }
   ],
   "source": [
    "dispo1.columns"
   ]
  },
  {
   "cell_type": "code",
   "execution_count": 52,
   "id": "db2950bd",
   "metadata": {},
   "outputs": [],
   "source": [
    "tonnes_to_kg = [\"Aliments pour animaux_kg\",\"Autres Utilisations_kg\",\"Disponibilité intérieure_kg\",\"Exportations- Quantité_kg\",\"Importations- Quantité_kg\",\"Nourriture _kg\",\"Pertes_kg\",\"Production_kg\",\"Semences_kg\",\"Traitement_kg\",\"Variation de stock_kg\"]\n",
    "                \n",
    "for tonne1 in tonnes_to_kg:\n",
    "                dispo1[tonne1] *= 1000000\n"
   ]
  },
  {
   "cell_type": "code",
   "execution_count": 53,
   "id": "9acb472b",
   "metadata": {},
   "outputs": [
    {
     "data": {
      "text/html": [
       "<div>\n",
       "<style scoped>\n",
       "    .dataframe tbody tr th:only-of-type {\n",
       "        vertical-align: middle;\n",
       "    }\n",
       "\n",
       "    .dataframe tbody tr th {\n",
       "        vertical-align: top;\n",
       "    }\n",
       "\n",
       "    .dataframe thead th {\n",
       "        text-align: right;\n",
       "    }\n",
       "</style>\n",
       "<table border=\"1\" class=\"dataframe\">\n",
       "  <thead>\n",
       "    <tr style=\"text-align: right;\">\n",
       "      <th></th>\n",
       "      <th>Pays</th>\n",
       "      <th>Produit</th>\n",
       "      <th>Origine</th>\n",
       "      <th>Aliments pour animaux_kg</th>\n",
       "      <th>Autres Utilisations_kg</th>\n",
       "      <th>Disponibilité alimentaire (Kcal/personne/jour)</th>\n",
       "      <th>Disponibilité alimentaire en quantité (kg/personne/an)</th>\n",
       "      <th>Disponibilité de matière grasse en quantité (g/personne/jour)</th>\n",
       "      <th>Disponibilité de protéines en quantité (g/personne/jour)</th>\n",
       "      <th>Disponibilité intérieure_kg</th>\n",
       "      <th>Exportations- Quantité_kg</th>\n",
       "      <th>Importations- Quantité_kg</th>\n",
       "      <th>Nourriture _kg</th>\n",
       "      <th>Pertes_kg</th>\n",
       "      <th>Production_kg</th>\n",
       "      <th>Semences_kg</th>\n",
       "      <th>Traitement_kg</th>\n",
       "      <th>Variation de stock_kg</th>\n",
       "    </tr>\n",
       "  </thead>\n",
       "  <tbody>\n",
       "    <tr>\n",
       "      <th>0</th>\n",
       "      <td>Afghanistan</td>\n",
       "      <td>Abats Comestible</td>\n",
       "      <td>animale</td>\n",
       "      <td>0.0</td>\n",
       "      <td>0.0</td>\n",
       "      <td>5.0</td>\n",
       "      <td>1.72</td>\n",
       "      <td>0.20</td>\n",
       "      <td>0.77</td>\n",
       "      <td>53000000.0</td>\n",
       "      <td>0.0</td>\n",
       "      <td>0.0</td>\n",
       "      <td>53000000.0</td>\n",
       "      <td>0.0</td>\n",
       "      <td>53000000.0</td>\n",
       "      <td>0.0</td>\n",
       "      <td>0.0</td>\n",
       "      <td>0.0</td>\n",
       "    </tr>\n",
       "    <tr>\n",
       "      <th>1</th>\n",
       "      <td>Afghanistan</td>\n",
       "      <td>Agrumes, Autres</td>\n",
       "      <td>vegetale</td>\n",
       "      <td>0.0</td>\n",
       "      <td>0.0</td>\n",
       "      <td>1.0</td>\n",
       "      <td>1.29</td>\n",
       "      <td>0.01</td>\n",
       "      <td>0.02</td>\n",
       "      <td>41000000.0</td>\n",
       "      <td>2000000.0</td>\n",
       "      <td>40000000.0</td>\n",
       "      <td>39000000.0</td>\n",
       "      <td>2000000.0</td>\n",
       "      <td>3000000.0</td>\n",
       "      <td>0.0</td>\n",
       "      <td>0.0</td>\n",
       "      <td>0.0</td>\n",
       "    </tr>\n",
       "    <tr>\n",
       "      <th>2</th>\n",
       "      <td>Afghanistan</td>\n",
       "      <td>Aliments pour enfants</td>\n",
       "      <td>vegetale</td>\n",
       "      <td>0.0</td>\n",
       "      <td>0.0</td>\n",
       "      <td>1.0</td>\n",
       "      <td>0.06</td>\n",
       "      <td>0.01</td>\n",
       "      <td>0.03</td>\n",
       "      <td>2000000.0</td>\n",
       "      <td>0.0</td>\n",
       "      <td>2000000.0</td>\n",
       "      <td>2000000.0</td>\n",
       "      <td>0.0</td>\n",
       "      <td>0.0</td>\n",
       "      <td>0.0</td>\n",
       "      <td>0.0</td>\n",
       "      <td>0.0</td>\n",
       "    </tr>\n",
       "    <tr>\n",
       "      <th>3</th>\n",
       "      <td>Afghanistan</td>\n",
       "      <td>Ananas</td>\n",
       "      <td>vegetale</td>\n",
       "      <td>0.0</td>\n",
       "      <td>0.0</td>\n",
       "      <td>0.0</td>\n",
       "      <td>0.00</td>\n",
       "      <td>0.00</td>\n",
       "      <td>0.00</td>\n",
       "      <td>0.0</td>\n",
       "      <td>0.0</td>\n",
       "      <td>0.0</td>\n",
       "      <td>0.0</td>\n",
       "      <td>0.0</td>\n",
       "      <td>0.0</td>\n",
       "      <td>0.0</td>\n",
       "      <td>0.0</td>\n",
       "      <td>0.0</td>\n",
       "    </tr>\n",
       "    <tr>\n",
       "      <th>4</th>\n",
       "      <td>Afghanistan</td>\n",
       "      <td>Bananes</td>\n",
       "      <td>vegetale</td>\n",
       "      <td>0.0</td>\n",
       "      <td>0.0</td>\n",
       "      <td>4.0</td>\n",
       "      <td>2.70</td>\n",
       "      <td>0.02</td>\n",
       "      <td>0.05</td>\n",
       "      <td>82000000.0</td>\n",
       "      <td>0.0</td>\n",
       "      <td>82000000.0</td>\n",
       "      <td>82000000.0</td>\n",
       "      <td>0.0</td>\n",
       "      <td>0.0</td>\n",
       "      <td>0.0</td>\n",
       "      <td>0.0</td>\n",
       "      <td>0.0</td>\n",
       "    </tr>\n",
       "  </tbody>\n",
       "</table>\n",
       "</div>"
      ],
      "text/plain": [
       "          Pays                Produit   Origine  Aliments pour animaux_kg  \\\n",
       "0  Afghanistan       Abats Comestible   animale                       0.0   \n",
       "1  Afghanistan        Agrumes, Autres  vegetale                       0.0   \n",
       "2  Afghanistan  Aliments pour enfants  vegetale                       0.0   \n",
       "3  Afghanistan                 Ananas  vegetale                       0.0   \n",
       "4  Afghanistan                Bananes  vegetale                       0.0   \n",
       "\n",
       "   Autres Utilisations_kg  Disponibilité alimentaire (Kcal/personne/jour)  \\\n",
       "0                     0.0                                             5.0   \n",
       "1                     0.0                                             1.0   \n",
       "2                     0.0                                             1.0   \n",
       "3                     0.0                                             0.0   \n",
       "4                     0.0                                             4.0   \n",
       "\n",
       "   Disponibilité alimentaire en quantité (kg/personne/an)  \\\n",
       "0                                               1.72        \n",
       "1                                               1.29        \n",
       "2                                               0.06        \n",
       "3                                               0.00        \n",
       "4                                               2.70        \n",
       "\n",
       "   Disponibilité de matière grasse en quantité (g/personne/jour)  \\\n",
       "0                                               0.20               \n",
       "1                                               0.01               \n",
       "2                                               0.01               \n",
       "3                                               0.00               \n",
       "4                                               0.02               \n",
       "\n",
       "   Disponibilité de protéines en quantité (g/personne/jour)  \\\n",
       "0                                               0.77          \n",
       "1                                               0.02          \n",
       "2                                               0.03          \n",
       "3                                               0.00          \n",
       "4                                               0.05          \n",
       "\n",
       "   Disponibilité intérieure_kg  Exportations- Quantité_kg  \\\n",
       "0                   53000000.0                        0.0   \n",
       "1                   41000000.0                  2000000.0   \n",
       "2                    2000000.0                        0.0   \n",
       "3                          0.0                        0.0   \n",
       "4                   82000000.0                        0.0   \n",
       "\n",
       "   Importations- Quantité_kg  Nourriture _kg  Pertes_kg  Production_kg  \\\n",
       "0                        0.0      53000000.0        0.0     53000000.0   \n",
       "1                 40000000.0      39000000.0  2000000.0      3000000.0   \n",
       "2                  2000000.0       2000000.0        0.0            0.0   \n",
       "3                        0.0             0.0        0.0            0.0   \n",
       "4                 82000000.0      82000000.0        0.0            0.0   \n",
       "\n",
       "   Semences_kg  Traitement_kg  Variation de stock_kg  \n",
       "0          0.0            0.0                    0.0  \n",
       "1          0.0            0.0                    0.0  \n",
       "2          0.0            0.0                    0.0  \n",
       "3          0.0            0.0                    0.0  \n",
       "4          0.0            0.0                    0.0  "
      ]
     },
     "execution_count": 53,
     "metadata": {},
     "output_type": "execute_result"
    }
   ],
   "source": [
    "dispo1.head()"
   ]
  },
  {
   "cell_type": "code",
   "execution_count": 54,
   "id": "c651d72d",
   "metadata": {},
   "outputs": [
    {
     "data": {
      "text/plain": [
       "0"
      ]
     },
     "execution_count": 54,
     "metadata": {},
     "output_type": "execute_result"
    }
   ],
   "source": [
    "dispo1.isnull().sum().sum()"
   ]
  },
  {
   "cell_type": "markdown",
   "id": "e6479879",
   "metadata": {},
   "source": [
    "Changement de nom en Pays valeur Swaziland à Eswatini"
   ]
  },
  {
   "cell_type": "code",
   "execution_count": 55,
   "id": "2f8f09db",
   "metadata": {},
   "outputs": [
    {
     "data": {
      "text/plain": [
       "array(['Afghanistan', 'Afrique du Sud', 'Albanie', 'Algérie', 'Allemagne',\n",
       "       'Angola', 'Antigua-et-Barbuda', 'Arabie saoudite', 'Argentine',\n",
       "       'Arménie', 'Australie', 'Autriche', 'Azerbaïdjan', 'Bahamas',\n",
       "       'Bangladesh', 'Barbade', 'Belgique', 'Belize', 'Bermudes',\n",
       "       'Bolivie (État plurinational de)', 'Bosnie-Herzégovine',\n",
       "       'Botswana', 'Brunéi Darussalam', 'Brésil', 'Bulgarie',\n",
       "       'Burkina Faso', 'Bélarus', 'Bénin', 'Cabo Verde', 'Cambodge',\n",
       "       'Cameroun', 'Canada', 'Chili', 'Chine - RAS de Hong-Kong',\n",
       "       'Chine - RAS de Macao', 'Chine, Taiwan Province de',\n",
       "       'Chine, continentale', 'Chypre', 'Colombie', 'Congo', 'Costa Rica',\n",
       "       'Croatie', 'Cuba', \"Côte d'Ivoire\", 'Danemark', 'Djibouti',\n",
       "       'Dominique', 'El Salvador', 'Espagne', 'Estonie', 'Eswatini',\n",
       "       'Fidji', 'Finlande', 'France', 'Fédération de Russie', 'Gabon',\n",
       "       'Gambie', 'Ghana', 'Grenade', 'Grèce', 'Guatemala', 'Guinée',\n",
       "       'Guinée-Bissau', 'Guyana', 'Géorgie', 'Haïti', 'Honduras',\n",
       "       'Hongrie', 'Inde', 'Indonésie', \"Iran (République islamique d')\",\n",
       "       'Iraq', 'Irlande', 'Islande', 'Israël', 'Italie', 'Jamaïque',\n",
       "       'Japon', 'Jordanie', 'Kazakhstan', 'Kenya', 'Kirghizistan',\n",
       "       'Kiribati', 'Koweït', 'Lesotho', 'Lettonie', 'Liban', 'Libéria',\n",
       "       'Lituanie', 'Luxembourg', 'Macédoine du Nord', 'Madagascar',\n",
       "       'Malaisie', 'Malawi', 'Maldives', 'Mali', 'Malte', 'Maroc',\n",
       "       'Maurice', 'Mauritanie', 'Mexique', 'Mongolie', 'Monténégro',\n",
       "       'Mozambique', 'Myanmar', 'Namibie', 'Nicaragua', 'Niger',\n",
       "       'Nigéria', 'Norvège', 'Nouvelle-Calédonie', 'Nouvelle-Zélande',\n",
       "       'Népal', 'Oman', 'Ouganda', 'Ouzbékistan', 'Pakistan', 'Panama',\n",
       "       'Paraguay', 'Pays-Bas', 'Philippines', 'Pologne',\n",
       "       'Polynésie française', 'Portugal', 'Pérou', 'Roumanie',\n",
       "       'Royaume-Uni', 'Rwanda', 'République centrafricaine',\n",
       "       'République de Corée', 'République de Moldova',\n",
       "       'République dominicaine', 'République démocratique populaire lao',\n",
       "       'République populaire démocratique de Corée',\n",
       "       'République-Unie de Tanzanie', 'Saint-Kitts-et-Nevis',\n",
       "       'Saint-Vincent-et-les Grenadines', 'Sainte-Lucie', 'Samoa',\n",
       "       'Sao Tomé-et-Principe', 'Serbie', 'Sierra Leone', 'Slovaquie',\n",
       "       'Slovénie', 'Soudan', 'Sri Lanka', 'Suisse', 'Suriname', 'Suède',\n",
       "       'Sénégal', 'Tadjikistan', 'Tchad', 'Tchéquie', 'Thaïlande',\n",
       "       'Timor-Leste', 'Togo', 'Trinité-et-Tobago', 'Tunisie',\n",
       "       'Turkménistan', 'Turquie', 'Ukraine', 'Uruguay', 'Vanuatu',\n",
       "       'Venezuela (République bolivarienne du)', 'Viet Nam', 'Yémen',\n",
       "       'Zambie', 'Zimbabwe', 'Égypte', 'Émirats arabes unis', 'Équateur',\n",
       "       \"États-Unis d'Amérique\", 'Éthiopie', 'Îles Salomon'], dtype=object)"
      ]
     },
     "execution_count": 55,
     "metadata": {},
     "output_type": "execute_result"
    }
   ],
   "source": [
    "dispo1['Pays']= dispo1['Pays'].replace(['Tchéquie (la)'],'Tchéquie')\n",
    "dispo1['Pays'].unique()"
   ]
  },
  {
   "cell_type": "markdown",
   "id": "fee5b410",
   "metadata": {},
   "source": [
    "### 2-4. Fichier sous_nutrition.csv"
   ]
  },
  {
   "cell_type": "code",
   "execution_count": 56,
   "id": "67f4f1bc",
   "metadata": {},
   "outputs": [],
   "source": [
    "nutri1 = pd.read_csv('sous_nutrition.csv')"
   ]
  },
  {
   "cell_type": "code",
   "execution_count": 57,
   "id": "c311741d",
   "metadata": {},
   "outputs": [
    {
     "data": {
      "text/html": [
       "<div>\n",
       "<style scoped>\n",
       "    .dataframe tbody tr th:only-of-type {\n",
       "        vertical-align: middle;\n",
       "    }\n",
       "\n",
       "    .dataframe tbody tr th {\n",
       "        vertical-align: top;\n",
       "    }\n",
       "\n",
       "    .dataframe thead th {\n",
       "        text-align: right;\n",
       "    }\n",
       "</style>\n",
       "<table border=\"1\" class=\"dataframe\">\n",
       "  <thead>\n",
       "    <tr style=\"text-align: right;\">\n",
       "      <th></th>\n",
       "      <th>Zone</th>\n",
       "      <th>Année</th>\n",
       "      <th>Valeur</th>\n",
       "    </tr>\n",
       "  </thead>\n",
       "  <tbody>\n",
       "    <tr>\n",
       "      <th>0</th>\n",
       "      <td>Afghanistan</td>\n",
       "      <td>2012-2014</td>\n",
       "      <td>8.6</td>\n",
       "    </tr>\n",
       "    <tr>\n",
       "      <th>1</th>\n",
       "      <td>Afghanistan</td>\n",
       "      <td>2013-2015</td>\n",
       "      <td>8.8</td>\n",
       "    </tr>\n",
       "    <tr>\n",
       "      <th>2</th>\n",
       "      <td>Afghanistan</td>\n",
       "      <td>2014-2016</td>\n",
       "      <td>8.9</td>\n",
       "    </tr>\n",
       "    <tr>\n",
       "      <th>3</th>\n",
       "      <td>Afghanistan</td>\n",
       "      <td>2015-2017</td>\n",
       "      <td>9.7</td>\n",
       "    </tr>\n",
       "    <tr>\n",
       "      <th>4</th>\n",
       "      <td>Afghanistan</td>\n",
       "      <td>2016-2018</td>\n",
       "      <td>10.5</td>\n",
       "    </tr>\n",
       "  </tbody>\n",
       "</table>\n",
       "</div>"
      ],
      "text/plain": [
       "          Zone      Année Valeur\n",
       "0  Afghanistan  2012-2014    8.6\n",
       "1  Afghanistan  2013-2015    8.8\n",
       "2  Afghanistan  2014-2016    8.9\n",
       "3  Afghanistan  2015-2017    9.7\n",
       "4  Afghanistan  2016-2018   10.5"
      ]
     },
     "execution_count": 57,
     "metadata": {},
     "output_type": "execute_result"
    }
   ],
   "source": [
    "nutri1.head()"
   ]
  },
  {
   "cell_type": "code",
   "execution_count": 58,
   "id": "596bd655",
   "metadata": {},
   "outputs": [
    {
     "data": {
      "text/plain": [
       "Index(['Zone', 'Année', 'Valeur'], dtype='object')"
      ]
     },
     "execution_count": 58,
     "metadata": {},
     "output_type": "execute_result"
    }
   ],
   "source": [
    "nutri1.columns"
   ]
  },
  {
   "cell_type": "code",
   "execution_count": 59,
   "id": "66856a3a",
   "metadata": {},
   "outputs": [
    {
     "data": {
      "text/plain": [
       "Zone      object\n",
       "Année     object\n",
       "Valeur    object\n",
       "dtype: object"
      ]
     },
     "execution_count": 59,
     "metadata": {},
     "output_type": "execute_result"
    }
   ],
   "source": [
    "nutri1.dtypes # attention au type de '´Valeur' qui doit etre un numerique et penser a une solution pour la valeur <0.1 "
   ]
  },
  {
   "cell_type": "code",
   "execution_count": 60,
   "id": "08cc89a4",
   "metadata": {},
   "outputs": [
    {
     "name": "stdout",
     "output_type": "stream",
     "text": [
      "<class 'pandas.core.frame.DataFrame'>\n",
      "RangeIndex: 1218 entries, 0 to 1217\n",
      "Data columns (total 3 columns):\n",
      " #   Column  Non-Null Count  Dtype \n",
      "---  ------  --------------  ----- \n",
      " 0   Zone    1218 non-null   object\n",
      " 1   Année   1218 non-null   object\n",
      " 2   Valeur  624 non-null    object\n",
      "dtypes: object(3)\n",
      "memory usage: 28.7+ KB\n"
     ]
    }
   ],
   "source": [
    "nutri1.info()"
   ]
  },
  {
   "cell_type": "code",
   "execution_count": 61,
   "id": "b1ab4d55",
   "metadata": {},
   "outputs": [
    {
     "data": {
      "text/plain": [
       "(1218, 3)"
      ]
     },
     "execution_count": 61,
     "metadata": {},
     "output_type": "execute_result"
    }
   ],
   "source": [
    "nutri1.shape"
   ]
  },
  {
   "cell_type": "code",
   "execution_count": 62,
   "id": "ad60d5fc",
   "metadata": {},
   "outputs": [
    {
     "data": {
      "text/html": [
       "<div>\n",
       "<style scoped>\n",
       "    .dataframe tbody tr th:only-of-type {\n",
       "        vertical-align: middle;\n",
       "    }\n",
       "\n",
       "    .dataframe tbody tr th {\n",
       "        vertical-align: top;\n",
       "    }\n",
       "\n",
       "    .dataframe thead th {\n",
       "        text-align: right;\n",
       "    }\n",
       "</style>\n",
       "<table border=\"1\" class=\"dataframe\">\n",
       "  <thead>\n",
       "    <tr style=\"text-align: right;\">\n",
       "      <th></th>\n",
       "      <th>Zone</th>\n",
       "      <th>Année</th>\n",
       "      <th>Valeur</th>\n",
       "    </tr>\n",
       "  </thead>\n",
       "  <tbody>\n",
       "    <tr>\n",
       "      <th>count</th>\n",
       "      <td>1218</td>\n",
       "      <td>1218</td>\n",
       "      <td>624</td>\n",
       "    </tr>\n",
       "    <tr>\n",
       "      <th>unique</th>\n",
       "      <td>203</td>\n",
       "      <td>6</td>\n",
       "      <td>139</td>\n",
       "    </tr>\n",
       "    <tr>\n",
       "      <th>top</th>\n",
       "      <td>Afghanistan</td>\n",
       "      <td>2012-2014</td>\n",
       "      <td>&lt;0.1</td>\n",
       "    </tr>\n",
       "    <tr>\n",
       "      <th>freq</th>\n",
       "      <td>6</td>\n",
       "      <td>203</td>\n",
       "      <td>120</td>\n",
       "    </tr>\n",
       "  </tbody>\n",
       "</table>\n",
       "</div>"
      ],
      "text/plain": [
       "               Zone      Année Valeur\n",
       "count          1218       1218    624\n",
       "unique          203          6    139\n",
       "top     Afghanistan  2012-2014   <0.1\n",
       "freq              6        203    120"
      ]
     },
     "execution_count": 62,
     "metadata": {},
     "output_type": "execute_result"
    }
   ],
   "source": [
    "nutri1.describe(include='all')\n",
    "\n",
    "# d'abord remplacer la valeur \"<0.1\" soit par 0 ou par un autre chiffre. \n",
    "# ensuite changer le type de cette colonne en numeric"
   ]
  },
  {
   "cell_type": "code",
   "execution_count": 63,
   "id": "ce950d6b",
   "metadata": {
    "scrolled": true
   },
   "outputs": [
    {
     "data": {
      "text/plain": [
       "Zone        0\n",
       "Année       0\n",
       "Valeur    594\n",
       "dtype: int64"
      ]
     },
     "execution_count": 63,
     "metadata": {},
     "output_type": "execute_result"
    }
   ],
   "source": [
    "nutri1.isnull().sum()"
   ]
  },
  {
   "cell_type": "code",
   "execution_count": 64,
   "id": "5df7d952",
   "metadata": {},
   "outputs": [
    {
     "data": {
      "text/html": [
       "<div>\n",
       "<style scoped>\n",
       "    .dataframe tbody tr th:only-of-type {\n",
       "        vertical-align: middle;\n",
       "    }\n",
       "\n",
       "    .dataframe tbody tr th {\n",
       "        vertical-align: top;\n",
       "    }\n",
       "\n",
       "    .dataframe thead th {\n",
       "        text-align: right;\n",
       "    }\n",
       "</style>\n",
       "<table border=\"1\" class=\"dataframe\">\n",
       "  <thead>\n",
       "    <tr style=\"text-align: right;\">\n",
       "      <th></th>\n",
       "      <th>Zone</th>\n",
       "      <th>Année</th>\n",
       "      <th>Valeur</th>\n",
       "    </tr>\n",
       "  </thead>\n",
       "  <tbody>\n",
       "    <tr>\n",
       "      <th>count</th>\n",
       "      <td>1218</td>\n",
       "      <td>1218</td>\n",
       "      <td>624</td>\n",
       "    </tr>\n",
       "    <tr>\n",
       "      <th>unique</th>\n",
       "      <td>203</td>\n",
       "      <td>6</td>\n",
       "      <td>139</td>\n",
       "    </tr>\n",
       "    <tr>\n",
       "      <th>top</th>\n",
       "      <td>Afghanistan</td>\n",
       "      <td>2012-2014</td>\n",
       "      <td>&lt;0.1</td>\n",
       "    </tr>\n",
       "    <tr>\n",
       "      <th>freq</th>\n",
       "      <td>6</td>\n",
       "      <td>203</td>\n",
       "      <td>120</td>\n",
       "    </tr>\n",
       "  </tbody>\n",
       "</table>\n",
       "</div>"
      ],
      "text/plain": [
       "               Zone      Année Valeur\n",
       "count          1218       1218    624\n",
       "unique          203          6    139\n",
       "top     Afghanistan  2012-2014   <0.1\n",
       "freq              6        203    120"
      ]
     },
     "execution_count": 64,
     "metadata": {},
     "output_type": "execute_result"
    }
   ],
   "source": [
    "###Calcul des statistiques élementaires (min,max,moyenne, écart type...) pour toutes les variables quantitatives\n",
    "nutri1.describe(include='all')"
   ]
  },
  {
   "cell_type": "markdown",
   "id": "1de4f19a",
   "metadata": {},
   "source": [
    "### 2-4.1 Nettoyage"
   ]
  },
  {
   "cell_type": "markdown",
   "id": "881ee9d7",
   "metadata": {},
   "source": [
    "D'abord remplacer la valeur \"<0.1\"  par 0.1, ensuite changer le type de cette colonne en numeric "
   ]
  },
  {
   "cell_type": "code",
   "execution_count": 65,
   "id": "e3af61d8",
   "metadata": {},
   "outputs": [
    {
     "data": {
      "text/html": [
       "<div>\n",
       "<style scoped>\n",
       "    .dataframe tbody tr th:only-of-type {\n",
       "        vertical-align: middle;\n",
       "    }\n",
       "\n",
       "    .dataframe tbody tr th {\n",
       "        vertical-align: top;\n",
       "    }\n",
       "\n",
       "    .dataframe thead th {\n",
       "        text-align: right;\n",
       "    }\n",
       "</style>\n",
       "<table border=\"1\" class=\"dataframe\">\n",
       "  <thead>\n",
       "    <tr style=\"text-align: right;\">\n",
       "      <th></th>\n",
       "      <th>Zone</th>\n",
       "      <th>Année</th>\n",
       "      <th>Valeur</th>\n",
       "    </tr>\n",
       "  </thead>\n",
       "  <tbody>\n",
       "    <tr>\n",
       "      <th>count</th>\n",
       "      <td>1218</td>\n",
       "      <td>1218</td>\n",
       "      <td>1218.000000</td>\n",
       "    </tr>\n",
       "    <tr>\n",
       "      <th>unique</th>\n",
       "      <td>203</td>\n",
       "      <td>6</td>\n",
       "      <td>NaN</td>\n",
       "    </tr>\n",
       "    <tr>\n",
       "      <th>top</th>\n",
       "      <td>Afghanistan</td>\n",
       "      <td>2012-2014</td>\n",
       "      <td>NaN</td>\n",
       "    </tr>\n",
       "    <tr>\n",
       "      <th>freq</th>\n",
       "      <td>6</td>\n",
       "      <td>203</td>\n",
       "      <td>NaN</td>\n",
       "    </tr>\n",
       "    <tr>\n",
       "      <th>mean</th>\n",
       "      <td>NaN</td>\n",
       "      <td>NaN</td>\n",
       "      <td>2.615764</td>\n",
       "    </tr>\n",
       "    <tr>\n",
       "      <th>std</th>\n",
       "      <td>NaN</td>\n",
       "      <td>NaN</td>\n",
       "      <td>14.148629</td>\n",
       "    </tr>\n",
       "    <tr>\n",
       "      <th>min</th>\n",
       "      <td>NaN</td>\n",
       "      <td>NaN</td>\n",
       "      <td>0.000000</td>\n",
       "    </tr>\n",
       "    <tr>\n",
       "      <th>25%</th>\n",
       "      <td>NaN</td>\n",
       "      <td>NaN</td>\n",
       "      <td>0.000000</td>\n",
       "    </tr>\n",
       "    <tr>\n",
       "      <th>50%</th>\n",
       "      <td>NaN</td>\n",
       "      <td>NaN</td>\n",
       "      <td>0.010000</td>\n",
       "    </tr>\n",
       "    <tr>\n",
       "      <th>75%</th>\n",
       "      <td>NaN</td>\n",
       "      <td>NaN</td>\n",
       "      <td>1.200000</td>\n",
       "    </tr>\n",
       "    <tr>\n",
       "      <th>max</th>\n",
       "      <td>NaN</td>\n",
       "      <td>NaN</td>\n",
       "      <td>203.800000</td>\n",
       "    </tr>\n",
       "  </tbody>\n",
       "</table>\n",
       "</div>"
      ],
      "text/plain": [
       "               Zone      Année       Valeur\n",
       "count          1218       1218  1218.000000\n",
       "unique          203          6          NaN\n",
       "top     Afghanistan  2012-2014          NaN\n",
       "freq              6        203          NaN\n",
       "mean            NaN        NaN     2.615764\n",
       "std             NaN        NaN    14.148629\n",
       "min             NaN        NaN     0.000000\n",
       "25%             NaN        NaN     0.000000\n",
       "50%             NaN        NaN     0.010000\n",
       "75%             NaN        NaN     1.200000\n",
       "max             NaN        NaN   203.800000"
      ]
     },
     "execution_count": 65,
     "metadata": {},
     "output_type": "execute_result"
    }
   ],
   "source": [
    "nutri1['Valeur']= nutri1['Valeur'].replace(['<0.1'],'0.01')\n",
    "nutri1['Valeur']= nutri1['Valeur'].astype(float)\n",
    "nutri1.fillna(0, inplace=True)\n",
    "nutri1.describe(include='all')"
   ]
  },
  {
   "cell_type": "code",
   "execution_count": 66,
   "id": "1b181d40",
   "metadata": {},
   "outputs": [
    {
     "data": {
      "text/plain": [
       "Zone       object\n",
       "Année      object\n",
       "Valeur    float64\n",
       "dtype: object"
      ]
     },
     "execution_count": 66,
     "metadata": {},
     "output_type": "execute_result"
    }
   ],
   "source": [
    "nutri1.dtypes"
   ]
  },
  {
   "cell_type": "markdown",
   "id": "210a2372",
   "metadata": {},
   "source": [
    "### Commentaires nutri1\n",
    "Renommer la colonne \"Zone\" et \"Valeur\" --- \n",
    "Unite: \"Valeur\"en millions d’habitants(personnes sous-alimentation)  =>  en Millions d'habitants"
   ]
  },
  {
   "cell_type": "markdown",
   "id": "1fc40c91",
   "metadata": {},
   "source": [
    "Changement de nom Zone a Pays et Valeur a milliers d'habitants  "
   ]
  },
  {
   "cell_type": "code",
   "execution_count": 67,
   "id": "0b416492",
   "metadata": {},
   "outputs": [
    {
     "data": {
      "text/html": [
       "<div>\n",
       "<style scoped>\n",
       "    .dataframe tbody tr th:only-of-type {\n",
       "        vertical-align: middle;\n",
       "    }\n",
       "\n",
       "    .dataframe tbody tr th {\n",
       "        vertical-align: top;\n",
       "    }\n",
       "\n",
       "    .dataframe thead th {\n",
       "        text-align: right;\n",
       "    }\n",
       "</style>\n",
       "<table border=\"1\" class=\"dataframe\">\n",
       "  <thead>\n",
       "    <tr style=\"text-align: right;\">\n",
       "      <th></th>\n",
       "      <th>Pays</th>\n",
       "      <th>Année</th>\n",
       "      <th>PopSN</th>\n",
       "    </tr>\n",
       "  </thead>\n",
       "  <tbody>\n",
       "    <tr>\n",
       "      <th>0</th>\n",
       "      <td>Afghanistan</td>\n",
       "      <td>2012-2014</td>\n",
       "      <td>8600000.0</td>\n",
       "    </tr>\n",
       "    <tr>\n",
       "      <th>1</th>\n",
       "      <td>Afghanistan</td>\n",
       "      <td>2013-2015</td>\n",
       "      <td>8800000.0</td>\n",
       "    </tr>\n",
       "    <tr>\n",
       "      <th>2</th>\n",
       "      <td>Afghanistan</td>\n",
       "      <td>2014-2016</td>\n",
       "      <td>8900000.0</td>\n",
       "    </tr>\n",
       "    <tr>\n",
       "      <th>3</th>\n",
       "      <td>Afghanistan</td>\n",
       "      <td>2015-2017</td>\n",
       "      <td>9700000.0</td>\n",
       "    </tr>\n",
       "    <tr>\n",
       "      <th>4</th>\n",
       "      <td>Afghanistan</td>\n",
       "      <td>2016-2018</td>\n",
       "      <td>10500000.0</td>\n",
       "    </tr>\n",
       "  </tbody>\n",
       "</table>\n",
       "</div>"
      ],
      "text/plain": [
       "          Pays      Année       PopSN\n",
       "0  Afghanistan  2012-2014   8600000.0\n",
       "1  Afghanistan  2013-2015   8800000.0\n",
       "2  Afghanistan  2014-2016   8900000.0\n",
       "3  Afghanistan  2015-2017   9700000.0\n",
       "4  Afghanistan  2016-2018  10500000.0"
      ]
     },
     "execution_count": 67,
     "metadata": {},
     "output_type": "execute_result"
    }
   ],
   "source": [
    "nutri1.rename(columns={\"Zone\":\"Pays\", \"Valeur\":'PopSN'}, inplace=True) \n",
    "nutri1['PopSN']*= 1000000\n",
    "nutri1.head()"
   ]
  },
  {
   "cell_type": "code",
   "execution_count": 68,
   "id": "18c78657",
   "metadata": {},
   "outputs": [
    {
     "data": {
      "text/plain": [
       "Pays     0\n",
       "Année    0\n",
       "PopSN    0\n",
       "dtype: int64"
      ]
     },
     "execution_count": 68,
     "metadata": {},
     "output_type": "execute_result"
    }
   ],
   "source": [
    "nutri1.isnull().sum()"
   ]
  },
  {
   "cell_type": "code",
   "execution_count": 69,
   "id": "461360aa",
   "metadata": {},
   "outputs": [
    {
     "data": {
      "text/html": [
       "<div>\n",
       "<style scoped>\n",
       "    .dataframe tbody tr th:only-of-type {\n",
       "        vertical-align: middle;\n",
       "    }\n",
       "\n",
       "    .dataframe tbody tr th {\n",
       "        vertical-align: top;\n",
       "    }\n",
       "\n",
       "    .dataframe thead th {\n",
       "        text-align: right;\n",
       "    }\n",
       "</style>\n",
       "<table border=\"1\" class=\"dataframe\">\n",
       "  <thead>\n",
       "    <tr style=\"text-align: right;\">\n",
       "      <th></th>\n",
       "      <th>PopSN</th>\n",
       "    </tr>\n",
       "  </thead>\n",
       "  <tbody>\n",
       "    <tr>\n",
       "      <th>count</th>\n",
       "      <td>1.218000e+03</td>\n",
       "    </tr>\n",
       "    <tr>\n",
       "      <th>mean</th>\n",
       "      <td>2.615764e+06</td>\n",
       "    </tr>\n",
       "    <tr>\n",
       "      <th>std</th>\n",
       "      <td>1.414863e+07</td>\n",
       "    </tr>\n",
       "    <tr>\n",
       "      <th>min</th>\n",
       "      <td>0.000000e+00</td>\n",
       "    </tr>\n",
       "    <tr>\n",
       "      <th>25%</th>\n",
       "      <td>0.000000e+00</td>\n",
       "    </tr>\n",
       "    <tr>\n",
       "      <th>50%</th>\n",
       "      <td>1.000000e+04</td>\n",
       "    </tr>\n",
       "    <tr>\n",
       "      <th>75%</th>\n",
       "      <td>1.200000e+06</td>\n",
       "    </tr>\n",
       "    <tr>\n",
       "      <th>max</th>\n",
       "      <td>2.038000e+08</td>\n",
       "    </tr>\n",
       "  </tbody>\n",
       "</table>\n",
       "</div>"
      ],
      "text/plain": [
       "              PopSN\n",
       "count  1.218000e+03\n",
       "mean   2.615764e+06\n",
       "std    1.414863e+07\n",
       "min    0.000000e+00\n",
       "25%    0.000000e+00\n",
       "50%    1.000000e+04\n",
       "75%    1.200000e+06\n",
       "max    2.038000e+08"
      ]
     },
     "execution_count": 69,
     "metadata": {},
     "output_type": "execute_result"
    }
   ],
   "source": [
    "nutri1.describe()"
   ]
  },
  {
   "cell_type": "code",
   "execution_count": 70,
   "id": "721fc447",
   "metadata": {},
   "outputs": [
    {
     "data": {
      "text/plain": [
       "array(['2012-2014', '2013-2015', '2014-2016', '2015-2017', '2016-2018',\n",
       "       '2017-2019'], dtype=object)"
      ]
     },
     "execution_count": 70,
     "metadata": {},
     "output_type": "execute_result"
    }
   ],
   "source": [
    "nutri1['Année'].unique()"
   ]
  },
  {
   "cell_type": "markdown",
   "id": "d2b56fc3",
   "metadata": {},
   "source": [
    "# 3. Analyse des données "
   ]
  },
  {
   "cell_type": "markdown",
   "id": "7f94a0db",
   "metadata": {},
   "source": [
    "### 3-1. Proportion des personnes en état de sous-nutrition, année 2017"
   ]
  },
  {
   "cell_type": "markdown",
   "id": "556b7fb4",
   "metadata": {},
   "source": [
    "Jointure des tables Pop1 (2017) avec Nutri1 (2016-2018) index (Pays)"
   ]
  },
  {
   "cell_type": "code",
   "execution_count": 71,
   "id": "87908c79",
   "metadata": {
    "scrolled": true
   },
   "outputs": [
    {
     "data": {
      "text/html": [
       "<div>\n",
       "<style scoped>\n",
       "    .dataframe tbody tr th:only-of-type {\n",
       "        vertical-align: middle;\n",
       "    }\n",
       "\n",
       "    .dataframe tbody tr th {\n",
       "        vertical-align: top;\n",
       "    }\n",
       "\n",
       "    .dataframe thead th {\n",
       "        text-align: right;\n",
       "    }\n",
       "</style>\n",
       "<table border=\"1\" class=\"dataframe\">\n",
       "  <thead>\n",
       "    <tr style=\"text-align: right;\">\n",
       "      <th></th>\n",
       "      <th>Pays</th>\n",
       "      <th>Année</th>\n",
       "      <th>Pop</th>\n",
       "      <th>PopSN</th>\n",
       "    </tr>\n",
       "  </thead>\n",
       "  <tbody>\n",
       "    <tr>\n",
       "      <th>0</th>\n",
       "      <td>Afghanistan</td>\n",
       "      <td>2017</td>\n",
       "      <td>36296113.0</td>\n",
       "      <td>10500000.0</td>\n",
       "    </tr>\n",
       "    <tr>\n",
       "      <th>1</th>\n",
       "      <td>Afrique du Sud</td>\n",
       "      <td>2017</td>\n",
       "      <td>57009756.0</td>\n",
       "      <td>3100000.0</td>\n",
       "    </tr>\n",
       "    <tr>\n",
       "      <th>2</th>\n",
       "      <td>Albanie</td>\n",
       "      <td>2017</td>\n",
       "      <td>2884169.0</td>\n",
       "      <td>100000.0</td>\n",
       "    </tr>\n",
       "    <tr>\n",
       "      <th>3</th>\n",
       "      <td>Algérie</td>\n",
       "      <td>2017</td>\n",
       "      <td>41389189.0</td>\n",
       "      <td>1300000.0</td>\n",
       "    </tr>\n",
       "    <tr>\n",
       "      <th>4</th>\n",
       "      <td>Allemagne</td>\n",
       "      <td>2017</td>\n",
       "      <td>82658409.0</td>\n",
       "      <td>0.0</td>\n",
       "    </tr>\n",
       "  </tbody>\n",
       "</table>\n",
       "</div>"
      ],
      "text/plain": [
       "             Pays  Année         Pop       PopSN\n",
       "0     Afghanistan   2017  36296113.0  10500000.0\n",
       "1  Afrique du Sud   2017  57009756.0   3100000.0\n",
       "2         Albanie   2017   2884169.0    100000.0\n",
       "3         Algérie   2017  41389189.0   1300000.0\n",
       "4       Allemagne   2017  82658409.0         0.0"
      ]
     },
     "execution_count": 71,
     "metadata": {},
     "output_type": "execute_result"
    }
   ],
   "source": [
    "proportion = pd.merge(pop1.loc[pop1['Année'] == 2017, ['Pays','Année', 'Pop']],\n",
    "                nutri1.loc[nutri1['Année'] == '2016-2018', ['Pays', 'PopSN']],\n",
    "                on = 'Pays')\n",
    "proportion.head()"
   ]
  },
  {
   "cell_type": "code",
   "execution_count": 72,
   "id": "f70bc7be",
   "metadata": {},
   "outputs": [
    {
     "name": "stdout",
     "output_type": "stream",
     "text": [
      "Proportion de personnes en état de sous nutrition: 7.17 %\n"
     ]
    }
   ],
   "source": [
    "print(\"Proportion de personnes en état de sous nutrition:\", \"{:.2f}\".format(proportion[\"PopSN\"].sum()*100/proportion[\"Pop\"].sum()), \"%\")"
   ]
  },
  {
   "cell_type": "code",
   "execution_count": 73,
   "id": "76a90228",
   "metadata": {},
   "outputs": [
    {
     "data": {
      "text/plain": [
       "Pays     AfghanistanAfrique du SudAlbanieAlgérieAllemag...\n",
       "Année                                               407434\n",
       "Pop                                           7477071318.0\n",
       "PopSN                                          535900000.0\n",
       "dtype: object"
      ]
     },
     "execution_count": 73,
     "metadata": {},
     "output_type": "execute_result"
    }
   ],
   "source": [
    "proportion.sum()"
   ]
  },
  {
   "cell_type": "markdown",
   "id": "dcfe6052",
   "metadata": {},
   "source": [
    "### 3-2. Nombre théorique de personnes qui pourraient être nourries en 2017"
   ]
  },
  {
   "cell_type": "markdown",
   "id": "22ac7a1e",
   "metadata": {},
   "source": [
    "Jointure dispo alimentaire avec population, index (Pays) . Ensuite, calculer la disponibilite alimentaire en Kcal, "
   ]
  },
  {
   "cell_type": "code",
   "execution_count": 74,
   "id": "0dc4377f",
   "metadata": {},
   "outputs": [
    {
     "name": "stdout",
     "output_type": "stream",
     "text": [
      "Disponibilite alimentaire en kcal: 7731489402627990.00 kcal\n"
     ]
    }
   ],
   "source": [
    "dispo_Mondial = dispo1.merge (pop1.loc[pop1['Année']== 2017 , ['Pays', 'Pop', 'Année']], on = 'Pays', how = \"outer\")\n",
    "\n",
    "Kcal_Total_An = dispo_Mondial ['Disponibilité alimentaire (Kcal/personne/jour)'] * dispo_Mondial['Pop'] *365\n",
    "\n",
    "print(\"Disponibilite alimentaire en kcal:\",  \"{:.2f}\".format (Kcal_Total_An.sum()), \"kcal\")"
   ]
  },
  {
   "cell_type": "code",
   "execution_count": 75,
   "id": "14cb3a2f",
   "metadata": {
    "scrolled": true
   },
   "outputs": [
    {
     "name": "stdout",
     "output_type": "stream",
     "text": [
      "Nbre total d'etre humain pouvant etre nourris: 8472865099\n",
      "Pourcentage: 112.25 %\n"
     ]
    }
   ],
   "source": [
    "\n",
    "total = round (Kcal_Total_An.sum()/(2500*365))\n",
    "print(\"Nbre total d'etre humain pouvant etre nourris:\", total)\n",
    "\n",
    "print(\"Pourcentage:\",\"{:.2f}\".format(total * 100/pop1.loc[pop1['Année']== 2017, 'Pop'].sum()),\"%\") "
   ]
  },
  {
   "cell_type": "markdown",
   "id": "e7a65f26",
   "metadata": {},
   "source": [
    "### 3-3. Nombre théorique de personnes qui pourraient être nourries avec la disponibilité alimentaire des produits végétaux\n"
   ]
  },
  {
   "cell_type": "markdown",
   "id": "7b3492aa",
   "metadata": {},
   "source": [
    "Jointure Dispo_alimentaire et Population sur l'anne 2017 avec Index (Pays) "
   ]
  },
  {
   "cell_type": "code",
   "execution_count": 76,
   "id": "81bac1ff",
   "metadata": {},
   "outputs": [
    {
     "name": "stdout",
     "output_type": "stream",
     "text": [
      "Disponibilité alimentaire vegetale en kcal: 6369070937911640.00 kcal\n"
     ]
    }
   ],
   "source": [
    "disp_vegetale = pd.merge(dispo1.loc[dispo1[\"Origine\"] == 'vegetale'],\n",
    "                pop1.loc[pop1['Année']== 2017 , ['Pays', 'Pop', 'Année']], \n",
    "                on = 'Pays') \n",
    "\n",
    "nourri_vegetaux = disp_vegetale ['Disponibilité alimentaire (Kcal/personne/jour)'] * disp_vegetale ['Pop'] *365\n",
    "print(\"Disponibilité alimentaire vegetale en kcal:\",  \"{:.2f}\".format (nourri_vegetaux.sum()), \"kcal\")\n"
   ]
  },
  {
   "cell_type": "code",
   "execution_count": 77,
   "id": "be243bcf",
   "metadata": {},
   "outputs": [
    {
     "data": {
      "text/html": [
       "<div>\n",
       "<style scoped>\n",
       "    .dataframe tbody tr th:only-of-type {\n",
       "        vertical-align: middle;\n",
       "    }\n",
       "\n",
       "    .dataframe tbody tr th {\n",
       "        vertical-align: top;\n",
       "    }\n",
       "\n",
       "    .dataframe thead th {\n",
       "        text-align: right;\n",
       "    }\n",
       "</style>\n",
       "<table border=\"1\" class=\"dataframe\">\n",
       "  <thead>\n",
       "    <tr style=\"text-align: right;\">\n",
       "      <th></th>\n",
       "      <th>Pays</th>\n",
       "      <th>Produit</th>\n",
       "      <th>Origine</th>\n",
       "      <th>Aliments pour animaux_kg</th>\n",
       "      <th>Autres Utilisations_kg</th>\n",
       "      <th>Disponibilité alimentaire (Kcal/personne/jour)</th>\n",
       "      <th>Disponibilité alimentaire en quantité (kg/personne/an)</th>\n",
       "      <th>Disponibilité de matière grasse en quantité (g/personne/jour)</th>\n",
       "      <th>Disponibilité de protéines en quantité (g/personne/jour)</th>\n",
       "      <th>Disponibilité intérieure_kg</th>\n",
       "      <th>Exportations- Quantité_kg</th>\n",
       "      <th>Importations- Quantité_kg</th>\n",
       "      <th>Nourriture _kg</th>\n",
       "      <th>Pertes_kg</th>\n",
       "      <th>Production_kg</th>\n",
       "      <th>Semences_kg</th>\n",
       "      <th>Traitement_kg</th>\n",
       "      <th>Variation de stock_kg</th>\n",
       "      <th>Pop</th>\n",
       "      <th>Année</th>\n",
       "    </tr>\n",
       "  </thead>\n",
       "  <tbody>\n",
       "    <tr>\n",
       "      <th>0</th>\n",
       "      <td>Afghanistan</td>\n",
       "      <td>Agrumes, Autres</td>\n",
       "      <td>vegetale</td>\n",
       "      <td>0.0</td>\n",
       "      <td>0.0</td>\n",
       "      <td>1.0</td>\n",
       "      <td>1.29</td>\n",
       "      <td>0.01</td>\n",
       "      <td>0.02</td>\n",
       "      <td>41000000.0</td>\n",
       "      <td>2000000.0</td>\n",
       "      <td>40000000.0</td>\n",
       "      <td>39000000.0</td>\n",
       "      <td>2000000.0</td>\n",
       "      <td>3000000.0</td>\n",
       "      <td>0.0</td>\n",
       "      <td>0.0</td>\n",
       "      <td>0.0</td>\n",
       "      <td>36296113.0</td>\n",
       "      <td>2017</td>\n",
       "    </tr>\n",
       "    <tr>\n",
       "      <th>1</th>\n",
       "      <td>Afghanistan</td>\n",
       "      <td>Aliments pour enfants</td>\n",
       "      <td>vegetale</td>\n",
       "      <td>0.0</td>\n",
       "      <td>0.0</td>\n",
       "      <td>1.0</td>\n",
       "      <td>0.06</td>\n",
       "      <td>0.01</td>\n",
       "      <td>0.03</td>\n",
       "      <td>2000000.0</td>\n",
       "      <td>0.0</td>\n",
       "      <td>2000000.0</td>\n",
       "      <td>2000000.0</td>\n",
       "      <td>0.0</td>\n",
       "      <td>0.0</td>\n",
       "      <td>0.0</td>\n",
       "      <td>0.0</td>\n",
       "      <td>0.0</td>\n",
       "      <td>36296113.0</td>\n",
       "      <td>2017</td>\n",
       "    </tr>\n",
       "    <tr>\n",
       "      <th>2</th>\n",
       "      <td>Afghanistan</td>\n",
       "      <td>Ananas</td>\n",
       "      <td>vegetale</td>\n",
       "      <td>0.0</td>\n",
       "      <td>0.0</td>\n",
       "      <td>0.0</td>\n",
       "      <td>0.00</td>\n",
       "      <td>0.00</td>\n",
       "      <td>0.00</td>\n",
       "      <td>0.0</td>\n",
       "      <td>0.0</td>\n",
       "      <td>0.0</td>\n",
       "      <td>0.0</td>\n",
       "      <td>0.0</td>\n",
       "      <td>0.0</td>\n",
       "      <td>0.0</td>\n",
       "      <td>0.0</td>\n",
       "      <td>0.0</td>\n",
       "      <td>36296113.0</td>\n",
       "      <td>2017</td>\n",
       "    </tr>\n",
       "    <tr>\n",
       "      <th>3</th>\n",
       "      <td>Afghanistan</td>\n",
       "      <td>Bananes</td>\n",
       "      <td>vegetale</td>\n",
       "      <td>0.0</td>\n",
       "      <td>0.0</td>\n",
       "      <td>4.0</td>\n",
       "      <td>2.70</td>\n",
       "      <td>0.02</td>\n",
       "      <td>0.05</td>\n",
       "      <td>82000000.0</td>\n",
       "      <td>0.0</td>\n",
       "      <td>82000000.0</td>\n",
       "      <td>82000000.0</td>\n",
       "      <td>0.0</td>\n",
       "      <td>0.0</td>\n",
       "      <td>0.0</td>\n",
       "      <td>0.0</td>\n",
       "      <td>0.0</td>\n",
       "      <td>36296113.0</td>\n",
       "      <td>2017</td>\n",
       "    </tr>\n",
       "    <tr>\n",
       "      <th>4</th>\n",
       "      <td>Afghanistan</td>\n",
       "      <td>Bière</td>\n",
       "      <td>vegetale</td>\n",
       "      <td>0.0</td>\n",
       "      <td>0.0</td>\n",
       "      <td>0.0</td>\n",
       "      <td>0.09</td>\n",
       "      <td>0.00</td>\n",
       "      <td>0.00</td>\n",
       "      <td>3000000.0</td>\n",
       "      <td>0.0</td>\n",
       "      <td>3000000.0</td>\n",
       "      <td>3000000.0</td>\n",
       "      <td>0.0</td>\n",
       "      <td>0.0</td>\n",
       "      <td>0.0</td>\n",
       "      <td>0.0</td>\n",
       "      <td>0.0</td>\n",
       "      <td>36296113.0</td>\n",
       "      <td>2017</td>\n",
       "    </tr>\n",
       "  </tbody>\n",
       "</table>\n",
       "</div>"
      ],
      "text/plain": [
       "          Pays                Produit   Origine  Aliments pour animaux_kg  \\\n",
       "0  Afghanistan        Agrumes, Autres  vegetale                       0.0   \n",
       "1  Afghanistan  Aliments pour enfants  vegetale                       0.0   \n",
       "2  Afghanistan                 Ananas  vegetale                       0.0   \n",
       "3  Afghanistan                Bananes  vegetale                       0.0   \n",
       "4  Afghanistan                  Bière  vegetale                       0.0   \n",
       "\n",
       "   Autres Utilisations_kg  Disponibilité alimentaire (Kcal/personne/jour)  \\\n",
       "0                     0.0                                             1.0   \n",
       "1                     0.0                                             1.0   \n",
       "2                     0.0                                             0.0   \n",
       "3                     0.0                                             4.0   \n",
       "4                     0.0                                             0.0   \n",
       "\n",
       "   Disponibilité alimentaire en quantité (kg/personne/an)  \\\n",
       "0                                               1.29        \n",
       "1                                               0.06        \n",
       "2                                               0.00        \n",
       "3                                               2.70        \n",
       "4                                               0.09        \n",
       "\n",
       "   Disponibilité de matière grasse en quantité (g/personne/jour)  \\\n",
       "0                                               0.01               \n",
       "1                                               0.01               \n",
       "2                                               0.00               \n",
       "3                                               0.02               \n",
       "4                                               0.00               \n",
       "\n",
       "   Disponibilité de protéines en quantité (g/personne/jour)  \\\n",
       "0                                               0.02          \n",
       "1                                               0.03          \n",
       "2                                               0.00          \n",
       "3                                               0.05          \n",
       "4                                               0.00          \n",
       "\n",
       "   Disponibilité intérieure_kg  Exportations- Quantité_kg  \\\n",
       "0                   41000000.0                  2000000.0   \n",
       "1                    2000000.0                        0.0   \n",
       "2                          0.0                        0.0   \n",
       "3                   82000000.0                        0.0   \n",
       "4                    3000000.0                        0.0   \n",
       "\n",
       "   Importations- Quantité_kg  Nourriture _kg  Pertes_kg  Production_kg  \\\n",
       "0                 40000000.0      39000000.0  2000000.0      3000000.0   \n",
       "1                  2000000.0       2000000.0        0.0            0.0   \n",
       "2                        0.0             0.0        0.0            0.0   \n",
       "3                 82000000.0      82000000.0        0.0            0.0   \n",
       "4                  3000000.0       3000000.0        0.0            0.0   \n",
       "\n",
       "   Semences_kg  Traitement_kg  Variation de stock_kg         Pop  Année  \n",
       "0          0.0            0.0                    0.0  36296113.0   2017  \n",
       "1          0.0            0.0                    0.0  36296113.0   2017  \n",
       "2          0.0            0.0                    0.0  36296113.0   2017  \n",
       "3          0.0            0.0                    0.0  36296113.0   2017  \n",
       "4          0.0            0.0                    0.0  36296113.0   2017  "
      ]
     },
     "execution_count": 77,
     "metadata": {},
     "output_type": "execute_result"
    }
   ],
   "source": [
    "disp_vegetale.head()"
   ]
  },
  {
   "cell_type": "code",
   "execution_count": 78,
   "id": "3b8cb480",
   "metadata": {},
   "outputs": [
    {
     "name": "stdout",
     "output_type": "stream",
     "text": [
      "Nbre total d'etre humain pouvant etre nourris avec produits vegetaux: 6979803768\n",
      "Pourcentage: 92.47 %\n"
     ]
    }
   ],
   "source": [
    "nourri_vegetaux_total = round (nourri_vegetaux.sum()/(2500*365))\n",
    "print(\"Nbre total d'etre humain pouvant etre nourris avec produits vegetaux:\", nourri_vegetaux_total)\n",
    "print(\"Pourcentage:\",\"{:.2f}\".format (nourri_vegetaux_total*100/ pop1.loc[pop1['Année']== 2017, 'Pop'].sum()),\"%\")"
   ]
  },
  {
   "cell_type": "markdown",
   "id": "c3c8af0d",
   "metadata": {},
   "source": [
    "### 3-4. L'utilisation de la disponibilité intérieure, en particulier la part qui est attribuée à l’alimentation animale,  celle qui est perdue et celle qui est concrètement utilisée pour l'alimentation humaine. \n"
   ]
  },
  {
   "cell_type": "markdown",
   "id": "680f0ce1",
   "metadata": {},
   "source": [
    "Disponibilité Alimentaire "
   ]
  },
  {
   "cell_type": "code",
   "execution_count": 79,
   "id": "316943be",
   "metadata": {},
   "outputs": [
    {
     "name": "stdout",
     "output_type": "stream",
     "text": [
      "Disponibilidad Alimentaire: 11201331000000.00\n"
     ]
    }
   ],
   "source": [
    "dispo_alimentaire = dispo1['Production_kg'] + dispo1['Importations- Quantité_kg']  + dispo1['Variation de stock_kg'] \n",
    "print (\"Disponibilidad Alimentaire:\", \"{:.2f}\".format (dispo_alimentaire.sum()))"
   ]
  },
  {
   "cell_type": "markdown",
   "id": "a92b4a39",
   "metadata": {},
   "source": [
    "Disponibilité intérieure "
   ]
  },
  {
   "cell_type": "code",
   "execution_count": 80,
   "id": "a1b2ba30",
   "metadata": {},
   "outputs": [
    {
     "name": "stdout",
     "output_type": "stream",
     "text": [
      "dispo_interieure: 9849173000000.00\n"
     ]
    }
   ],
   "source": [
    "dispo_interieure = dispo_alimentaire - dispo1['Exportations- Quantité_kg']\n",
    "print (\"dispo_interieure:\", \"{:.2f}\".format (dispo_interieure.sum()))"
   ]
  },
  {
   "cell_type": "markdown",
   "id": "787f8bb9",
   "metadata": {},
   "source": [
    "Calcul des proportions attribuées a la dispo interieure"
   ]
  },
  {
   "cell_type": "code",
   "execution_count": 81,
   "id": "39dcd891",
   "metadata": {},
   "outputs": [
    {
     "name": "stdout",
     "output_type": "stream",
     "text": [
      "Proportion de Aliments pour animaux_kg : 13.24 %\n",
      "Proportion de Pertes_kg : 4.61 %\n",
      "Proportion de Nourriture _kg : 49.51 %\n"
     ]
    }
   ],
   "source": [
    "dispo_sum1 = dispo_interieure.sum()\n",
    "\n",
    "for X in ['Aliments pour animaux_kg','Pertes_kg', 'Nourriture _kg' ]:\n",
    "    print(\"Proportion de\", X, \":\", \"{:.2F}\".format(dispo1[X].sum()*100/dispo_sum1),  \"%\")   \n",
    "    "
   ]
  },
  {
   "cell_type": "markdown",
   "id": "2ca89797",
   "metadata": {},
   "source": [
    "### Graphique de disponibilté interieur \n",
    "\n",
    "\n",
    "\n",
    "On remarque la presence d'un lien logique entre les 10 variables quantitative du dataframe dispo alimentaire (dispo1) qui ce presente sous la forme d'une équation :\n",
    "\n",
    "Semences + Nourriture + Perte + Autre utilisation + Aliments pour animaux + Traitement = Disponibilité intérieure = Production + Importations - Exportations + Variation des stocks"
   ]
  },
  {
   "cell_type": "code",
   "execution_count": 103,
   "id": "22fdd756",
   "metadata": {},
   "outputs": [
    {
     "name": "stdout",
     "output_type": "stream",
     "text": [
      "Proportion de Semences_kg : 1.57 %\n",
      "Proportion de Nourriture _kg : 49.51 %\n",
      "Proportion de Pertes_kg : 4.61 %\n",
      "Proportion de Autres Utilisations_kg : 8.78 %\n",
      "Proportion de Aliments pour animaux_kg : 13.24 %\n",
      "Proportion de Traitement_kg : 22.38 %\n",
      "Proportion de Production_kg : 101.63 %\n",
      "Proportion de Importations- Quantité_kg : 13.16 %\n",
      "Proportion de Exportations- Quantité_kg : 13.73 %\n",
      "Proportion de Variation de stock_kg : -1.06 %\n"
     ]
    },
    {
     "data": {
      "image/png": "[encoded data removed]",
      "text/plain": [
       "<Figure size 504x504 with 1 Axes>"
      ]
     },
     "metadata": {},
     "output_type": "display_data"
    }
   ],
   "source": [
    "dispo_sum = dispo1[\"Disponibilité intérieure_kg\"].sum()\n",
    "\n",
    "\n",
    "for X in ['Semences_kg', 'Nourriture _kg', 'Pertes_kg', 'Autres Utilisations_kg', 'Aliments pour animaux_kg', 'Traitement_kg', 'Production_kg','Importations- Quantité_kg', 'Exportations- Quantité_kg', 'Variation de stock_kg']:\n",
    "    print(\"Proportion de\", X, \":\", \"{:.2F}\".format(dispo1[X].sum()*100/dispo_sum), \"%\")\n",
    "\n",
    "\n",
    "    # Pie chart, where the slices will be ordered and plotted counter-clockwise:\n",
    "    \n",
    "labels = 'Semences', 'Alimentation humaine', 'Pertes', 'Autres Utilisations', 'Aliments pour animaux', 'Traitement' \n",
    "sizes = [1.57, 49.51, 4.61, 8.78, 13.24, 22.38 ]\n",
    "explode = (0.1,0.1,0,0.2,0.2,0.2)# only \"explode\" the 3nd slice (i.e. 'Nourriture')\n",
    "colors = plt.cm.magma(np.linspace(0.4,0.95,5))\n",
    "\n",
    "\n",
    "\n",
    "fig1, ax = plt.subplots(figsize=(7,7))\n",
    "ax.pie(sizes, explode=explode, labels=labels,colors=colors,autopct='%1.1f%%',shadow=True, startangle=70,\n",
    "        wedgeprops=dict(width=1), textprops={'fontsize': 16})\n",
    "plt.title('Utilisation Mondiale des données alimentaires 2017 ' ,fontsize=18, color='indigo')\n",
    "\n",
    "plt.show()\n",
    "\n"
   ]
  },
  {
   "cell_type": "markdown",
   "id": "da5d25f0",
   "metadata": {},
   "source": [
    "## 4  Questions de Mélanie "
   ]
  },
  {
   "cell_type": "markdown",
   "id": "c8a798f9",
   "metadata": {},
   "source": [
    "### 4-1  Les pays pour lesquels la proportion de personnes sous-alimentées est la plus forte en 2017\n"
   ]
  },
  {
   "cell_type": "markdown",
   "id": "603e5c8a",
   "metadata": {},
   "source": [
    "Les pays pour lesquels la proportion de personnes sous-alimentées est la plus forte en 2017\n"
   ]
  },
  {
   "cell_type": "code",
   "execution_count": 83,
   "id": "faf53123",
   "metadata": {},
   "outputs": [
    {
     "data": {
      "text/html": [
       "<div>\n",
       "<style scoped>\n",
       "    .dataframe tbody tr th:only-of-type {\n",
       "        vertical-align: middle;\n",
       "    }\n",
       "\n",
       "    .dataframe tbody tr th {\n",
       "        vertical-align: top;\n",
       "    }\n",
       "\n",
       "    .dataframe thead th {\n",
       "        text-align: right;\n",
       "    }\n",
       "</style>\n",
       "<table border=\"1\" class=\"dataframe\">\n",
       "  <thead>\n",
       "    <tr style=\"text-align: right;\">\n",
       "      <th></th>\n",
       "      <th>Pays</th>\n",
       "      <th>Proportion_pays_2017</th>\n",
       "    </tr>\n",
       "  </thead>\n",
       "  <tbody>\n",
       "    <tr>\n",
       "      <th>78</th>\n",
       "      <td>Haïti</td>\n",
       "      <td>48.26</td>\n",
       "    </tr>\n",
       "    <tr>\n",
       "      <th>157</th>\n",
       "      <td>République populaire démocratique de Corée</td>\n",
       "      <td>47.19</td>\n",
       "    </tr>\n",
       "    <tr>\n",
       "      <th>108</th>\n",
       "      <td>Madagascar</td>\n",
       "      <td>41.06</td>\n",
       "    </tr>\n",
       "    <tr>\n",
       "      <th>103</th>\n",
       "      <td>Libéria</td>\n",
       "      <td>38.28</td>\n",
       "    </tr>\n",
       "    <tr>\n",
       "      <th>100</th>\n",
       "      <td>Lesotho</td>\n",
       "      <td>38.25</td>\n",
       "    </tr>\n",
       "    <tr>\n",
       "      <th>182</th>\n",
       "      <td>Tchad</td>\n",
       "      <td>37.96</td>\n",
       "    </tr>\n",
       "    <tr>\n",
       "      <th>160</th>\n",
       "      <td>Rwanda</td>\n",
       "      <td>35.06</td>\n",
       "    </tr>\n",
       "    <tr>\n",
       "      <th>121</th>\n",
       "      <td>Mozambique</td>\n",
       "      <td>32.81</td>\n",
       "    </tr>\n",
       "    <tr>\n",
       "      <th>185</th>\n",
       "      <td>Timor-Leste</td>\n",
       "      <td>32.17</td>\n",
       "    </tr>\n",
       "    <tr>\n",
       "      <th>0</th>\n",
       "      <td>Afghanistan</td>\n",
       "      <td>28.93</td>\n",
       "    </tr>\n",
       "  </tbody>\n",
       "</table>\n",
       "</div>"
      ],
      "text/plain": [
       "                                           Pays  Proportion_pays_2017\n",
       "78                                        Haïti                 48.26\n",
       "157  République populaire démocratique de Corée                 47.19\n",
       "108                                  Madagascar                 41.06\n",
       "103                                     Libéria                 38.28\n",
       "100                                     Lesotho                 38.25\n",
       "182                                       Tchad                 37.96\n",
       "160                                      Rwanda                 35.06\n",
       "121                                  Mozambique                 32.81\n",
       "185                                 Timor-Leste                 32.17\n",
       "0                                   Afghanistan                 28.93"
      ]
     },
     "execution_count": 83,
     "metadata": {},
     "output_type": "execute_result"
    },
    {
     "data": {
      "image/png": "[encoded data removed]",
      "text/plain": [
       "<Figure size 1080x360 with 1 Axes>"
      ]
     },
     "metadata": {
      "needs_background": "light"
     },
     "output_type": "display_data"
    }
   ],
   "source": [
    "\n",
    "proportion['Proportion_pays_2017'] = round ((proportion[\"PopSN\"]*100/proportion[\"Pop\"]),2)\n",
    "RT = proportion[['Pays', 'Proportion_pays_2017' ]].sort_values(['Proportion_pays_2017'], ascending = False).head(10)\n",
    "\n",
    "\n",
    "RT.head(10).plot.bar( 'Pays', rot = 90, legend =True , figsize =(15,5), width=0.85, linewidth=2, edgecolor=\"#FF6347\", \n",
    "                     colormap = cm.get_cmap(\"Pastel1\"), fontsize=14)\n",
    "plt.title(' Pays pour lesquels la proportion de personnes sous-alimentées est la plus forte en 2017',fontsize=18, color = 'tomato')\n",
    "plt.xlabel ('Pays',fontsize=15)\n",
    "plt.ylabel('Proportion par Pays 2017 (%)', fontsize=15)\n",
    "\n",
    "RT\n"
   ]
  },
  {
   "cell_type": "markdown",
   "id": "3c4832ab",
   "metadata": {},
   "source": [
    "###   4-2  Les pays qui ont le plus bénéficié d’aide depuis 2013"
   ]
  },
  {
   "cell_type": "code",
   "execution_count": 85,
   "id": "939cb4c4",
   "metadata": {},
   "outputs": [
    {
     "data": {
      "text/html": [
       "<div>\n",
       "<style scoped>\n",
       "    .dataframe tbody tr th:only-of-type {\n",
       "        vertical-align: middle;\n",
       "    }\n",
       "\n",
       "    .dataframe tbody tr th {\n",
       "        vertical-align: top;\n",
       "    }\n",
       "\n",
       "    .dataframe thead th {\n",
       "        text-align: right;\n",
       "    }\n",
       "</style>\n",
       "<table border=\"1\" class=\"dataframe\">\n",
       "  <thead>\n",
       "    <tr style=\"text-align: right;\">\n",
       "      <th></th>\n",
       "      <th>Pays</th>\n",
       "      <th>Année</th>\n",
       "      <th>Produit</th>\n",
       "      <th>Aide_kg</th>\n",
       "    </tr>\n",
       "  </thead>\n",
       "  <tbody>\n",
       "    <tr>\n",
       "      <th>0</th>\n",
       "      <td>Afghanistan</td>\n",
       "      <td>2013</td>\n",
       "      <td>Autres non-céréales</td>\n",
       "      <td>682000</td>\n",
       "    </tr>\n",
       "    <tr>\n",
       "      <th>1</th>\n",
       "      <td>Afghanistan</td>\n",
       "      <td>2014</td>\n",
       "      <td>Autres non-céréales</td>\n",
       "      <td>335000</td>\n",
       "    </tr>\n",
       "    <tr>\n",
       "      <th>2</th>\n",
       "      <td>Afghanistan</td>\n",
       "      <td>2013</td>\n",
       "      <td>Blé et Farin</td>\n",
       "      <td>39224000</td>\n",
       "    </tr>\n",
       "    <tr>\n",
       "      <th>3</th>\n",
       "      <td>Afghanistan</td>\n",
       "      <td>2014</td>\n",
       "      <td>Blé et Farin</td>\n",
       "      <td>15160000</td>\n",
       "    </tr>\n",
       "    <tr>\n",
       "      <th>4</th>\n",
       "      <td>Afghanistan</td>\n",
       "      <td>2013</td>\n",
       "      <td>Céréales</td>\n",
       "      <td>40504000</td>\n",
       "    </tr>\n",
       "  </tbody>\n",
       "</table>\n",
       "</div>"
      ],
      "text/plain": [
       "          Pays  Année              Produit   Aide_kg\n",
       "0  Afghanistan   2013  Autres non-céréales    682000\n",
       "1  Afghanistan   2014  Autres non-céréales    335000\n",
       "2  Afghanistan   2013         Blé et Farin  39224000\n",
       "3  Afghanistan   2014         Blé et Farin  15160000\n",
       "4  Afghanistan   2013             Céréales  40504000"
      ]
     },
     "execution_count": 85,
     "metadata": {},
     "output_type": "execute_result"
    }
   ],
   "source": [
    "aide1.head()"
   ]
  },
  {
   "cell_type": "code",
   "execution_count": 86,
   "id": "1c355eb3",
   "metadata": {},
   "outputs": [
    {
     "data": {
      "text/html": [
       "<div>\n",
       "<style scoped>\n",
       "    .dataframe tbody tr th:only-of-type {\n",
       "        vertical-align: middle;\n",
       "    }\n",
       "\n",
       "    .dataframe tbody tr th {\n",
       "        vertical-align: top;\n",
       "    }\n",
       "\n",
       "    .dataframe thead th {\n",
       "        text-align: right;\n",
       "    }\n",
       "</style>\n",
       "<table border=\"1\" class=\"dataframe\">\n",
       "  <thead>\n",
       "    <tr style=\"text-align: right;\">\n",
       "      <th></th>\n",
       "      <th>Aide_kg</th>\n",
       "    </tr>\n",
       "    <tr>\n",
       "      <th>Pays</th>\n",
       "      <th></th>\n",
       "    </tr>\n",
       "  </thead>\n",
       "  <tbody>\n",
       "    <tr>\n",
       "      <th>République arabe syrienne</th>\n",
       "      <td>1858943000</td>\n",
       "    </tr>\n",
       "    <tr>\n",
       "      <th>Éthiopie</th>\n",
       "      <td>1381294000</td>\n",
       "    </tr>\n",
       "    <tr>\n",
       "      <th>Yémen</th>\n",
       "      <td>1206484000</td>\n",
       "    </tr>\n",
       "    <tr>\n",
       "      <th>Soudan du Sud</th>\n",
       "      <td>695248000</td>\n",
       "    </tr>\n",
       "    <tr>\n",
       "      <th>Soudan</th>\n",
       "      <td>669784000</td>\n",
       "    </tr>\n",
       "    <tr>\n",
       "      <th>Kenya</th>\n",
       "      <td>552836000</td>\n",
       "    </tr>\n",
       "    <tr>\n",
       "      <th>Bangladesh</th>\n",
       "      <td>348188000</td>\n",
       "    </tr>\n",
       "    <tr>\n",
       "      <th>Somalie</th>\n",
       "      <td>292678000</td>\n",
       "    </tr>\n",
       "    <tr>\n",
       "      <th>République démocratique du Congo</th>\n",
       "      <td>288502000</td>\n",
       "    </tr>\n",
       "    <tr>\n",
       "      <th>Niger</th>\n",
       "      <td>276344000</td>\n",
       "    </tr>\n",
       "  </tbody>\n",
       "</table>\n",
       "</div>"
      ],
      "text/plain": [
       "                                     Aide_kg\n",
       "Pays                                        \n",
       "République arabe syrienne         1858943000\n",
       "Éthiopie                          1381294000\n",
       "Yémen                             1206484000\n",
       "Soudan du Sud                      695248000\n",
       "Soudan                             669784000\n",
       "Kenya                              552836000\n",
       "Bangladesh                         348188000\n",
       "Somalie                            292678000\n",
       "République démocratique du Congo   288502000\n",
       "Niger                              276344000"
      ]
     },
     "execution_count": 86,
     "metadata": {},
     "output_type": "execute_result"
    },
    {
     "data": {
      "image/png": "[encoded data removed]",
      "text/plain": [
       "<Figure size 1080x360 with 1 Axes>"
      ]
     },
     "metadata": {
      "needs_background": "light"
     },
     "output_type": "display_data"
    }
   ],
   "source": [
    "Aide_a = aide1\n",
    "benef_pays = pd.DataFrame(Aide_a)\n",
    "benef_pays = benef_pays.groupby('Pays')[[ 'Aide_kg']].sum().sort_values(by= \"Aide_kg\", ascending = False).head(10)\n",
    "\n",
    "benef_pays .head(10).plot.bar(rot = 90, legend =True , figsize =(15,5), width=0.85, linewidth=2, edgecolor=\"#f7bb5f\", colormap = cm.get_cmap(\"cool\"), fontsize=14 )\n",
    "\n",
    "plt.title('Pays qui ont le plus bénéficié d’aide depuis 2013',fontsize=18,color = '#f7bb5f')\n",
    "plt.xlabel ('Pays',fontsize=15)\n",
    "plt.ylabel('Aide reçu depuis 2013 (kg)', fontsize=15)\n",
    "\n",
    "\n",
    "benef_pays\n"
   ]
  },
  {
   "cell_type": "markdown",
   "id": "6af954d5",
   "metadata": {},
   "source": [
    "###  4-3 Les pays ayant le plus/le moins de disponibilité/habitant"
   ]
  },
  {
   "cell_type": "markdown",
   "id": "43d0acc2",
   "metadata": {},
   "source": [
    "####  Calculer les Pays ayant la plus disponibilité alimentaire jour pour habitant "
   ]
  },
  {
   "cell_type": "code",
   "execution_count": 87,
   "id": "73dd5306",
   "metadata": {},
   "outputs": [
    {
     "data": {
      "text/html": [
       "<div>\n",
       "<style scoped>\n",
       "    .dataframe tbody tr th:only-of-type {\n",
       "        vertical-align: middle;\n",
       "    }\n",
       "\n",
       "    .dataframe tbody tr th {\n",
       "        vertical-align: top;\n",
       "    }\n",
       "\n",
       "    .dataframe thead th {\n",
       "        text-align: right;\n",
       "    }\n",
       "</style>\n",
       "<table border=\"1\" class=\"dataframe\">\n",
       "  <thead>\n",
       "    <tr style=\"text-align: right;\">\n",
       "      <th></th>\n",
       "      <th>Disponibilité alimentaire (Kcal/personne/jour)</th>\n",
       "    </tr>\n",
       "    <tr>\n",
       "      <th>Pays</th>\n",
       "      <th></th>\n",
       "    </tr>\n",
       "  </thead>\n",
       "  <tbody>\n",
       "    <tr>\n",
       "      <th>Autriche</th>\n",
       "      <td>3770.0</td>\n",
       "    </tr>\n",
       "    <tr>\n",
       "      <th>Belgique</th>\n",
       "      <td>3737.0</td>\n",
       "    </tr>\n",
       "    <tr>\n",
       "      <th>Turquie</th>\n",
       "      <td>3708.0</td>\n",
       "    </tr>\n",
       "    <tr>\n",
       "      <th>États-Unis d'Amérique</th>\n",
       "      <td>3682.0</td>\n",
       "    </tr>\n",
       "    <tr>\n",
       "      <th>Israël</th>\n",
       "      <td>3610.0</td>\n",
       "    </tr>\n",
       "    <tr>\n",
       "      <th>Irlande</th>\n",
       "      <td>3602.0</td>\n",
       "    </tr>\n",
       "    <tr>\n",
       "      <th>Italie</th>\n",
       "      <td>3578.0</td>\n",
       "    </tr>\n",
       "    <tr>\n",
       "      <th>Luxembourg</th>\n",
       "      <td>3540.0</td>\n",
       "    </tr>\n",
       "    <tr>\n",
       "      <th>Égypte</th>\n",
       "      <td>3518.0</td>\n",
       "    </tr>\n",
       "    <tr>\n",
       "      <th>Allemagne</th>\n",
       "      <td>3503.0</td>\n",
       "    </tr>\n",
       "  </tbody>\n",
       "</table>\n",
       "</div>"
      ],
      "text/plain": [
       "                       Disponibilité alimentaire (Kcal/personne/jour)\n",
       "Pays                                                                 \n",
       "Autriche                                                       3770.0\n",
       "Belgique                                                       3737.0\n",
       "Turquie                                                        3708.0\n",
       "États-Unis d'Amérique                                          3682.0\n",
       "Israël                                                         3610.0\n",
       "Irlande                                                        3602.0\n",
       "Italie                                                         3578.0\n",
       "Luxembourg                                                     3540.0\n",
       "Égypte                                                         3518.0\n",
       "Allemagne                                                      3503.0"
      ]
     },
     "execution_count": 87,
     "metadata": {},
     "output_type": "execute_result"
    },
    {
     "data": {
      "image/png": "[encoded data removed]",
      "text/plain": [
       "<Figure size 936x360 with 1 Axes>"
      ]
     },
     "metadata": {
      "needs_background": "light"
     },
     "output_type": "display_data"
    }
   ],
   "source": [
    "\n",
    "dispo_pays = dispo1[['Pays', 'Produit','Disponibilité alimentaire (Kcal/personne/jour)']].groupby('Pays').sum().sort_values(by='Disponibilité alimentaire (Kcal/personne/jour)',  ascending =False).head(10)\n",
    "\n",
    "# Graphique  Pays ayant la plus disponibilité alimentaire annuel pour habitant\n",
    "\n",
    "dispo_pays.head(10).plot.bar(rot = 90, legend =True , figsize =(13,5), width=0.85, linewidth=1, edgecolor=\"#f7bb5f\", colormap = cm.get_cmap(\"Paired\"), fontsize=14 )\n",
    "\n",
    "plt.title('Pays ayant la plus disponibilité alimentaire ',fontsize=18,color = '#f7bb5f')\n",
    "plt.xlabel ('Pays',fontsize=15)\n",
    "plt.ylabel('Disponibilité alimentaire (Kcal/personne/jour) ', fontsize=15)\n",
    "plt.ylim(0, 4300)\n",
    "\n",
    "dispo_pays"
   ]
  },
  {
   "cell_type": "markdown",
   "id": "562c5a24",
   "metadata": {},
   "source": [
    "####  Calculer les Pays ayant la moins disponibilité alimentaire jour pour habitant "
   ]
  },
  {
   "cell_type": "code",
   "execution_count": 88,
   "id": "0907027f",
   "metadata": {},
   "outputs": [
    {
     "data": {
      "text/html": [
       "<div>\n",
       "<style scoped>\n",
       "    .dataframe tbody tr th:only-of-type {\n",
       "        vertical-align: middle;\n",
       "    }\n",
       "\n",
       "    .dataframe tbody tr th {\n",
       "        vertical-align: top;\n",
       "    }\n",
       "\n",
       "    .dataframe thead th {\n",
       "        text-align: right;\n",
       "    }\n",
       "</style>\n",
       "<table border=\"1\" class=\"dataframe\">\n",
       "  <thead>\n",
       "    <tr style=\"text-align: right;\">\n",
       "      <th></th>\n",
       "      <th>Disponibilité alimentaire (Kcal/personne/jour)</th>\n",
       "    </tr>\n",
       "    <tr>\n",
       "      <th>Pays</th>\n",
       "      <th></th>\n",
       "    </tr>\n",
       "  </thead>\n",
       "  <tbody>\n",
       "    <tr>\n",
       "      <th>République centrafricaine</th>\n",
       "      <td>1879.0</td>\n",
       "    </tr>\n",
       "    <tr>\n",
       "      <th>Zambie</th>\n",
       "      <td>1924.0</td>\n",
       "    </tr>\n",
       "    <tr>\n",
       "      <th>Madagascar</th>\n",
       "      <td>2056.0</td>\n",
       "    </tr>\n",
       "    <tr>\n",
       "      <th>Afghanistan</th>\n",
       "      <td>2087.0</td>\n",
       "    </tr>\n",
       "    <tr>\n",
       "      <th>Haïti</th>\n",
       "      <td>2089.0</td>\n",
       "    </tr>\n",
       "    <tr>\n",
       "      <th>République populaire démocratique de Corée</th>\n",
       "      <td>2093.0</td>\n",
       "    </tr>\n",
       "    <tr>\n",
       "      <th>Tchad</th>\n",
       "      <td>2109.0</td>\n",
       "    </tr>\n",
       "    <tr>\n",
       "      <th>Zimbabwe</th>\n",
       "      <td>2113.0</td>\n",
       "    </tr>\n",
       "    <tr>\n",
       "      <th>Ouganda</th>\n",
       "      <td>2126.0</td>\n",
       "    </tr>\n",
       "    <tr>\n",
       "      <th>Timor-Leste</th>\n",
       "      <td>2129.0</td>\n",
       "    </tr>\n",
       "  </tbody>\n",
       "</table>\n",
       "</div>"
      ],
      "text/plain": [
       "                                            Disponibilité alimentaire (Kcal/personne/jour)\n",
       "Pays                                                                                      \n",
       "République centrafricaine                                                           1879.0\n",
       "Zambie                                                                              1924.0\n",
       "Madagascar                                                                          2056.0\n",
       "Afghanistan                                                                         2087.0\n",
       "Haïti                                                                               2089.0\n",
       "République populaire démocratique de Corée                                          2093.0\n",
       "Tchad                                                                               2109.0\n",
       "Zimbabwe                                                                            2113.0\n",
       "Ouganda                                                                             2126.0\n",
       "Timor-Leste                                                                         2129.0"
      ]
     },
     "execution_count": 88,
     "metadata": {},
     "output_type": "execute_result"
    },
    {
     "data": {
      "image/png": "[encoded data removed]",
      "text/plain": [
       "<Figure size 936x360 with 1 Axes>"
      ]
     },
     "metadata": {
      "needs_background": "light"
     },
     "output_type": "display_data"
    }
   ],
   "source": [
    "dispo_pays = dispo1[['Pays', 'Produit','Disponibilité alimentaire (Kcal/personne/jour)']].groupby('Pays').sum().sort_values(by='Disponibilité alimentaire (Kcal/personne/jour)', ascending =True).head(10)\n",
    "\n",
    "\n",
    "# Graphique  Pays ayant la plus disponibilité alimentaire journalière  pour habitant\n",
    "\n",
    "dispo_pays.head(10).plot.bar(rot = 90, legend =True , figsize =(13,5), width=0.85, linewidth=1, edgecolor=\"#f7bb5f\", colormap = cm.get_cmap(\"twilight\"), fontsize=14 )\n",
    "\n",
    "plt.title('Pays ayant la moins disponibilité alimentaire', fontsize=18,color = '#f7bb5f')\n",
    "plt.xlabel ('Pays',fontsize=15)\n",
    "plt.ylabel('Disponibilité alimentaire (Kcal/personne/jour) ', fontsize=15)\n",
    "plt.ylim(0, 4200)\n",
    "\n",
    "dispo_pays"
   ]
  },
  {
   "cell_type": "markdown",
   "id": "2926a3c9",
   "metadata": {},
   "source": [
    "### 4-4 Utilisation des céréales, notamment la répartition entre l’alimentation humaine (colonne Nourriture) et l’alimentation pour animaux"
   ]
  },
  {
   "cell_type": "code",
   "execution_count": 89,
   "id": "c208d921",
   "metadata": {},
   "outputs": [
    {
     "data": {
      "text/plain": [
       "Abats Comestible          174\n",
       "Fruits, Autres            174\n",
       "Poissons Eau Douce        174\n",
       "Maïs                      174\n",
       "Pommes                    174\n",
       "                         ... \n",
       "Sucre, betterave          107\n",
       "Ignames                    80\n",
       "Sucre non centrifugé       30\n",
       "Huile de Son de Riz        21\n",
       "Viande de Anim Aquatiq      3\n",
       "Name: Produit, Length: 98, dtype: int64"
      ]
     },
     "execution_count": 89,
     "metadata": {},
     "output_type": "execute_result"
    }
   ],
   "source": [
    "dispo1['Produit'].value_counts()"
   ]
  },
  {
   "cell_type": "code",
   "execution_count": 90,
   "id": "ab0d110a",
   "metadata": {},
   "outputs": [],
   "source": [
    "liste_cereales = [\"Blé et produits\", \"Riz et produits\", \"Orge et produits\", \"Maïs et produits\", \"Seigle et produits\",\n",
    "                  \"Avoine\", \"Millet et produits\", \"Sorgho et produits\", \"Céréales, Autres\"]\n"
   ]
  },
  {
   "cell_type": "code",
   "execution_count": 91,
   "id": "708121b9",
   "metadata": {
    "scrolled": true
   },
   "outputs": [
    {
     "name": "stdout",
     "output_type": "stream",
     "text": [
      "Proportion d'alimentation animale : 69.34 %\n",
      "Proportion d'alimentation humaine : 18.13 %\n"
     ]
    }
   ],
   "source": [
    "#Création d'une table ne contenant que les informations des céréales\n",
    "cereales = dispo1.loc[dispo1['Produit'].isin(liste_cereales),:]\n",
    "\n",
    "print( \"Proportion d'alimentation animale :\", \"{:.2f}\".format(cereales['Aliments pour animaux_kg'].sum()*100/cereales['Disponibilité intérieure_kg'].sum()), \"%\")\n",
    "print( \"Proportion d'alimentation humaine :\", \"{:.2f}\".format(cereales['Nourriture _kg'].sum()*100/cereales['Disponibilité intérieure_kg'].sum()), \"%\")\n"
   ]
  },
  {
   "cell_type": "code",
   "execution_count": 92,
   "id": "5d6401fd",
   "metadata": {},
   "outputs": [
    {
     "data": {
      "text/plain": [
       "array(['Céréales, Autres', 'Avoine'], dtype=object)"
      ]
     },
     "execution_count": 92,
     "metadata": {},
     "output_type": "execute_result"
    }
   ],
   "source": [
    "cereales['Produit'].unique()"
   ]
  },
  {
   "cell_type": "code",
   "execution_count": 93,
   "id": "6844119a",
   "metadata": {},
   "outputs": [
    {
     "data": {
      "image/png": "[encoded data removed]",
      "text/plain": [
       "<Figure size 1080x504 with 1 Axes>"
      ]
     },
     "metadata": {
      "needs_background": "light"
     },
     "output_type": "display_data"
    },
    {
     "data": {
      "text/html": [
       "<div>\n",
       "<style scoped>\n",
       "    .dataframe tbody tr th:only-of-type {\n",
       "        vertical-align: middle;\n",
       "    }\n",
       "\n",
       "    .dataframe tbody tr th {\n",
       "        vertical-align: top;\n",
       "    }\n",
       "\n",
       "    .dataframe thead th {\n",
       "        text-align: right;\n",
       "    }\n",
       "</style>\n",
       "<table border=\"1\" class=\"dataframe\">\n",
       "  <thead>\n",
       "    <tr style=\"text-align: right;\">\n",
       "      <th></th>\n",
       "      <th>Aliments pour animaux_kg</th>\n",
       "      <th>Nourriture _kg</th>\n",
       "    </tr>\n",
       "    <tr>\n",
       "      <th>Produit</th>\n",
       "      <th></th>\n",
       "      <th></th>\n",
       "    </tr>\n",
       "  </thead>\n",
       "  <tbody>\n",
       "    <tr>\n",
       "      <th>Avoine</th>\n",
       "      <td>1.625100e+10</td>\n",
       "      <td>3.903000e+09</td>\n",
       "    </tr>\n",
       "    <tr>\n",
       "      <th>Céréales, Autres</th>\n",
       "      <td>1.903500e+10</td>\n",
       "      <td>5.324000e+09</td>\n",
       "    </tr>\n",
       "  </tbody>\n",
       "</table>\n",
       "</div>"
      ],
      "text/plain": [
       "                  Aliments pour animaux_kg  Nourriture _kg\n",
       "Produit                                                   \n",
       "Avoine                        1.625100e+10    3.903000e+09\n",
       "Céréales, Autres              1.903500e+10    5.324000e+09"
      ]
     },
     "execution_count": 93,
     "metadata": {},
     "output_type": "execute_result"
    }
   ],
   "source": [
    "#test2\n",
    "\n",
    "\n",
    "\n",
    "cerea = cereales[['Produit', 'Aliments pour animaux_kg', 'Nourriture _kg' ]].groupby('Produit').sum().sort_values(by='Produit', ascending =True).head(10)\n",
    "\n",
    "\n",
    "\n",
    "\n",
    "ax = cerea.plot.barh( figsize=(15, 7), stacked=False,  width= 0.88,edgecolor=\"#f7bb5f\", \n",
    "                     colormap = cm.get_cmap(\"Pastel2\"), fontsize=14)\n",
    "\n",
    "ax.set_title('Repartition de céréales 2017 ', fontsize=25)  # Titulo de la grafica\n",
    "ax.set_ylabel('Produit', fontsize=20) # Titulo eje y\n",
    "ax.set_xlabel('Repartition alimentaire', fontsize=20) # Titulo eje x\n",
    "ax.legend(bbox_to_anchor=(1, 0.8), fontsize=15) #ubicación leyenda\n",
    "ax.tick_params(axis=\"x\", rotation=0, labelsize=15)\n",
    "ax.tick_params(axis=\"y\", labelsize=15)\n",
    "ax.grid(True)\n",
    "\n",
    "abs_values = cerea.values\n",
    "rel_values = abs_values / abs_values.sum(axis=1, keepdims=True) * 100\n",
    "\n",
    "labels = zip(abs_values.T.flatten(), rel_values.T.flatten())\n",
    "\n",
    "for path in ax.patches:\n",
    "    abs_value, rel_value = next(labels)\n",
    "    label = f\"{rel_value:.2f}% \"\n",
    "    width, height = path.get_width(), path.get_height()\n",
    "    x, y = path.get_xy() \n",
    "    ax.text(x=x + width / 2, \n",
    "            y=y + height / 2, \n",
    "            s=label,\n",
    "            horizontalalignment='left', \n",
    "            verticalalignment='bottom'                       \n",
    "            )\n",
    "    \n",
    "\n",
    "plt.show()  \n",
    " \n",
    "\n",
    "cerea\n",
    "\n"
   ]
  },
  {
   "cell_type": "markdown",
   "id": "e13810b0",
   "metadata": {},
   "source": [
    "###  4-5  Enfin, je me souviens d’un exemple étonnant d’utilisation du manioc par la Thaïlande aux égards de la proportion de personnes en sous-nutrition. Il serait intéressant d’aller à nouveau y jeter un coup d’œil, de mémoire ça concernait l’exportation par rapport à la production."
   ]
  },
  {
   "cell_type": "code",
   "execution_count": 94,
   "id": "58a79062",
   "metadata": {},
   "outputs": [
    {
     "data": {
      "text/html": [
       "<div>\n",
       "<style scoped>\n",
       "    .dataframe tbody tr th:only-of-type {\n",
       "        vertical-align: middle;\n",
       "    }\n",
       "\n",
       "    .dataframe tbody tr th {\n",
       "        vertical-align: top;\n",
       "    }\n",
       "\n",
       "    .dataframe thead th {\n",
       "        text-align: right;\n",
       "    }\n",
       "</style>\n",
       "<table border=\"1\" class=\"dataframe\">\n",
       "  <thead>\n",
       "    <tr style=\"text-align: right;\">\n",
       "      <th></th>\n",
       "      <th>Pays</th>\n",
       "      <th>Année</th>\n",
       "      <th>Pop</th>\n",
       "      <th>PopSN</th>\n",
       "      <th>Proportion_pays_2017</th>\n",
       "    </tr>\n",
       "  </thead>\n",
       "  <tbody>\n",
       "    <tr>\n",
       "      <th>0</th>\n",
       "      <td>Afghanistan</td>\n",
       "      <td>2017</td>\n",
       "      <td>36296113.0</td>\n",
       "      <td>10500000.0</td>\n",
       "      <td>28.93</td>\n",
       "    </tr>\n",
       "    <tr>\n",
       "      <th>1</th>\n",
       "      <td>Afrique du Sud</td>\n",
       "      <td>2017</td>\n",
       "      <td>57009756.0</td>\n",
       "      <td>3100000.0</td>\n",
       "      <td>5.44</td>\n",
       "    </tr>\n",
       "    <tr>\n",
       "      <th>2</th>\n",
       "      <td>Albanie</td>\n",
       "      <td>2017</td>\n",
       "      <td>2884169.0</td>\n",
       "      <td>100000.0</td>\n",
       "      <td>3.47</td>\n",
       "    </tr>\n",
       "    <tr>\n",
       "      <th>3</th>\n",
       "      <td>Algérie</td>\n",
       "      <td>2017</td>\n",
       "      <td>41389189.0</td>\n",
       "      <td>1300000.0</td>\n",
       "      <td>3.14</td>\n",
       "    </tr>\n",
       "    <tr>\n",
       "      <th>4</th>\n",
       "      <td>Allemagne</td>\n",
       "      <td>2017</td>\n",
       "      <td>82658409.0</td>\n",
       "      <td>0.0</td>\n",
       "      <td>0.00</td>\n",
       "    </tr>\n",
       "  </tbody>\n",
       "</table>\n",
       "</div>"
      ],
      "text/plain": [
       "             Pays  Année         Pop       PopSN  Proportion_pays_2017\n",
       "0     Afghanistan   2017  36296113.0  10500000.0                 28.93\n",
       "1  Afrique du Sud   2017  57009756.0   3100000.0                  5.44\n",
       "2         Albanie   2017   2884169.0    100000.0                  3.47\n",
       "3         Algérie   2017  41389189.0   1300000.0                  3.14\n",
       "4       Allemagne   2017  82658409.0         0.0                  0.00"
      ]
     },
     "execution_count": 94,
     "metadata": {},
     "output_type": "execute_result"
    }
   ],
   "source": [
    "proportion.head()"
   ]
  },
  {
   "cell_type": "markdown",
   "id": "8c9537e0",
   "metadata": {},
   "source": [
    "### Thaïlande aux égards de la proportion de personnes en sous-nutrition"
   ]
  },
  {
   "cell_type": "markdown",
   "id": "8afb2ca9",
   "metadata": {},
   "source": [
    "Utiliser .loc pour faire un filtre sur le dataFrame et obtenir la proportion de personnes en sous_nutrition en Thaïlande "
   ]
  },
  {
   "cell_type": "code",
   "execution_count": 95,
   "id": "285b1c8e",
   "metadata": {},
   "outputs": [
    {
     "data": {
      "text/html": [
       "<div>\n",
       "<style scoped>\n",
       "    .dataframe tbody tr th:only-of-type {\n",
       "        vertical-align: middle;\n",
       "    }\n",
       "\n",
       "    .dataframe tbody tr th {\n",
       "        vertical-align: top;\n",
       "    }\n",
       "\n",
       "    .dataframe thead th {\n",
       "        text-align: right;\n",
       "    }\n",
       "</style>\n",
       "<table border=\"1\" class=\"dataframe\">\n",
       "  <thead>\n",
       "    <tr style=\"text-align: right;\">\n",
       "      <th></th>\n",
       "      <th>Pays</th>\n",
       "      <th>Année</th>\n",
       "      <th>Pop</th>\n",
       "      <th>PopSN</th>\n",
       "      <th>Proportion_pays_2017</th>\n",
       "    </tr>\n",
       "  </thead>\n",
       "  <tbody>\n",
       "    <tr>\n",
       "      <th>184</th>\n",
       "      <td>Thaïlande</td>\n",
       "      <td>2017</td>\n",
       "      <td>69209810.0</td>\n",
       "      <td>6200000.0</td>\n",
       "      <td>8.96</td>\n",
       "    </tr>\n",
       "  </tbody>\n",
       "</table>\n",
       "</div>"
      ],
      "text/plain": [
       "          Pays  Année         Pop      PopSN  Proportion_pays_2017\n",
       "184  Thaïlande   2017  69209810.0  6200000.0                  8.96"
      ]
     },
     "execution_count": 95,
     "metadata": {},
     "output_type": "execute_result"
    }
   ],
   "source": [
    "proportion.loc[proportion['Pays']=='Thaïlande']"
   ]
  },
  {
   "cell_type": "markdown",
   "id": "44dde61d",
   "metadata": {},
   "source": [
    "### Exportation du manioc par rapport à la production "
   ]
  },
  {
   "cell_type": "markdown",
   "id": "35930eb2",
   "metadata": {},
   "source": [
    "Exportation du manioc par rapport à la production avec le filtre .loc"
   ]
  },
  {
   "cell_type": "code",
   "execution_count": 96,
   "id": "f0bdb7c2",
   "metadata": {},
   "outputs": [
    {
     "name": "stdout",
     "output_type": "stream",
     "text": [
      "Proportion de l'exportation du manioc : 83.00 %\n"
     ]
    }
   ],
   "source": [
    "manioc1 =dispo1.loc[(dispo1['Produit']=='Manioc' ) & (dispo1['Pays']=='Thaïlande'), ['Production_kg', 'Exportations- Quantité_kg']]\n",
    "\n",
    "Expo_manioc = round((manioc1 ['Exportations- Quantité_kg'].sum()  / manioc1['Production_kg'].sum()*100))\n",
    "\n",
    "print (\"Proportion de l'exportation du manioc :\", \"{:.2f}\".format(Expo_manioc), \"%\")  "
   ]
  }
 ],
 "metadata": {
  "kernelspec": {
   "display_name": "Python 3 (ipykernel)",
   "language": "python",
   "name": "python3"
  },
  "language_info": {
   "codemirror_mode": {
    "name": "ipython",
    "version": 3
   },
   "file_extension": ".py",
   "mimetype": "text/x-python",
   "name": "python",
   "nbconvert_exporter": "python",
   "pygments_lexer": "ipython3",
   "version": "3.9.7"
  }
 },
 "nbformat": 4,
 "nbformat_minor": 5
}
